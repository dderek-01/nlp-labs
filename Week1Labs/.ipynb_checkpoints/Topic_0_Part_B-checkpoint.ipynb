{
 "cells": [
  {
   "cell_type": "markdown",
   "metadata": {},
   "source": [
    "# Topic 0: Introduction to Python - Part 1"
   ]
  },
  {
   "cell_type": "markdown",
   "metadata": {},
   "source": [
    "This is an Jupyter notebook, a web-based interactive computational environment. \n",
    "- Cells can contain markdown or code. \n",
    "- To run a code cell, press shift+Enter. \n",
    "- Jupyter will print the output from a cell, beneath it.\n",
    "\n",
    "This session is designed to give you the working knowledge of Python necessary to complete the lab sessions for Natural Language Engineering. \n",
    "\n",
    "- Run all of the code cells as you work through the notebook. \n",
    "- Try to understand what is happening in each code cell and predict the output before running it.\n",
    "- Complete all of the exercises.\n",
    "- Solutions to all exercises are provided, but please avoid loading the solution until you have had a go at solving it yourself.\n"
   ]
  },
  {
   "cell_type": "markdown",
   "metadata": {},
   "source": [
    "Run the following cell twice, first to load some set up code, then again to run the code."
   ]
  },
  {
   "cell_type": "code",
   "execution_count": null,
   "metadata": {
    "collapsed": true
   },
   "outputs": [],
   "source": [
    "%load ../setup"
   ]
  },
  {
   "cell_type": "markdown",
   "metadata": {},
   "source": [
    "## Python types"
   ]
  },
  {
   "cell_type": "markdown",
   "metadata": {},
   "source": [
    "### String\n",
    "Strings are enclosed in double or single quotes in Python."
   ]
  },
  {
   "cell_type": "code",
   "execution_count": null,
   "metadata": {
    "collapsed": true
   },
   "outputs": [],
   "source": [
    "print('Hello World')"
   ]
  },
  {
   "cell_type": "code",
   "execution_count": null,
   "metadata": {
    "collapsed": true
   },
   "outputs": [],
   "source": [
    "print(\"Hello World\")"
   ]
  },
  {
   "cell_type": "code",
   "execution_count": null,
   "metadata": {
    "collapsed": true
   },
   "outputs": [],
   "source": [
    "# This is a comment (# at the beginning of the line)\n",
    "# Note that a string enclosed in double quotes can contain single quotes as part of the string:\n",
    "print(\"'A reader lives a thousand lives before he dies,' said Jojen. 'The man who never reads lives only one.'\")"
   ]
  },
  {
   "cell_type": "code",
   "execution_count": null,
   "metadata": {
    "collapsed": true
   },
   "outputs": [],
   "source": [
    "# ...and a string enclosed in single quotes can contain double quotes as part of the string:\n",
    "print('\"A reader lives a thousand lives before he dies,\" said Jojen. \"The man who never reads lives only one.\"')"
   ]
  },
  {
   "cell_type": "markdown",
   "metadata": {},
   "source": [
    "As an alternative to using the explicit `print` function, when a cell is run, Python will print the value of the last line of code in a cell. Try running the following cell."
   ]
  },
  {
   "cell_type": "code",
   "execution_count": null,
   "metadata": {
    "collapsed": true
   },
   "outputs": [],
   "source": [
    "\"Hello World\"\n",
    "'\"A reader lives a thousand lives before he dies,\" said Jojen. \"The man who never reads lives only one.\"'"
   ]
  },
  {
   "cell_type": "markdown",
   "metadata": {},
   "source": [
    "### Integer"
   ]
  },
  {
   "cell_type": "code",
   "execution_count": null,
   "metadata": {
    "collapsed": true
   },
   "outputs": [],
   "source": [
    "75"
   ]
  },
  {
   "cell_type": "markdown",
   "metadata": {},
   "source": [
    "### Float"
   ]
  },
  {
   "cell_type": "code",
   "execution_count": null,
   "metadata": {
    "collapsed": true
   },
   "outputs": [],
   "source": [
    "6.3646"
   ]
  },
  {
   "cell_type": "markdown",
   "metadata": {},
   "source": [
    "When a string contains just digits, the function `int` will **cast** that string to an integer."
   ]
  },
  {
   "cell_type": "code",
   "execution_count": null,
   "metadata": {
    "collapsed": true
   },
   "outputs": [],
   "source": [
    "# give the type of the string '623'\n",
    "type('623')"
   ]
  },
  {
   "cell_type": "code",
   "execution_count": null,
   "metadata": {
    "collapsed": true
   },
   "outputs": [],
   "source": [
    "# cast the string '623' to an integer\n",
    "int('623')"
   ]
  },
  {
   "cell_type": "code",
   "execution_count": null,
   "metadata": {
    "collapsed": true
   },
   "outputs": [],
   "source": [
    "# give the type that results from casting the string '623' to an integer.\n",
    "type(int('623'))"
   ]
  },
  {
   "cell_type": "markdown",
   "metadata": {},
   "source": [
    "## Basic operations"
   ]
  },
  {
   "cell_type": "markdown",
   "metadata": {},
   "source": [
    "Strings can be joined using `+`"
   ]
  },
  {
   "cell_type": "code",
   "execution_count": null,
   "metadata": {
    "collapsed": true
   },
   "outputs": [],
   "source": [
    "\"Hello \" + \"World\""
   ]
  },
  {
   "cell_type": "markdown",
   "metadata": {},
   "source": [
    "Standard operators are used on integers and floats: `+`, `-`, `*`, and `/`."
   ]
  },
  {
   "cell_type": "code",
   "execution_count": null,
   "metadata": {
    "collapsed": true
   },
   "outputs": [],
   "source": [
    "7 - 3 + 5"
   ]
  },
  {
   "cell_type": "code",
   "execution_count": null,
   "metadata": {
    "collapsed": true
   },
   "outputs": [],
   "source": [
    "3.5*8/4"
   ]
  },
  {
   "cell_type": "markdown",
   "metadata": {},
   "source": [
    "If we want to use floor division (rounded down to nearest integer) use `//`."
   ]
  },
  {
   "cell_type": "code",
   "execution_count": null,
   "metadata": {
    "collapsed": true
   },
   "outputs": [],
   "source": [
    "7//2"
   ]
  },
  {
   "cell_type": "markdown",
   "metadata": {},
   "source": [
    "Use `**` for exponentiation - e.g. `3**2 = 3^2`."
   ]
  },
  {
   "cell_type": "code",
   "execution_count": null,
   "metadata": {
    "collapsed": true
   },
   "outputs": [],
   "source": [
    "# This is equivalent to 2*2*2*2*2\n",
    "2**5"
   ]
  },
  {
   "cell_type": "markdown",
   "metadata": {},
   "source": [
    "Use double equals, `==`, to check equality."
   ]
  },
  {
   "cell_type": "code",
   "execution_count": null,
   "metadata": {
    "collapsed": true
   },
   "outputs": [],
   "source": [
    "5*4 == 2*10"
   ]
  },
  {
   "cell_type": "markdown",
   "metadata": {},
   "source": [
    "Modulo operator `%` returns the remainder after integer division.  \n",
    "e.g. 13/5 = 2 with 3 leftover, so `13%5=3`."
   ]
  },
  {
   "cell_type": "code",
   "execution_count": null,
   "metadata": {
    "collapsed": true
   },
   "outputs": [],
   "source": [
    "7%3"
   ]
  },
  {
   "cell_type": "code",
   "execution_count": null,
   "metadata": {
    "collapsed": true
   },
   "outputs": [],
   "source": [
    "4 % 2"
   ]
  },
  {
   "cell_type": "markdown",
   "metadata": {},
   "source": [
    "## Python error reports\n",
    "e.g. when attempting to join a **string** and an **integer**"
   ]
  },
  {
   "cell_type": "code",
   "execution_count": null,
   "metadata": {
    "collapsed": true
   },
   "outputs": [],
   "source": [
    "\"Hello\" + 3"
   ]
  },
  {
   "cell_type": "markdown",
   "metadata": {},
   "source": [
    "### Exercise\n",
    "In the empty cell below write a single line Python expression to print \"Hello world! My name is\", joined with another string containing your name"
   ]
  },
  {
   "cell_type": "code",
   "execution_count": null,
   "metadata": {
    "collapsed": true
   },
   "outputs": [],
   "source": []
  },
  {
   "cell_type": "code",
   "execution_count": null,
   "metadata": {
    "collapsed": true
   },
   "outputs": [],
   "source": [
    "# uncomment the next line and then run the cell to load a solution\n",
    "# %load ../Solutions/0/hello"
   ]
  },
  {
   "cell_type": "markdown",
   "metadata": {},
   "source": [
    "## Python identifiers\n",
    "Assign a variable name to any value (eg string, integer, float) using a single equals sign."
   ]
  },
  {
   "cell_type": "code",
   "execution_count": null,
   "metadata": {
    "collapsed": true
   },
   "outputs": [],
   "source": [
    "student_name = \"Adam\"\n",
    "student_name"
   ]
  },
  {
   "cell_type": "code",
   "execution_count": null,
   "metadata": {
    "collapsed": true
   },
   "outputs": [],
   "source": [
    "student_age = 21\n",
    "student_age"
   ]
  },
  {
   "cell_type": "markdown",
   "metadata": {},
   "source": [
    "Operations can be carried out as before, using the variable names."
   ]
  },
  {
   "cell_type": "code",
   "execution_count": null,
   "metadata": {
    "collapsed": true
   },
   "outputs": [],
   "source": [
    "student_age/2"
   ]
  },
  {
   "cell_type": "markdown",
   "metadata": {},
   "source": [
    "We can update values associated with a variable using the operators `+=` , `-=` , `/=`, and `*=`.\n",
    "\n",
    "- For example, `+=` adds the number on the right to the current value.\n",
    "\n",
    "This is a useful shortcut - take your time to play around and familiarise yourself with this syntax."
   ]
  },
  {
   "cell_type": "code",
   "execution_count": null,
   "metadata": {
    "collapsed": true
   },
   "outputs": [],
   "source": [
    "#Note that each time you run this cell, it will add 5 to the stored value.\n",
    "student_age += 5\n",
    "student_age"
   ]
  },
  {
   "cell_type": "code",
   "execution_count": null,
   "metadata": {
    "collapsed": true
   },
   "outputs": [],
   "source": [
    "age_next_year=student_age+1\n",
    "age_next_year"
   ]
  },
  {
   "cell_type": "markdown",
   "metadata": {},
   "source": [
    "### Exercise\n",
    "In the cell below, assign appropriate values to the variables `my_name`, `my_age`, and `years_at_sussex`."
   ]
  },
  {
   "cell_type": "code",
   "execution_count": null,
   "metadata": {
    "collapsed": true
   },
   "outputs": [],
   "source": []
  },
  {
   "cell_type": "code",
   "execution_count": null,
   "metadata": {
    "collapsed": true
   },
   "outputs": [],
   "source": [
    "# uncomment the next line and then run the cell to load a solution\n",
    "# %load ../Solutions/0/age"
   ]
  },
  {
   "cell_type": "markdown",
   "metadata": {},
   "source": [
    "### Exercise\n",
    "In the cell below subtract `years_at_sussex` from `my_age` and assign this value to a new variable called `age_started_sussex`."
   ]
  },
  {
   "cell_type": "code",
   "execution_count": null,
   "metadata": {
    "collapsed": true
   },
   "outputs": [],
   "source": []
  },
  {
   "cell_type": "code",
   "execution_count": null,
   "metadata": {
    "collapsed": true
   },
   "outputs": [],
   "source": [
    "# uncomment the next line and then run the cell to load a solution\n",
    "# %load ../Solutions/0/age_started"
   ]
  },
  {
   "cell_type": "markdown",
   "metadata": {},
   "source": [
    "### Exercise\n",
    "In the cell below practice using the `**`,  `+=` , `-=`, `/=`, and `\\*=` operators to update these values."
   ]
  },
  {
   "cell_type": "code",
   "execution_count": null,
   "metadata": {
    "collapsed": true
   },
   "outputs": [],
   "source": []
  },
  {
   "cell_type": "markdown",
   "metadata": {},
   "source": [
    "## Dynamic typing\n",
    "The `type` function is used to get an object's type: `int` for integer, `str` for string, etc."
   ]
  },
  {
   "cell_type": "code",
   "execution_count": null,
   "metadata": {
    "collapsed": true
   },
   "outputs": [],
   "source": [
    "type(student_name)"
   ]
  },
  {
   "cell_type": "code",
   "execution_count": null,
   "metadata": {
    "collapsed": true
   },
   "outputs": [],
   "source": [
    "type(student_age)"
   ]
  },
  {
   "cell_type": "markdown",
   "metadata": {},
   "source": [
    "As Python has dynamic typing, if a variable name is assigned to a new value of different type, the variable's type will change accordingly."
   ]
  },
  {
   "cell_type": "code",
   "execution_count": null,
   "metadata": {
    "collapsed": true
   },
   "outputs": [],
   "source": [
    "student_age = \"Twenty\"\n",
    "type(student_age)"
   ]
  },
  {
   "cell_type": "markdown",
   "metadata": {},
   "source": [
    "### Exercise\n",
    "In the cell below reassign your `my_age` and `years_at_sussex` `int` variables to `string` giving the number in words. Print the type of these variables before and after."
   ]
  },
  {
   "cell_type": "code",
   "execution_count": null,
   "metadata": {
    "collapsed": true
   },
   "outputs": [],
   "source": []
  },
  {
   "cell_type": "code",
   "execution_count": null,
   "metadata": {
    "collapsed": true
   },
   "outputs": [],
   "source": [
    "# uncomment the next line and then run the cell to load a solution\n",
    "# %load ../Solutions/0/dynamic_typing"
   ]
  },
  {
   "cell_type": "markdown",
   "metadata": {},
   "source": [
    "## Lists"
   ]
  },
  {
   "cell_type": "markdown",
   "metadata": {},
   "source": [
    "Lists are initialised using square brackets, with objects separated by commas."
   ]
  },
  {
   "cell_type": "code",
   "execution_count": null,
   "metadata": {
    "collapsed": true
   },
   "outputs": [],
   "source": [
    "primes = [2, 3, 5, 7, 11]\n",
    "type(primes)"
   ]
  },
  {
   "cell_type": "markdown",
   "metadata": {},
   "source": [
    "Lists can contain any data type."
   ]
  },
  {
   "cell_type": "code",
   "execution_count": null,
   "metadata": {
    "collapsed": true
   },
   "outputs": [],
   "source": [
    "list_of_strings =['string','another string','a third string']\n",
    "list_of_strings"
   ]
  },
  {
   "cell_type": "markdown",
   "metadata": {},
   "source": [
    "'Empty' lists with no elements can also be initialised."
   ]
  },
  {
   "cell_type": "code",
   "execution_count": null,
   "metadata": {
    "collapsed": true
   },
   "outputs": [],
   "source": [
    "empty_list = []"
   ]
  },
  {
   "cell_type": "markdown",
   "metadata": {},
   "source": [
    "Indexing into lists uses square brackets.\n",
    "- Note that indexing starts from zero."
   ]
  },
  {
   "cell_type": "code",
   "execution_count": null,
   "metadata": {
    "collapsed": true
   },
   "outputs": [],
   "source": [
    "primes[0]"
   ]
  },
  {
   "cell_type": "markdown",
   "metadata": {},
   "source": [
    "A colon, `:`, can be used to take a slice of list between two indices.\n",
    "- Note that this will start from the first index, up to but NOT including the second index."
   ]
  },
  {
   "cell_type": "code",
   "execution_count": null,
   "metadata": {
    "collapsed": true
   },
   "outputs": [],
   "source": [
    "primes[1:3]"
   ]
  },
  {
   "cell_type": "markdown",
   "metadata": {},
   "source": [
    "If either index is omitted, the slice will go to the beginning/end of the list."
   ]
  },
  {
   "cell_type": "code",
   "execution_count": null,
   "metadata": {
    "collapsed": true
   },
   "outputs": [],
   "source": [
    "primes[:3]"
   ]
  },
  {
   "cell_type": "markdown",
   "metadata": {},
   "source": [
    "To index from the end of the list use negative numbers."
   ]
  },
  {
   "cell_type": "markdown",
   "metadata": {},
   "source": []
  },
  {
   "cell_type": "code",
   "execution_count": null,
   "metadata": {
    "collapsed": true
   },
   "outputs": [],
   "source": [
    "primes[-1]"
   ]
  },
  {
   "cell_type": "code",
   "execution_count": null,
   "metadata": {
    "collapsed": true
   },
   "outputs": [],
   "source": [
    "primes[-2:]"
   ]
  },
  {
   "cell_type": "markdown",
   "metadata": {},
   "source": [
    "To test for list membership use the keyword `in`."
   ]
  },
  {
   "cell_type": "code",
   "execution_count": null,
   "metadata": {
    "collapsed": true
   },
   "outputs": [],
   "source": [
    "5 in primes"
   ]
  },
  {
   "cell_type": "code",
   "execution_count": null,
   "metadata": {
    "collapsed": true
   },
   "outputs": [],
   "source": [
    "6 in primes"
   ]
  },
  {
   "cell_type": "markdown",
   "metadata": {},
   "source": [
    "The function `len` gives the length of a list."
   ]
  },
  {
   "cell_type": "code",
   "execution_count": null,
   "metadata": {
    "collapsed": true
   },
   "outputs": [],
   "source": [
    "len(primes)"
   ]
  },
  {
   "cell_type": "markdown",
   "metadata": {},
   "source": [
    "To append an element to a list use `append`."
   ]
  },
  {
   "cell_type": "code",
   "execution_count": null,
   "metadata": {
    "collapsed": true
   },
   "outputs": [],
   "source": [
    "primes.append(13)"
   ]
  },
  {
   "cell_type": "code",
   "execution_count": null,
   "metadata": {
    "collapsed": true
   },
   "outputs": [],
   "source": [
    "primes.append(17)"
   ]
  },
  {
   "cell_type": "code",
   "execution_count": null,
   "metadata": {
    "collapsed": true
   },
   "outputs": [],
   "source": [
    "primes"
   ]
  },
  {
   "cell_type": "markdown",
   "metadata": {},
   "source": [
    "Using `append` with a list as parameter adds the list as a single element - producing a list that contains a list as its last element."
   ]
  },
  {
   "cell_type": "code",
   "execution_count": null,
   "metadata": {
    "collapsed": true
   },
   "outputs": [],
   "source": [
    "primes = [2, 3, 5, 7, 11, 13]\n",
    "primes.append([17,19])\n",
    "primes"
   ]
  },
  {
   "cell_type": "markdown",
   "metadata": {},
   "source": [
    "When we want to add the elements of one list individually to another list, use the `+=` operator to concatenate the two lists."
   ]
  },
  {
   "cell_type": "code",
   "execution_count": null,
   "metadata": {
    "collapsed": true
   },
   "outputs": [],
   "source": [
    "primes = [2, 3, 5, 7, 11, 13]\n",
    "primes += [17,19]\n",
    "primes"
   ]
  },
  {
   "cell_type": "markdown",
   "metadata": {},
   "source": [
    "To write a for loop that iterates over a list use keywords `for` and `in`, `:`, and indentation to indicate the scope of the body of the loop."
   ]
  },
  {
   "cell_type": "code",
   "execution_count": null,
   "metadata": {
    "collapsed": true
   },
   "outputs": [],
   "source": [
    "for prime in primes:\n",
    "    print(prime,\"is a prime\")"
   ]
  },
  {
   "cell_type": "markdown",
   "metadata": {},
   "source": [
    "### Exercise\n",
    "In the cell below initialise the variable `squares` to be a list of the square numbers from 1 to 16 inclusive."
   ]
  },
  {
   "cell_type": "code",
   "execution_count": null,
   "metadata": {
    "collapsed": true
   },
   "outputs": [],
   "source": []
  },
  {
   "cell_type": "code",
   "execution_count": null,
   "metadata": {
    "collapsed": true
   },
   "outputs": [],
   "source": [
    "# uncomment the next line and then run the cell to load a solution\n",
    "# %load ../Solutions/0/squares"
   ]
  },
  {
   "cell_type": "markdown",
   "metadata": {},
   "source": [
    "### Exercise\n",
    "In the cell below append the next square number to the list `squares`."
   ]
  },
  {
   "cell_type": "code",
   "execution_count": null,
   "metadata": {
    "collapsed": true
   },
   "outputs": [],
   "source": []
  },
  {
   "cell_type": "code",
   "execution_count": null,
   "metadata": {
    "collapsed": true
   },
   "outputs": [],
   "source": [
    "# uncomment the next line and then run the cell to load a solution\n",
    "# %load ../Solutions/0/extend_squares"
   ]
  },
  {
   "cell_type": "markdown",
   "metadata": {},
   "source": [
    "### Exercise\n",
    "In the cell below make a list of the next two square numbers and concatenate this with `squares`."
   ]
  },
  {
   "cell_type": "code",
   "execution_count": null,
   "metadata": {
    "collapsed": true
   },
   "outputs": [],
   "source": []
  },
  {
   "cell_type": "code",
   "execution_count": null,
   "metadata": {
    "collapsed": true
   },
   "outputs": [],
   "source": [
    "# uncomment the next line and then run the cell to load a solution\n",
    "# %load ../Solutions/0/more_squares"
   ]
  },
  {
   "cell_type": "markdown",
   "metadata": {},
   "source": [
    "### Exercise\n",
    "In the cell  below check how many items are in the list now."
   ]
  },
  {
   "cell_type": "code",
   "execution_count": null,
   "metadata": {
    "collapsed": true
   },
   "outputs": [],
   "source": []
  },
  {
   "cell_type": "code",
   "execution_count": null,
   "metadata": {
    "collapsed": true
   },
   "outputs": [],
   "source": [
    "# uncomment the next line and then run the cell to load a solution\n",
    "# %load ../Solutions/0/squares_length"
   ]
  },
  {
   "cell_type": "markdown",
   "metadata": {},
   "source": [
    "### Exercise\n",
    "In the cell below use indexing to print just the first 3 and last 3 items in the list `squares`"
   ]
  },
  {
   "cell_type": "code",
   "execution_count": null,
   "metadata": {
    "collapsed": true
   },
   "outputs": [],
   "source": []
  },
  {
   "cell_type": "code",
   "execution_count": null,
   "metadata": {
    "collapsed": true
   },
   "outputs": [],
   "source": [
    "# uncomment the next line and then run the cell to load a solution\n",
    "# %load ../Solutions/0/first_last_three"
   ]
  },
  {
   "cell_type": "markdown",
   "metadata": {},
   "source": [
    "### Exercise\n",
    "In the cell below, use a `for` loop to print each item in the list `squares` on its own line, as part of a sentence. The output should like like this:\n",
    "```\n",
    "The first square in the list is  1\n",
    "The next square in the list is  4\n",
    "The next square in the list is  9\n",
    "The next square in the list is  16\n",
    "The next square in the list is  25\n",
    "The next square in the list is  36\n",
    "The last square in the list is  49\n",
    "```"
   ]
  },
  {
   "cell_type": "code",
   "execution_count": null,
   "metadata": {
    "collapsed": true
   },
   "outputs": [],
   "source": []
  },
  {
   "cell_type": "code",
   "execution_count": null,
   "metadata": {
    "collapsed": true
   },
   "outputs": [],
   "source": [
    "# uncomment the next line and then run the cell to load a solution\n",
    "# %load ../Solutions/0/print_squares"
   ]
  },
  {
   "cell_type": "markdown",
   "metadata": {},
   "source": [
    "## Strings"
   ]
  },
  {
   "cell_type": "code",
   "execution_count": null,
   "metadata": {
    "collapsed": true
   },
   "outputs": [],
   "source": [
    "# Here we asign a string \"Hello World\" as the value a variable called hello_world\n",
    "hello_world = \"Hello World\""
   ]
  },
  {
   "cell_type": "markdown",
   "metadata": {
    "collapsed": true
   },
   "source": [
    "String indexing is similar to list indexing, but works on a character-by-character basis."
   ]
  },
  {
   "cell_type": "code",
   "execution_count": null,
   "metadata": {
    "collapsed": true
   },
   "outputs": [],
   "source": [
    "hello_world[0]"
   ]
  },
  {
   "cell_type": "code",
   "execution_count": null,
   "metadata": {
    "collapsed": true
   },
   "outputs": [],
   "source": [
    "hello_world[7]"
   ]
  },
  {
   "cell_type": "code",
   "execution_count": null,
   "metadata": {
    "collapsed": true
   },
   "outputs": [],
   "source": [
    "hello_world[-3:]"
   ]
  },
  {
   "cell_type": "code",
   "execution_count": null,
   "metadata": {
    "collapsed": true
   },
   "outputs": [],
   "source": [
    "hello_world[-6]"
   ]
  },
  {
   "cell_type": "markdown",
   "metadata": {},
   "source": [
    "Test for substring presence using the keyword `in`."
   ]
  },
  {
   "cell_type": "code",
   "execution_count": null,
   "metadata": {
    "collapsed": true
   },
   "outputs": [],
   "source": [
    "\"w\" in hello_world"
   ]
  },
  {
   "cell_type": "code",
   "execution_count": null,
   "metadata": {
    "collapsed": true
   },
   "outputs": [],
   "source": [
    "\"W\" in hello_world"
   ]
  },
  {
   "cell_type": "code",
   "execution_count": null,
   "metadata": {
    "collapsed": true
   },
   "outputs": [],
   "source": [
    "\"llo\" in hello_world"
   ]
  },
  {
   "cell_type": "markdown",
   "metadata": {},
   "source": [
    "Find the length of a list using `len`.\n",
    "\n",
    "Note that the output value is a count including spaces, tabs and non-alphanumeric characters."
   ]
  },
  {
   "cell_type": "code",
   "execution_count": null,
   "metadata": {
    "collapsed": true
   },
   "outputs": [],
   "source": [
    "len(hello_world)"
   ]
  },
  {
   "cell_type": "code",
   "execution_count": null,
   "metadata": {
    "collapsed": true
   },
   "outputs": [],
   "source": [
    "hello_world+=\"!\"\n",
    "hello_world"
   ]
  },
  {
   "cell_type": "code",
   "execution_count": null,
   "metadata": {
    "collapsed": true
   },
   "outputs": [],
   "source": [
    "len(hello_world)"
   ]
  },
  {
   "cell_type": "markdown",
   "metadata": {},
   "source": [
    "Iterating over a string involves similar syntax to list iteration, but works on a character-by-character basis."
   ]
  },
  {
   "cell_type": "code",
   "execution_count": null,
   "metadata": {
    "collapsed": true,
    "scrolled": true
   },
   "outputs": [],
   "source": [
    "for char in hello_world:\n",
    "    print (\"the character >>>\", char, \"<<< is present\")"
   ]
  },
  {
   "cell_type": "markdown",
   "metadata": {},
   "source": [
    "Parsing a string into words uses the `split` method which returns a list of tokens in a sentence. \n",
    "\n",
    "By default, it separates based on whitespace."
   ]
  },
  {
   "cell_type": "code",
   "execution_count": null,
   "metadata": {
    "collapsed": true
   },
   "outputs": [],
   "source": [
    "sentence = \"This is a sample sentence\"\n",
    "words = sentence.split()\n",
    "print(words)"
   ]
  },
  {
   "cell_type": "markdown",
   "metadata": {},
   "source": [
    "To check for the presence of a token in a list of words use the `in` keyword."
   ]
  },
  {
   "cell_type": "code",
   "execution_count": null,
   "metadata": {
    "collapsed": true
   },
   "outputs": [],
   "source": [
    "\"sample\" in words"
   ]
  },
  {
   "cell_type": "code",
   "execution_count": null,
   "metadata": {
    "collapsed": true
   },
   "outputs": [],
   "source": [
    "\"Hello\" in words"
   ]
  },
  {
   "cell_type": "markdown",
   "metadata": {},
   "source": [
    "### Exercise\n",
    "In the empty cell below  assign the string `\"It was the best of times, it was the worst of times\"` to the variable `opening_line`."
   ]
  },
  {
   "cell_type": "code",
   "execution_count": null,
   "metadata": {
    "collapsed": true
   },
   "outputs": [],
   "source": []
  },
  {
   "cell_type": "code",
   "execution_count": null,
   "metadata": {
    "collapsed": true
   },
   "outputs": [],
   "source": [
    "# uncomment the next line and then run the cell to load a solution\n",
    "# %load ../Solutions/0/assign_string"
   ]
  },
  {
   "cell_type": "markdown",
   "metadata": {},
   "source": [
    "### Exercise\n",
    "In the empty cell below check whether 'worst' appears in opening_line."
   ]
  },
  {
   "cell_type": "code",
   "execution_count": null,
   "metadata": {
    "collapsed": true
   },
   "outputs": [],
   "source": []
  },
  {
   "cell_type": "code",
   "execution_count": null,
   "metadata": {
    "collapsed": true
   },
   "outputs": [],
   "source": [
    "# uncomment the next line and then run the cell to load a solution\n",
    "# %load ../Solutions/0/worst_in"
   ]
  },
  {
   "cell_type": "markdown",
   "metadata": {},
   "source": [
    "### Exercise\n",
    "In the empty cell below make a list of the words in `opening_line`, assigned to the variable `dickens_words`, and iterate over `dickens_words`, printing one word per line."
   ]
  },
  {
   "cell_type": "code",
   "execution_count": null,
   "metadata": {
    "collapsed": true
   },
   "outputs": [],
   "source": []
  },
  {
   "cell_type": "code",
   "execution_count": null,
   "metadata": {
    "collapsed": true
   },
   "outputs": [],
   "source": [
    "# uncomment the next line and then run the cell to load a solution\n",
    "# %load ../Solutions/0/print_sentence"
   ]
  },
  {
   "cell_type": "markdown",
   "metadata": {},
   "source": [
    "### Exercise\n",
    "In the empty cell below check whether `'blurst'` appears in the list you made."
   ]
  },
  {
   "cell_type": "code",
   "execution_count": null,
   "metadata": {
    "collapsed": true
   },
   "outputs": [],
   "source": []
  },
  {
   "cell_type": "code",
   "execution_count": null,
   "metadata": {
    "collapsed": true
   },
   "outputs": [],
   "source": [
    "# uncomment the next line and then run the cell to load a solution\n",
    "# %load ../Solutions/0/blurst_check"
   ]
  },
  {
   "cell_type": "markdown",
   "metadata": {},
   "source": [
    "## Functions\n",
    "Functions are defined using the keyword `def`, followed by a function name, and a list of parameters in parentheses. Don't forget the `:` after the closing parenthesis.\n",
    "\n",
    "The body of the function starts on the next line, and must be indented."
   ]
  },
  {
   "cell_type": "code",
   "execution_count": null,
   "metadata": {
    "collapsed": true
   },
   "outputs": [],
   "source": [
    "def double(number):\n",
    "     return(number * 2)"
   ]
  },
  {
   "cell_type": "code",
   "execution_count": null,
   "metadata": {
    "collapsed": true
   },
   "outputs": [],
   "source": [
    "double(13)"
   ]
  },
  {
   "cell_type": "code",
   "execution_count": null,
   "metadata": {
    "collapsed": true
   },
   "outputs": [],
   "source": [
    "type(double)"
   ]
  },
  {
   "cell_type": "code",
   "execution_count": null,
   "metadata": {
    "collapsed": true
   },
   "outputs": [],
   "source": [
    "def add_question_mark(string):\n",
    "    return string + \"?\""
   ]
  },
  {
   "cell_type": "code",
   "execution_count": null,
   "metadata": {
    "collapsed": true
   },
   "outputs": [],
   "source": [
    "add_question_mark(\"what's your name\")"
   ]
  },
  {
   "cell_type": "code",
   "execution_count": null,
   "metadata": {
    "collapsed": true
   },
   "outputs": [],
   "source": [
    "def print_first_half(string):\n",
    "    half_length_of_string = len(string)//2 #use floor division as indices must be integers\n",
    "    return string[:half_length_of_string]"
   ]
  },
  {
   "cell_type": "code",
   "execution_count": null,
   "metadata": {
    "collapsed": true
   },
   "outputs": [],
   "source": [
    "print_first_half('hi how are you doing?')"
   ]
  },
  {
   "cell_type": "markdown",
   "metadata": {},
   "source": [
    "### Exercise\n",
    "In the empty cell below define a function called `square` that returns an input parameter squared. \n",
    "\n",
    "Hint: check the 'basic functions' section above, for the Python syntax for exponentials."
   ]
  },
  {
   "cell_type": "code",
   "execution_count": null,
   "metadata": {
    "collapsed": true
   },
   "outputs": [],
   "source": []
  },
  {
   "cell_type": "code",
   "execution_count": null,
   "metadata": {
    "collapsed": true
   },
   "outputs": [],
   "source": [
    "# uncomment the next line and then run the cell to load a solution\n",
    "# %load ../Solutions/0/square_function"
   ]
  },
  {
   "cell_type": "markdown",
   "metadata": {},
   "source": [
    "### Exercise\n",
    "In the empty cell below define a function `makelist` that takes a sentence string as an input, and returns a list of the words in the sentence."
   ]
  },
  {
   "cell_type": "code",
   "execution_count": null,
   "metadata": {
    "collapsed": true
   },
   "outputs": [],
   "source": []
  },
  {
   "cell_type": "code",
   "execution_count": null,
   "metadata": {
    "collapsed": true
   },
   "outputs": [],
   "source": [
    "# uncomment the next line and then run the cell to load a solution\n",
    "# %load ../Solutions/0/make_list"
   ]
  },
  {
   "cell_type": "markdown",
   "metadata": {},
   "source": [
    "### Comments and docstrings\n",
    "\n",
    "Look at the code in the code cell below.\n",
    "\n",
    "- The first block of text shows how doc strings are used by convention in Python. All functions should begin with a block of documentation (docstring) of the form given by the first block in triple quotes in the programme below.\n",
    "- Comments in the code itself are introduced by a `#` either as a separate line or appended to the end of a line. Python will ignore the rest of a line after a `#`.\n",
    "\n",
    "When you type shift-enter to execute the cel the function exists in the kernel and can be called by any cell in the notebook. The function definition ends as soon as the indentation ceases (this is triggered by the comment `\"Here is the argument:\"`).  After creating the function the kernel will continue to execute contents of the cell, thereby calling the function. \n",
    "\n",
    "Notice how the programme splits a character string at carriage return characters. This works because split is an inbuilt method of the text data type. Therefore all text objects can be split in this way.\n",
    "- `\\n` is the carriage return character. \n",
    "- Use `\\t` for reading tab separated files.\n",
    "- If you leave the argument empty it will treat any string of whitespace as a delimiter to be split. This has the advantage that a double space will be treated as a single delimiter.\n",
    "\n",
    "### Exercise\n",
    "In the cell below examine the contents of the variable `sample_text` with and without the print function.\n",
    "- Notice that execution of the first cell means the variable is now in the kernel and accessible to any cell.\n",
    "- Use the same box to try printing the variable `input_text`. What happens? Why?"
   ]
  },
  {
   "cell_type": "code",
   "execution_count": null,
   "metadata": {
    "collapsed": true
   },
   "outputs": [],
   "source": [
    "\n",
    "def count_paragraphs(input_text):\n",
    "    \"\"\"\n",
    "    A paragraph is defined as the text before a CR character ie. \"\\n\"\n",
    "    Take a character string, split it into paragraphs, count them.\n",
    "    and return the counts\n",
    "    :param input_text: a character string containing paragraph marks\n",
    "    :return: integer, the number of paragraphs\n",
    "    \"\"\"\n",
    "    \n",
    "    # The following statement creates a list of strings by breaking\n",
    "    # up input_text wherever a \"\\n\" character occurs\n",
    "    \n",
    "    paragraphs = input_text.split(\"\\n\")  \n",
    "    \n",
    "    # The len() function counts the number of elements in the list\n",
    "    \n",
    "    return len(paragraphs)\n",
    "\n",
    "\n",
    "# Here is the argument:\n",
    "\n",
    "sample_text = \"This is a sample sentence01 showing 7 different token types: alphabetic, numeric, alphanumeric, Title, UPPERCASE, CamelCase and punctuation!\\nSentences like that should not exist. They're too artificial.\\nA REAL sentence looks different. It has flavour to it. You can smell it; it's like Pythonic code, you know?\\nHave you heard of 'code smell'? Google it if you haven't.\"\n",
    "print (sample_text)\n",
    "\n",
    "# Here is the function call:\n",
    "\n",
    "print (\"Number of paragraphs: \", count_paragraphs(sample_text))\n"
   ]
  },
  {
   "cell_type": "markdown",
   "metadata": {},
   "source": [
    "### Exercise\n",
    "In the blank cell below examine the contents of the variable `sample_text` with and without the print function.\n",
    "- Notice that execution of the first cell means the variable is now in the kernel and accessible to any cell.\n",
    "- Use the same box to try printing the variable `input_text`. What happens? Why?"
   ]
  },
  {
   "cell_type": "code",
   "execution_count": null,
   "metadata": {
    "collapsed": true
   },
   "outputs": [],
   "source": []
  },
  {
   "cell_type": "markdown",
   "metadata": {},
   "source": [
    "## Classes"
   ]
  },
  {
   "cell_type": "code",
   "execution_count": null,
   "metadata": {
    "collapsed": true
   },
   "outputs": [],
   "source": [
    "#The pass statement is a null operation used here as a placeholder; class definitions would go here\n",
    "class MyClass:\n",
    "    pass"
   ]
  },
  {
   "cell_type": "code",
   "execution_count": null,
   "metadata": {
    "collapsed": true
   },
   "outputs": [],
   "source": [
    "MyClass"
   ]
  },
  {
   "cell_type": "code",
   "execution_count": null,
   "metadata": {
    "collapsed": true
   },
   "outputs": [],
   "source": [
    "type(MyClass)"
   ]
  },
  {
   "cell_type": "markdown",
   "metadata": {},
   "source": [
    "Creating an instance of a class (remember every class defines a type)."
   ]
  },
  {
   "cell_type": "code",
   "execution_count": null,
   "metadata": {
    "collapsed": true
   },
   "outputs": [],
   "source": [
    "my_example = MyClass()"
   ]
  },
  {
   "cell_type": "code",
   "execution_count": null,
   "metadata": {
    "collapsed": true
   },
   "outputs": [],
   "source": [
    "my_example"
   ]
  },
  {
   "cell_type": "code",
   "execution_count": null,
   "metadata": {
    "collapsed": true
   },
   "outputs": [],
   "source": [
    "type(my_example)"
   ]
  },
  {
   "cell_type": "markdown",
   "metadata": {},
   "source": [
    "It's easy to mix types. Here is a mixed type list:"
   ]
  },
  {
   "cell_type": "code",
   "execution_count": null,
   "metadata": {
    "collapsed": true
   },
   "outputs": [],
   "source": [
    "[21, \"Brighton\", double, MyClass, my_example, []]"
   ]
  },
  {
   "cell_type": "markdown",
   "metadata": {},
   "source": [
    "## Sets  \n",
    "These are *unordered* lists of *unique* elements.\n",
    "\n",
    "Note the use of curly  brackets rather than the square brackets used for lists."
   ]
  },
  {
   "cell_type": "code",
   "execution_count": null,
   "metadata": {
    "collapsed": true
   },
   "outputs": [],
   "source": [
    "unique_numbers = {1, 2, 2, 2, 3}\n",
    "unique_numbers"
   ]
  },
  {
   "cell_type": "code",
   "execution_count": null,
   "metadata": {
    "collapsed": true
   },
   "outputs": [],
   "source": [
    "type(unique_numbers)"
   ]
  },
  {
   "cell_type": "markdown",
   "metadata": {},
   "source": [
    "To initialise an empty set, use `set()`"
   ]
  },
  {
   "cell_type": "code",
   "execution_count": null,
   "metadata": {
    "collapsed": true
   },
   "outputs": [],
   "source": [
    "new_set = set()\n",
    "type(new_set)"
   ]
  },
  {
   "cell_type": "markdown",
   "metadata": {},
   "source": [
    "To add an element to a set use the method `add`."
   ]
  },
  {
   "cell_type": "code",
   "execution_count": null,
   "metadata": {
    "collapsed": true
   },
   "outputs": [],
   "source": [
    "unique_numbers.add(5)"
   ]
  },
  {
   "cell_type": "markdown",
   "metadata": {},
   "source": [
    "Use `len` to give the number of elements in a set."
   ]
  },
  {
   "cell_type": "code",
   "execution_count": null,
   "metadata": {
    "collapsed": true
   },
   "outputs": [],
   "source": [
    "len(unique_numbers)"
   ]
  },
  {
   "cell_type": "markdown",
   "metadata": {},
   "source": [
    "To check the presence of an element in a set use the keyword `in`.\n",
    "\n",
    "Similar to the use of `in` for lists and strings."
   ]
  },
  {
   "cell_type": "code",
   "execution_count": null,
   "metadata": {
    "collapsed": true
   },
   "outputs": [],
   "source": [
    "2 in unique_numbers"
   ]
  },
  {
   "cell_type": "markdown",
   "metadata": {
    "collapsed": true
   },
   "source": [
    "Iterating over a set\n",
    "\n",
    "The syntax for iterating over a set is similar to that used when iterating over a list. \n",
    "\n",
    "Remember to use `for`, `in`, `:` and indentation."
   ]
  },
  {
   "cell_type": "code",
   "execution_count": null,
   "metadata": {
    "collapsed": true
   },
   "outputs": [],
   "source": [
    "for number in unique_numbers:\n",
    "    print(number * 3)"
   ]
  },
  {
   "cell_type": "code",
   "execution_count": null,
   "metadata": {
    "collapsed": true,
    "scrolled": true
   },
   "outputs": [],
   "source": [
    "for number in unique_numbers:\n",
    "    print (double(number))"
   ]
  },
  {
   "cell_type": "markdown",
   "metadata": {},
   "source": [
    "### Exercise\n",
    "In the empty cell below create a function called `get_vocabulary` that takes a *list* of words as input, and returns a *set* of the words in the sentence.\n",
    "\n",
    "Use your function `get_vocabulary` to create the set dickens_vocab, a set of unique words in the opening_line (see above)."
   ]
  },
  {
   "cell_type": "code",
   "execution_count": null,
   "metadata": {
    "collapsed": true
   },
   "outputs": [],
   "source": []
  },
  {
   "cell_type": "code",
   "execution_count": null,
   "metadata": {
    "collapsed": true
   },
   "outputs": [],
   "source": [
    "# uncomment the next line and then run the cell to load a solution\n",
    "# %load ../Solutions/0/get_vocabulary"
   ]
  },
  {
   "cell_type": "markdown",
   "metadata": {},
   "source": [
    "    \n",
    "The code in the next cell shows how to create a vocabulary with the set datatype."
   ]
  },
  {
   "cell_type": "code",
   "execution_count": null,
   "metadata": {
    "collapsed": true
   },
   "outputs": [],
   "source": [
    "def get_vocabulary(input_text):\n",
    "    \"\"\"\n",
    "    A word is defined as a character string delimited by\n",
    "    a space \" \" character.\n",
    "    Given an input string, split it into words and\n",
    "    return the set of unique words in the input.\n",
    "    :param input_text: Character string with some text\n",
    "    :return: The set of unique words in the input.\n",
    "    \"\"\"\n",
    "    \n",
    "    list_of_words = input_text.split()\n",
    "    \n",
    "    # The following line takes the list of words,\n",
    "    # removes repetitions and creates a set:\n",
    "\n",
    "    return set(list_of_words)\n",
    "\n",
    "# The following loop is repeated for every word in the set\n",
    "# Note that a set is just one of many iterable objects:\n",
    "\n",
    "\n",
    "for word in get_vocabulary(sample_text):\n",
    "    print (word)"
   ]
  },
  {
   "cell_type": "markdown",
   "metadata": {},
   "source": [
    "## Dictionaries\n",
    "A dictionary is an *unordered* set of key:value pairs. \n",
    "\n",
    "Keys are used to index the dictionary.\n",
    "\n",
    "The main operations are storing a value with a key, and then extracting a specific value using its key. \n",
    "\n",
    "Each key in a given dictionary must be unique. \n",
    "\n",
    "A dictionary is initialised with curly braces. This can contain comma-separated key:value pairs. \n",
    "\n",
    "Note the use of ':' to map a key to a value."
   ]
  },
  {
   "cell_type": "code",
   "execution_count": null,
   "metadata": {
    "collapsed": true
   },
   "outputs": [],
   "source": [
    "simpsons_ages = {\"Bart\":10, \"Lisa\":8, \"Homer\" : \"thirty something\"}\n",
    "simpsons_ages"
   ]
  },
  {
   "cell_type": "code",
   "execution_count": null,
   "metadata": {
    "collapsed": true
   },
   "outputs": [],
   "source": [
    "type(simpsons_ages)"
   ]
  },
  {
   "cell_type": "markdown",
   "metadata": {},
   "source": [
    "Accessing the values of keys in a dictionary"
   ]
  },
  {
   "cell_type": "code",
   "execution_count": null,
   "metadata": {
    "collapsed": true
   },
   "outputs": [],
   "source": [
    "simpsons_ages[\"Homer\"]"
   ]
  },
  {
   "cell_type": "code",
   "execution_count": null,
   "metadata": {
    "collapsed": true
   },
   "outputs": [],
   "source": [
    "simpsons_ages['Bart']"
   ]
  },
  {
   "cell_type": "markdown",
   "metadata": {},
   "source": [
    "Getting the number of elements in a dictionary.\n",
    "\n",
    "Just like getting the length of a list, we use the keyword `len`."
   ]
  },
  {
   "cell_type": "code",
   "execution_count": null,
   "metadata": {
    "collapsed": true
   },
   "outputs": [],
   "source": [
    "len(simpsons_ages)"
   ]
  },
  {
   "cell_type": "markdown",
   "metadata": {},
   "source": [
    "Checking the presence of a key in a dictionary."
   ]
  },
  {
   "cell_type": "code",
   "execution_count": null,
   "metadata": {
    "collapsed": true
   },
   "outputs": [],
   "source": [
    "\"Marge\" in simpsons_ages"
   ]
  },
  {
   "cell_type": "code",
   "execution_count": null,
   "metadata": {
    "collapsed": true
   },
   "outputs": [],
   "source": [
    "\"Bart\" in simpsons_ages"
   ]
  },
  {
   "cell_type": "markdown",
   "metadata": {},
   "source": [
    "Accessing a key that does not exist is an error."
   ]
  },
  {
   "cell_type": "code",
   "execution_count": null,
   "metadata": {
    "collapsed": true
   },
   "outputs": [],
   "source": [
    "simpsons_ages[\"Krusty\"]"
   ]
  },
  {
   "cell_type": "markdown",
   "metadata": {},
   "source": [
    "Adding a new key:value entry to the dictionary."
   ]
  },
  {
   "cell_type": "code",
   "execution_count": null,
   "metadata": {
    "collapsed": true
   },
   "outputs": [],
   "source": [
    "simpsons_ages[\"Marge\"] = 34\n",
    "simpsons_ages[\"Marge\"]"
   ]
  },
  {
   "cell_type": "markdown",
   "metadata": {},
   "source": [
    "### Exercise\n",
    "In the blank cell below add two extra key-value pairs to the dictionary, `simpons_ages`, each consisting of a name and corresponding age."
   ]
  },
  {
   "cell_type": "code",
   "execution_count": null,
   "metadata": {
    "collapsed": true
   },
   "outputs": [],
   "source": []
  },
  {
   "cell_type": "code",
   "execution_count": null,
   "metadata": {
    "collapsed": true
   },
   "outputs": [],
   "source": [
    "# uncomment the next line and then run the cell to load a solution\n",
    "# %load ../Solutions/0/more_simpsons"
   ]
  },
  {
   "cell_type": "markdown",
   "metadata": {},
   "source": [
    "Use a `for` loop to iterate over *keys* in the dictionary."
   ]
  },
  {
   "cell_type": "code",
   "execution_count": null,
   "metadata": {
    "collapsed": true
   },
   "outputs": [],
   "source": [
    "for person in simpsons_ages: \n",
    "     print (person)"
   ]
  },
  {
   "cell_type": "markdown",
   "metadata": {},
   "source": [
    "Use the `items` method to iterat over the key-value pairs of a dictionary."
   ]
  },
  {
   "cell_type": "code",
   "execution_count": null,
   "metadata": {
    "collapsed": true
   },
   "outputs": [],
   "source": [
    "for item in simpsons_ages.items():\n",
    "     print (item)"
   ]
  },
  {
   "cell_type": "code",
   "execution_count": null,
   "metadata": {
    "collapsed": true
   },
   "outputs": [],
   "source": [
    "#Note that 'person' and 'age' here are arbitary variable names, and  can be replaced with any two names eg 'key' and 'value'\n",
    "for person, age in simpsons_ages.items():\n",
    "     print(person,\" is \", age, \" years old\")"
   ]
  },
  {
   "cell_type": "markdown",
   "metadata": {
    "collapsed": true
   },
   "source": [
    "### Exercise\n",
    "In the blank cell below make a new dictionary called `polygons` where the keys are names of shapes and the values are the corresponding number of sides."
   ]
  },
  {
   "cell_type": "code",
   "execution_count": null,
   "metadata": {
    "collapsed": true
   },
   "outputs": [],
   "source": []
  },
  {
   "cell_type": "code",
   "execution_count": null,
   "metadata": {
    "collapsed": true
   },
   "outputs": [],
   "source": [
    "# uncomment the next line and then run the cell to load a solution\n",
    "# %load ../Solutions/0/polygons"
   ]
  },
  {
   "cell_type": "markdown",
   "metadata": {},
   "source": [
    "### Exercise\n",
    "In the blank cell below iterate over the keys and values, printing each key and value in a sentence (eg 'a triangle has 3 sides')."
   ]
  },
  {
   "cell_type": "code",
   "execution_count": null,
   "metadata": {
    "collapsed": true
   },
   "outputs": [],
   "source": []
  },
  {
   "cell_type": "code",
   "execution_count": null,
   "metadata": {
    "collapsed": true
   },
   "outputs": [],
   "source": [
    "# uncomment the next line and then run the cell to load a solution\n",
    "# %load ../Solutions/0/print_polygons"
   ]
  },
  {
   "cell_type": "markdown",
   "metadata": {},
   "source": [
    "We can make dictionaries that have a default value when none is specified"
   ]
  },
  {
   "cell_type": "code",
   "execution_count": null,
   "metadata": {
    "collapsed": true
   },
   "outputs": [],
   "source": [
    "# To do this, we need to use a class that is not built-in, so we import it\n",
    "import collections\n",
    "word_counts = collections.defaultdict(int)\n",
    "# the \"int\" parameter will create entries with a default value of 0\n",
    "word_counts"
   ]
  },
  {
   "cell_type": "code",
   "execution_count": null,
   "metadata": {
    "collapsed": true
   },
   "outputs": [],
   "source": [
    "type(word_counts)"
   ]
  },
  {
   "cell_type": "code",
   "execution_count": null,
   "metadata": {
    "collapsed": true
   },
   "outputs": [],
   "source": [
    "len(word_counts)"
   ]
  },
  {
   "cell_type": "code",
   "execution_count": null,
   "metadata": {
    "collapsed": true
   },
   "outputs": [],
   "source": [
    "\"This\" in word_counts"
   ]
  },
  {
   "cell_type": "code",
   "execution_count": null,
   "metadata": {
    "collapsed": true
   },
   "outputs": [],
   "source": [
    "word_counts[\"This\"]"
   ]
  },
  {
   "cell_type": "code",
   "execution_count": null,
   "metadata": {
    "collapsed": true
   },
   "outputs": [],
   "source": [
    "# an entry has been automatically created with the default value of 0, just by querying the default dictionary\n",
    "\"This\" in word_counts"
   ]
  },
  {
   "cell_type": "code",
   "execution_count": null,
   "metadata": {
    "collapsed": true
   },
   "outputs": [],
   "source": [
    "len(word_counts)"
   ]
  },
  {
   "cell_type": "code",
   "execution_count": null,
   "metadata": {
    "collapsed": true
   },
   "outputs": [],
   "source": [
    "# we can add a new entry with a value of 1\n",
    "word_counts[\"is\"] += 1\n",
    "#querying this key in the default dictionary makes an entry with the default value of 0, and we add 1 to this\n",
    "word_counts[\"is\"]"
   ]
  },
  {
   "cell_type": "code",
   "execution_count": null,
   "metadata": {
    "collapsed": true
   },
   "outputs": [],
   "source": [
    "# we can also update the value of a key\n",
    "word_counts[\"is\"] += 5\n",
    "word_counts[\"is\"]\n",
    "6"
   ]
  },
  {
   "cell_type": "markdown",
   "metadata": {},
   "source": [
    "### Exercise\n",
    "In the empty cell below write code that will print, one word per line, each word in `dickens_words` together with the number of times that word appears in `dickens_words`."
   ]
  },
  {
   "cell_type": "code",
   "execution_count": null,
   "metadata": {
    "collapsed": true
   },
   "outputs": [],
   "source": []
  },
  {
   "cell_type": "code",
   "execution_count": null,
   "metadata": {
    "collapsed": true
   },
   "outputs": [],
   "source": [
    "# uncomment the next line and then run the cell to load a solution\n",
    "# %load ../Solutions/0/print_dickens_counts "
   ]
  },
  {
   "cell_type": "markdown",
   "metadata": {},
   "source": [
    "## Files\n",
    "Files have a file path and in the cell below we use the variable `input_file_path` to hold a string that contains a file path."
   ]
  },
  {
   "cell_type": "code",
   "execution_count": null,
   "metadata": {
    "collapsed": true
   },
   "outputs": [],
   "source": [
    "#Make sure the file path points to a valid file\n",
    "#input_file_path = \"N:/nle_notebooks/sample_text.txt\"\n",
    "input_file_path = \"/Users/davidw/Documents/teach/NLE/NLE Notebooks/Topic 0/sample_text.txt\""
   ]
  },
  {
   "cell_type": "markdown",
   "metadata": {},
   "source": [
    "We now use the file path variable to *open* the file. We need to do this before reading/writing to it."
   ]
  },
  {
   "cell_type": "code",
   "execution_count": null,
   "metadata": {
    "collapsed": true
   },
   "outputs": [],
   "source": [
    "input_file = open(input_file_path)\n",
    "type(input_file)"
   ]
  },
  {
   "cell_type": "markdown",
   "metadata": {},
   "source": [
    "Use the `read` command to read the entire file contents into a `str` variable called `input_text`."
   ]
  },
  {
   "cell_type": "code",
   "execution_count": null,
   "metadata": {
    "collapsed": true
   },
   "outputs": [],
   "source": [
    "input_text = input_file.read()\n",
    "type(input_text)"
   ]
  },
  {
   "cell_type": "code",
   "execution_count": null,
   "metadata": {
    "collapsed": true
   },
   "outputs": [],
   "source": [
    "input_text"
   ]
  },
  {
   "cell_type": "markdown",
   "metadata": {},
   "source": [
    "When you are done with the file, close it."
   ]
  },
  {
   "cell_type": "code",
   "execution_count": null,
   "metadata": {
    "collapsed": true
   },
   "outputs": [],
   "source": [
    "input_file.close()"
   ]
  },
  {
   "cell_type": "markdown",
   "metadata": {},
   "source": [
    "After the file has been closed it cannot be read any more."
   ]
  },
  {
   "cell_type": "code",
   "execution_count": null,
   "metadata": {
    "collapsed": true
   },
   "outputs": [],
   "source": [
    "input_text = input_file.read()"
   ]
  },
  {
   "cell_type": "markdown",
   "metadata": {},
   "source": [
    "### Exercise\n",
    "In the blank cell below write a function, `print__word_counts` that will take a file path as an argument, open the file, then print, one word per line, each word in the file together with the number of times that word appears in the file. \n",
    "\n",
    "Test your function by running it on the `sample_text.txt`."
   ]
  },
  {
   "cell_type": "code",
   "execution_count": null,
   "metadata": {
    "collapsed": true
   },
   "outputs": [],
   "source": []
  },
  {
   "cell_type": "code",
   "execution_count": null,
   "metadata": {
    "collapsed": true
   },
   "outputs": [],
   "source": [
    "# uncomment the next line and then run the cell to load a solution\n",
    "# %load ../Solutions/0/print_word_counts"
   ]
  },
  {
   "cell_type": "markdown",
   "metadata": {},
   "source": [
    "## Tuples\n",
    "\n",
    "A tuple consists of a number of values separated by commas. These can be different types. It is initialised with parentheses, containing its objects separated by commas."
   ]
  },
  {
   "cell_type": "code",
   "execution_count": null,
   "metadata": {
    "collapsed": true
   },
   "outputs": [],
   "source": [
    "person = (\"Jon\", 14, \"jon@thewall.com\")\n",
    "person"
   ]
  },
  {
   "cell_type": "code",
   "execution_count": null,
   "metadata": {
    "collapsed": true
   },
   "outputs": [],
   "source": [
    "type(person)"
   ]
  },
  {
   "cell_type": "markdown",
   "metadata": {},
   "source": [
    "Use `len` to count the number of elements in a tuple."
   ]
  },
  {
   "cell_type": "code",
   "execution_count": null,
   "metadata": {
    "collapsed": true
   },
   "outputs": [],
   "source": [
    "len(person)"
   ]
  },
  {
   "cell_type": "markdown",
   "metadata": {},
   "source": [
    "Indexing into a tuple is similarly to indexing into a list."
   ]
  },
  {
   "cell_type": "code",
   "execution_count": null,
   "metadata": {
    "collapsed": true
   },
   "outputs": [],
   "source": [
    "person[0]"
   ]
  },
  {
   "cell_type": "code",
   "execution_count": null,
   "metadata": {
    "collapsed": true
   },
   "outputs": [],
   "source": [
    "person[-2:]"
   ]
  },
  {
   "cell_type": "markdown",
   "metadata": {},
   "source": [
    "It can be useful to use tuples as values in dictionaries."
   ]
  },
  {
   "cell_type": "code",
   "execution_count": null,
   "metadata": {
    "collapsed": true
   },
   "outputs": [],
   "source": [
    "#Note that each key is a string, and each value is a tuple\n",
    "people = {\"Joffrey\":(12, \"Baratheon\", \"joff@kingslanding.com\"), \"Jon\":(14, \"Snow\", \"jon@thewall.com\")}\n",
    "people[\"Joffrey\"]"
   ]
  },
  {
   "cell_type": "code",
   "execution_count": null,
   "metadata": {
    "collapsed": true
   },
   "outputs": [],
   "source": [
    "### Jon's age - we access this using the dictionary key, and then indexing within the value:\n",
    "people[\"Jon\"][0]"
   ]
  },
  {
   "cell_type": "code",
   "execution_count": null,
   "metadata": {
    "collapsed": true
   },
   "outputs": [],
   "source": [
    "### Joffrey's email\n",
    "people[\"Joffrey\"][2]"
   ]
  },
  {
   "cell_type": "code",
   "execution_count": null,
   "metadata": {
    "collapsed": true
   },
   "outputs": [],
   "source": [
    "#  list everyone's first and last names:\n",
    "for person, record in people.items():\n",
    "     print (person, record[1])"
   ]
  },
  {
   "cell_type": "markdown",
   "metadata": {},
   "source": [
    "### Exercise\n",
    "In the blank cell below create a dictionary called `address_book`, with at least 3 key-value entries. Each should consist of a person's name in string format (the key), and a tuple with corresponding pieces of information about them (the value).\n",
    "\n",
    "Once you've done that, iterate over the address book, printing information about each person into a sentence."
   ]
  },
  {
   "cell_type": "code",
   "execution_count": null,
   "metadata": {
    "collapsed": true
   },
   "outputs": [],
   "source": []
  },
  {
   "cell_type": "code",
   "execution_count": null,
   "metadata": {
    "collapsed": true
   },
   "outputs": [],
   "source": [
    "# uncomment the next line and then run the cell to load a solution\n",
    "# %load ../Solutions/0/prime_ministers"
   ]
  },
  {
   "cell_type": "markdown",
   "metadata": {},
   "source": [
    "### Exercise\n",
    "Make sure that you understand the code in the following cell. It calculates the number of sentences in each paragraph of a text. \n",
    "\n",
    "Can you see where tuples are being used?"
   ]
  },
  {
   "cell_type": "code",
   "execution_count": null,
   "metadata": {
    "collapsed": true
   },
   "outputs": [],
   "source": [
    "def count_sentences_per_paragraph(input_text):\n",
    "    \"\"\"\n",
    "    Given an input text:\n",
    "     - assign a number to each paragraph,\n",
    "     - count the number of sentences in each paragraph,\n",
    "     - output a list of all paragraph numbers together\n",
    "       with the number of sentences in it.\n",
    "\n",
    "    :param input_text: A character string possibly containing\n",
    "                        periods \".\" to separate sentences and\n",
    "                        paragraph marks \"\\n\" to separate\n",
    "                        paragraphs.\n",
    "    :return: A list of ordered pairs (tuples) where the first\n",
    "            element of the pair is the paragraph number and\n",
    "            the second element is the number of sentences in\n",
    "            that paragraph.\n",
    "            Sample output: [(0, 1), (1, 3), (2, 3), (3, 1)]\n",
    "    \"\"\"\n",
    "    \n",
    "    paragraphs = input_text.split(\"\\n\")\n",
    "    sentences_per_paragraph = list()  # create an empty list\n",
    "    paragraph_number = 0\n",
    "    for paragraph in paragraphs:\n",
    "        paragraph_number += 1\n",
    "        sentences = paragraph.split(\". \")\n",
    "        number_of_sentences = len(sentences)\n",
    "        \n",
    "        # create a tuple with the paragraph number and the number of sentences\n",
    "        # in it, then append the tuple to the list:\n",
    "        \n",
    "        sentences_per_paragraph.append((paragraph_number, number_of_sentences))\n",
    "    return sentences_per_paragraph\n",
    "\n",
    "\n",
    "print (sample_text)\n",
    "for para, count in count_sentences_per_paragraph(sample_text):\n",
    "    print(\"paragraph {0} contains {1} sentence(s)\".format(para,count))"
   ]
  },
  {
   "cell_type": "markdown",
   "metadata": {},
   "source": [
    "## The range function\n",
    "\n",
    "This produces a generator of numbers in a specified range."
   ]
  },
  {
   "cell_type": "code",
   "execution_count": null,
   "metadata": {
    "collapsed": true
   },
   "outputs": [],
   "source": [
    "indices = range(0,5)\n",
    "indices"
   ]
  },
  {
   "cell_type": "code",
   "execution_count": null,
   "metadata": {
    "collapsed": true
   },
   "outputs": [],
   "source": [
    "type(indices)"
   ]
  },
  {
   "cell_type": "code",
   "execution_count": null,
   "metadata": {
    "collapsed": true
   },
   "outputs": [],
   "source": [
    "len(indices)"
   ]
  },
  {
   "cell_type": "markdown",
   "metadata": {},
   "source": [
    "The output from a `range` can be used as a set of indices."
   ]
  },
  {
   "cell_type": "code",
   "execution_count": null,
   "metadata": {
    "collapsed": true
   },
   "outputs": [],
   "source": [
    "for i in indices:\n",
    "    print (words[i])"
   ]
  },
  {
   "cell_type": "markdown",
   "metadata": {},
   "source": [
    "If `range` is given a single parameter, it will create a range from zero."
   ]
  },
  {
   "cell_type": "code",
   "execution_count": null,
   "metadata": {
    "collapsed": true
   },
   "outputs": [],
   "source": [
    "for i in range(10):\n",
    "    print (i)"
   ]
  },
  {
   "cell_type": "markdown",
   "metadata": {},
   "source": [
    "### Exercise\n",
    "In the blank cell below use `range` to print a list of the first 10 integers."
   ]
  },
  {
   "cell_type": "code",
   "execution_count": null,
   "metadata": {
    "collapsed": true
   },
   "outputs": [],
   "source": []
  },
  {
   "cell_type": "code",
   "execution_count": null,
   "metadata": {
    "collapsed": true
   },
   "outputs": [],
   "source": [
    "# uncomment the next line and then run the cell to load a solution\n",
    "# %load ../Solutions/0/first_ten_ints"
   ]
  },
  {
   "cell_type": "markdown",
   "metadata": {},
   "source": [
    "### Exercise\n",
    "In the cell below use `range` to print a list of the first 10 cubes."
   ]
  },
  {
   "cell_type": "code",
   "execution_count": null,
   "metadata": {
    "collapsed": true
   },
   "outputs": [],
   "source": []
  },
  {
   "cell_type": "code",
   "execution_count": null,
   "metadata": {
    "collapsed": true
   },
   "outputs": [],
   "source": [
    "# uncomment the next line and then run the cell to load a solution\n",
    "# %load ../Solutions/0/first_ten_cubes"
   ]
  },
  {
   "cell_type": "markdown",
   "metadata": {},
   "source": [
    "## The zip function\n",
    "\n",
    "The zip function is used to pair up the corresponding elements between multiple iterables. \n",
    "\n",
    "It takes multiple iterables as arguments, and returns a list of tuples where the i-th tuple consists of the i-th element from each of the input iterables.\n",
    "\n",
    "In the example below, we 'zip together' `words` and `indices` into a series of tuples called `word_positions`. For example, the 3rd element of `word_positions` contains the 3rd element of `words` and the 3rd element of `indices`."
   ]
  },
  {
   "cell_type": "code",
   "execution_count": null,
   "metadata": {
    "collapsed": true
   },
   "outputs": [],
   "source": [
    "words = 'It was the best of times, it was the worst of times'.split()\n",
    "indices = range(len(words))\n",
    "word_positions = zip(words, indices)\n",
    "type(word_positions)"
   ]
  },
  {
   "cell_type": "code",
   "execution_count": null,
   "metadata": {
    "collapsed": true
   },
   "outputs": [],
   "source": [
    "for word, position in word_positions:\n",
    "    print(\"'{0}' is in position {1}\".format(word,position))\n"
   ]
  },
  {
   "cell_type": "markdown",
   "metadata": {},
   "source": [
    "### Exercise\n",
    "In the blank cell below write a function, `show_word_positions` that takes a filepath as its argument. The funciton should read the text from the file, split the text on whitespace, and then print out each word and its position as in the above example.\n",
    "\n",
    "Test your funciton out on `sample_text.txt`."
   ]
  },
  {
   "cell_type": "code",
   "execution_count": null,
   "metadata": {
    "collapsed": true
   },
   "outputs": [],
   "source": []
  },
  {
   "cell_type": "code",
   "execution_count": null,
   "metadata": {
    "collapsed": true
   },
   "outputs": [],
   "source": [
    "# uncomment the next line and then run the cell to load a solution\n",
    "# %load ../Solutions/0/show_word_positions"
   ]
  },
  {
   "cell_type": "markdown",
   "metadata": {},
   "source": [
    "The cell below contains a new version of the code that calculates the number of sentences in each paragraph of a text. \n",
    "\n",
    "This versions makes use `range` and `zip`.    "
   ]
  },
  {
   "cell_type": "code",
   "execution_count": null,
   "metadata": {
    "collapsed": true
   },
   "outputs": [],
   "source": [
    "def count_sentences_per_paragraph(input_text):\n",
    "    \"\"\"\n",
    "    Given an input text:\n",
    "     - assign a number to each paragraph,\n",
    "     - count the number of sentences in each paragraph,\n",
    "     - output a list of all paragraph numbers together\n",
    "       with the number of senfor a,b in enumerate(['The','Holy','Grail']): print a,btences in it.\n",
    "\n",
    "    :param input_text: A character string possibly containing\n",
    "                        periods \".\" to separate sentences and\n",
    "                        paragraph marks \"\\n\" to separate\n",
    "                        paragraphs.\n",
    "    :return: A list of ordered pairs (tuples) where the first\n",
    "            element of the pair is the paragraph number and\n",
    "            the second element is the number of sentences in\n",
    "            that paragraph.\n",
    "            Sample output: [(0, 1), (1, 3), (2, 3), (3, 1)]\n",
    "    \"\"\"\n",
    "    \n",
    "    paragraphs = input_text.split(\"\\n\")\n",
    "    sentence_counts = []\n",
    "    for paragraph in paragraphs:\n",
    "        number_of_sentences = count_sentences(paragraph)\n",
    "        sentence_counts.append(number_of_sentences)\n",
    "    \n",
    "    # Create a list with the paragraph numbers we need:\n",
    "    \n",
    "    paragraph_numbers = range(len(paragraphs))\n",
    "    \n",
    "    # Make a list of tuples by combining two existing lists:\n",
    "    sentences_per_paragraph = zip(paragraph_numbers, sentence_counts)\n",
    "    return sentences_per_paragraph\n",
    "\n",
    "def count_sentences(paragraph):\n",
    "    \"\"\"\n",
    "    A sentence is a character string delimited by a period \".\"\n",
    "    Given an input paragraph, return the number of sentences\n",
    "    in it.\n",
    "    :param paragraph: Character string with sentences.\n",
    "    :return: number of sentences in the input paragraph\n",
    "    \"\"\"\n",
    "    \n",
    "    sentences = paragraph.split(\".\")\n",
    "    return len(sentences)\n",
    "\n",
    "for para, count in count_sentences_per_paragraph(sample_text):\n",
    "    print(\"paragraph {0} contains {1} sentence(s)\".format(para,count))"
   ]
  },
  {
   "cell_type": "markdown",
   "metadata": {},
   "source": [
    "In situations where you are zipping lists that may be of different lengths, and want to pad out any 'missing' elements, you fill find `zip_longest` useful."
   ]
  },
  {
   "cell_type": "code",
   "execution_count": null,
   "metadata": {
    "collapsed": true
   },
   "outputs": [],
   "source": [
    "from itertools import zip_longest\n",
    "\n",
    "listA = [\"the\",\"cat\",\"sat\"]\n",
    "listB = [\"a\",\"dog\",\"lay\",\"down\"]\n",
    "for elem in zip_longest(listA,listB):\n",
    "    print(elem)"
   ]
  },
  {
   "cell_type": "markdown",
   "metadata": {},
   "source": [
    "### Enumerate\n",
    "Python provides a built-in function that can be used instead of `range` and `zip`."
   ]
  },
  {
   "cell_type": "code",
   "execution_count": null,
   "metadata": {
    "collapsed": true
   },
   "outputs": [],
   "source": [
    "for a,b in enumerate(['The','Holy','Grail']): \n",
    "    print(a,b)"
   ]
  },
  {
   "cell_type": "code",
   "execution_count": null,
   "metadata": {
    "collapsed": true
   },
   "outputs": [],
   "source": [
    "for a,b in enumerate(['The','Holy','Grail'],1): \n",
    "    print(a,b)"
   ]
  },
  {
   "cell_type": "markdown",
   "metadata": {},
   "source": [
    "### Exercise\n",
    "In the empty cell below, adapt the that calculates the number of sentences in each paragraph of a text so that it uses `enumerate` rather than `range` and `zip`.\n"
   ]
  },
  {
   "cell_type": "code",
   "execution_count": null,
   "metadata": {
    "collapsed": true
   },
   "outputs": [],
   "source": []
  },
  {
   "cell_type": "code",
   "execution_count": null,
   "metadata": {
    "collapsed": true
   },
   "outputs": [],
   "source": [
    "# uncomment the next line and then run the cell to load a solution\n",
    "# %load ../Solutions/0/count_sentences_per_paragraph"
   ]
  },
  {
   "cell_type": "markdown",
   "metadata": {},
   "source": [
    "## The map function\n",
    "This takes a function and an iterable (e.g. a list) as arguments. It then applies the function to every item of the iterable, returning a list of the results."
   ]
  },
  {
   "cell_type": "code",
   "execution_count": null,
   "metadata": {
    "collapsed": true
   },
   "outputs": [],
   "source": [
    "#First we make a function, which we will pass to the map function in the next cell\n",
    "natural_numbers = range(5)\n",
    "def square(n):\n",
    "    return n**2\n",
    "\n",
    "square(5)"
   ]
  },
  {
   "cell_type": "code",
   "execution_count": null,
   "metadata": {
    "collapsed": true
   },
   "outputs": [],
   "source": [
    "squared_numbers = map(square, natural_numbers)\n",
    "for i in squared_numbers:\n",
    "    print (i)"
   ]
  },
  {
   "cell_type": "code",
   "execution_count": null,
   "metadata": {
    "collapsed": true
   },
   "outputs": [],
   "source": [
    "def decorate(char):\n",
    "     return \"*\" + char + \"*\"\n",
    "\n",
    "decorate(\"A\")"
   ]
  },
  {
   "cell_type": "code",
   "execution_count": null,
   "metadata": {
    "collapsed": true
   },
   "outputs": [],
   "source": [
    "decorated_characters = map(decorate, \"Hello\")\n",
    "type(decorated_characters)"
   ]
  },
  {
   "cell_type": "code",
   "execution_count": null,
   "metadata": {
    "collapsed": true
   },
   "outputs": [],
   "source": [
    "decorated_characters = map(decorate, \"Hello\")\n",
    "for char in (decorated_characters):\n",
    "     print (char)"
   ]
  },
  {
   "cell_type": "markdown",
   "metadata": {},
   "source": [
    "### Exercise\n",
    "In the blank cell below write a function called `add_exclamation` which adds a `'!'` to the input string. Then map add_exclamation to print each word in dickens_words, followed by an exclamation point."
   ]
  },
  {
   "cell_type": "code",
   "execution_count": null,
   "metadata": {
    "collapsed": true
   },
   "outputs": [],
   "source": []
  },
  {
   "cell_type": "code",
   "execution_count": null,
   "metadata": {
    "collapsed": true
   },
   "outputs": [],
   "source": [
    "# uncomment the next line and then run the cell to load a solution\n",
    "# %load ../Solutions/0/add_exclamations"
   ]
  },
  {
   "cell_type": "markdown",
   "metadata": {},
   "source": [
    "## Conditions and booleans"
   ]
  },
  {
   "cell_type": "code",
   "execution_count": null,
   "metadata": {
    "collapsed": true
   },
   "outputs": [],
   "source": [
    "if 2 > 3:\n",
    "    print (\"yes\")\n",
    "else:\n",
    "    print (\"no\")"
   ]
  },
  {
   "cell_type": "markdown",
   "metadata": {},
   "source": [
    "Here are some useful string *shape* functions."
   ]
  },
  {
   "cell_type": "code",
   "execution_count": null,
   "metadata": {
    "collapsed": true
   },
   "outputs": [],
   "source": [
    "\"This\".isalpha()"
   ]
  },
  {
   "cell_type": "code",
   "execution_count": null,
   "metadata": {
    "collapsed": true
   },
   "outputs": [],
   "source": [
    "\"This,\".isalpha()"
   ]
  },
  {
   "cell_type": "code",
   "execution_count": null,
   "metadata": {
    "collapsed": true
   },
   "outputs": [],
   "source": [
    "\"M25\".isalpha()"
   ]
  },
  {
   "cell_type": "code",
   "execution_count": null,
   "metadata": {
    "collapsed": true
   },
   "outputs": [],
   "source": [
    "\"M25\".isalnum()"
   ]
  },
  {
   "cell_type": "code",
   "execution_count": null,
   "metadata": {
    "collapsed": true
   },
   "outputs": [],
   "source": [
    "\"463\".isdigit()"
   ]
  },
  {
   "cell_type": "code",
   "execution_count": null,
   "metadata": {
    "collapsed": true
   },
   "outputs": [],
   "source": [
    "# non zero numbers are TRUE\n",
    "print (\"yes\" if 15 else \"no\")"
   ]
  },
  {
   "cell_type": "code",
   "execution_count": null,
   "metadata": {
    "collapsed": true
   },
   "outputs": [],
   "source": [
    "# zero is FALSE\n",
    "print (\"yes\" if 0 else \"no\")"
   ]
  },
  {
   "cell_type": "code",
   "execution_count": null,
   "metadata": {
    "collapsed": true
   },
   "outputs": [],
   "source": [
    "# non empty lists are TRUE\n",
    "print (\"yes\" if [\"one element\"] else \"no\")"
   ]
  },
  {
   "cell_type": "code",
   "execution_count": null,
   "metadata": {
    "collapsed": true
   },
   "outputs": [],
   "source": [
    "# the empty list is FALSE\n",
    "print (\"yes\" if [] else \"no\")"
   ]
  },
  {
   "cell_type": "code",
   "execution_count": null,
   "metadata": {
    "collapsed": true
   },
   "outputs": [],
   "source": [
    "# non empty character strings are TRUE\n",
    "print (\"yes\" if \"Hello\" else \"no\")"
   ]
  },
  {
   "cell_type": "code",
   "execution_count": null,
   "metadata": {
    "collapsed": true
   },
   "outputs": [],
   "source": [
    "# the empty string is FALSE\n",
    "print (\"yes\" if \"\" else \"no\")"
   ]
  },
  {
   "cell_type": "markdown",
   "metadata": {},
   "source": [
    "Boolean statements can be combined using `and`. Both must be true for the combination to be evaluated as `True`."
   ]
  },
  {
   "cell_type": "code",
   "execution_count": null,
   "metadata": {
    "collapsed": true
   },
   "outputs": [],
   "source": [
    "True and True"
   ]
  },
  {
   "cell_type": "code",
   "execution_count": null,
   "metadata": {
    "collapsed": true
   },
   "outputs": [],
   "source": [
    "False and True"
   ]
  },
  {
   "cell_type": "markdown",
   "metadata": {},
   "source": [
    "Boolean statements can be combined using `or`. At least one statement must be true for the combination to be evaluated as `True`."
   ]
  },
  {
   "cell_type": "code",
   "execution_count": null,
   "metadata": {
    "collapsed": true
   },
   "outputs": [],
   "source": [
    "False or True"
   ]
  },
  {
   "cell_type": "code",
   "execution_count": null,
   "metadata": {
    "collapsed": true
   },
   "outputs": [],
   "source": [
    "True or False"
   ]
  },
  {
   "cell_type": "markdown",
   "metadata": {},
   "source": [
    "A boolean statement can be negated using `not`."
   ]
  },
  {
   "cell_type": "code",
   "execution_count": null,
   "metadata": {
    "collapsed": true
   },
   "outputs": [],
   "source": [
    "not True"
   ]
  },
  {
   "cell_type": "code",
   "execution_count": null,
   "metadata": {
    "collapsed": true
   },
   "outputs": [],
   "source": [
    "not False"
   ]
  },
  {
   "cell_type": "markdown",
   "metadata": {},
   "source": [
    "### Exercise\n",
    "In the next code cell we see code that determines the kinds of tokens found in a list. A token is a specific occurrence of a basic unit of lexical processing, typically a word or an item of punctuation.\n",
    "\n",
    "- Study the programme, in particular the string methods. These are very useful in NLP.\n",
    "- Experiment with the string methods using the empty cell until you understand how they work in special cases such as a single space and a single punctuation mark.\n",
    "- The programme will only assign one feature to each token. Are there any cases where more than one feature should be assigned?"
   ]
  },
  {
   "cell_type": "code",
   "execution_count": null,
   "metadata": {
    "collapsed": true
   },
   "outputs": [],
   "source": [
    "def make_tokens(input_text):\n",
    "    \"\"\"\n",
    "    Take an input text, split it into tokens, find the\n",
    "    token's shape, make a feature\n",
    "    vector with the token itself and its shape, return\n",
    "    a list of all token feature vectors found in the input.\n",
    "    :param input_text: A character string containing spaces\n",
    "    :return: A list of token feature vectors (token, shape).\n",
    "        Sample output: [('a', 'alpha'), ('7', 'digit'), ('A27', 'alnum')]\n",
    "    \"\"\"\n",
    "    \n",
    "    # Here we define a token as being delimited by a whitespace:\n",
    "    \n",
    "    tokens = input_text.split()\n",
    "    return map(make_token_feature_vector, tokens)\n",
    "\n",
    "\n",
    "def make_token_feature_vector(token):\n",
    "    \"\"\"\n",
    "    Given a token, extract its shape and return a\n",
    "    vector with the token itself and its shape\n",
    "    :param token: A character string\n",
    "    :return: A tuple (token, shape)\n",
    "    \"\"\"\n",
    "    \n",
    "    if token.isalpha():\n",
    "        return (token, \"alpha\")\n",
    "    elif token.isdigit():\n",
    "        return (token, \"digit\")\n",
    "    elif token.isalnum():\n",
    "        return (token, \"alnum\")\n",
    "    elif token in \",:;\":  \n",
    "        return (token, \"punctuation\")\n",
    "    elif token in \".!?\":  \n",
    "        return (token, \"sentence_end\")\n",
    "    elif token == \"\\n\":  \n",
    "        return (token, \"paragraph_end\")\n",
    "    else:\n",
    "        return (token, \"other\")\n",
    "\n",
    "\n",
    "for token in make_tokens(sample_text):\n",
    "    print(token)"
   ]
  },
  {
   "cell_type": "markdown",
   "metadata": {},
   "source": [
    "## List comprehension\n",
    "\n",
    "List comprehensions can be used to create a list of squares.\n"
   ]
  },
  {
   "cell_type": "code",
   "execution_count": null,
   "metadata": {
    "collapsed": true
   },
   "outputs": [],
   "source": [
    "[x**2 for x in range (4)]"
   ]
  },
  {
   "cell_type": "code",
   "execution_count": null,
   "metadata": {
    "collapsed": true
   },
   "outputs": [],
   "source": [
    "squares = [x*x for x in range(4)]\n",
    "type(squares)"
   ]
  },
  {
   "cell_type": "code",
   "execution_count": null,
   "metadata": {
    "collapsed": true
   },
   "outputs": [],
   "source": [
    "len(squares)"
   ]
  },
  {
   "cell_type": "markdown",
   "metadata": {},
   "source": [
    "List comprehensions can be used to create a list of decorated characters."
   ]
  },
  {
   "cell_type": "code",
   "execution_count": null,
   "metadata": {
    "collapsed": true
   },
   "outputs": [],
   "source": [
    "[\"*\" + char + \"*\" for char in \"Hello\"]"
   ]
  },
  {
   "cell_type": "markdown",
   "metadata": {},
   "source": [
    "List comprehensions can be used to create a list of even numbers.\n"
   ]
  },
  {
   "cell_type": "code",
   "execution_count": null,
   "metadata": {
    "collapsed": true
   },
   "outputs": [],
   "source": [
    "[double(n) for n in range(4)]"
   ]
  },
  {
   "cell_type": "markdown",
   "metadata": {},
   "source": [
    "The following function, `is_even` returns `True` for even numbers, and `False`, otherwise."
   ]
  },
  {
   "cell_type": "code",
   "execution_count": null,
   "metadata": {
    "collapsed": true
   },
   "outputs": [],
   "source": [
    "#Remember the mod operator % returns the residue after integer division\n",
    "def is_even(n):\n",
    "    return not n % 2"
   ]
  },
  {
   "cell_type": "code",
   "execution_count": null,
   "metadata": {
    "collapsed": true
   },
   "outputs": [],
   "source": [
    "is_even(8)"
   ]
  },
  {
   "cell_type": "code",
   "execution_count": null,
   "metadata": {
    "collapsed": true
   },
   "outputs": [],
   "source": [
    "is_even(7)"
   ]
  },
  {
   "cell_type": "markdown",
   "metadata": {},
   "source": [
    "List comprehensions can be used with our `is_even` function to create a list of squares for the first even numbers."
   ]
  },
  {
   "cell_type": "code",
   "execution_count": null,
   "metadata": {
    "collapsed": true
   },
   "outputs": [],
   "source": [
    "[square(n) for n in range(15) if is_even(n)]"
   ]
  },
  {
   "cell_type": "markdown",
   "metadata": {},
   "source": [
    "### Exercise\n",
    "In the blank cell below create a list of the odd numbers in the range 0-20."
   ]
  },
  {
   "cell_type": "code",
   "execution_count": null,
   "metadata": {
    "collapsed": true
   },
   "outputs": [],
   "source": []
  },
  {
   "cell_type": "code",
   "execution_count": null,
   "metadata": {
    "collapsed": true
   },
   "outputs": [],
   "source": [
    "# uncomment the next line and then run the cell to load a solution\n",
    "# %load ../Solutions/0/odd_list"
   ]
  },
  {
   "cell_type": "markdown",
   "metadata": {},
   "source": [
    "### Exercise\n",
    "In the blank cell below create a list of numbers in the range 0-20 that are both odd AND divisible by 3."
   ]
  },
  {
   "cell_type": "code",
   "execution_count": null,
   "metadata": {
    "collapsed": true
   },
   "outputs": [],
   "source": []
  },
  {
   "cell_type": "code",
   "execution_count": null,
   "metadata": {
    "collapsed": true
   },
   "outputs": [],
   "source": [
    "# uncomment the next line and then run the cell to load a solution\n",
    "# %load ../Solutions/0/odd_div_by_three"
   ]
  },
  {
   "cell_type": "markdown",
   "metadata": {},
   "source": [
    "We now take one last look at the code to that counts the number of sentences in each paragraph of a text.\n",
    "\n",
    "This version uses `map` to iterate over a list. The advantage of this is that it is no longer necessary to initialize the list and append elements to it in a loop."
   ]
  },
  {
   "cell_type": "code",
   "execution_count": null,
   "metadata": {
    "collapsed": true
   },
   "outputs": [],
   "source": [
    "def count_sentences_per_paragraph(input_text):\n",
    "    \"\"\"\n",
    "    Given an input text:\n",
    "     - assign a number to each paragraph,\n",
    "     - count the number of sentences in each paragraph,\n",
    "     - output a list of all paragraph numbers together\n",
    "       with the number of sentences in it.\n",
    "\n",
    "    :param input_text: A character string possibly containing\n",
    "                        periods \".\" to separate sentences and\n",
    "                        paragraph marks \"\\n\" to separate\n",
    "                        paragraphs.\n",
    "    :return: A list of ordered pairs (tuples) where the first\n",
    "            element of the pair is the paragraph number and\n",
    "            the second element is the number of sentences in\n",
    "            that paragraph.\n",
    "            Sample output: [(0, 1), (1, 3), (2, 3), (3, 1)]\n",
    "    \"\"\"\n",
    "    \n",
    "    paragraphs = input_text.split(\"\\n\")\n",
    "    \n",
    "    # Apply the count_sentences function to every element of paragraphs,\n",
    "    # return the results in a new list, call it sentence_counts:\n",
    "    \n",
    "    sentence_counts = map(count_sentences, paragraphs)\n",
    "    paragraph_numbers = range(len(paragraphs))\n",
    "    sentences_per_paragraph = zip(paragraph_numbers, sentence_counts)\n",
    "    return sentences_per_paragraph\n",
    "\n",
    "def count_sentences(paragraph):\n",
    "    \"\"\"\n",
    "    A sentence is a character string delimited by a period \".\"\n",
    "    Given an input paragraph, return the number of sentences\n",
    "    in it.\n",
    "    :param paragraph: Character string with sentences.\n",
    "    :return: number of sentences in the input paragraph\n",
    "    \"\"\"\n",
    "    \n",
    "    sentences = paragraph.split(\".\")\n",
    "    return len(sentences)\n",
    "\n",
    "for para, count in count_sentences_per_paragraph(sample_text):\n",
    "    print(\"paragraph {0} contains {1} sentence(s)\".format(para,count))"
   ]
  },
  {
   "cell_type": "markdown",
   "metadata": {},
   "source": [
    "While, in the above code, the use of the map function is considered acceptable python style, it can be used to produce more complicated code which is difficult to read and would be considered poor style. In such cases it is considered good practice to use list comprehensions.\n",
    "\n",
    "### Exercise\n",
    "Make a copy of the code cell above and move it to be below this cell. Then adapt the code to use a list comprehension instead of `map`."
   ]
  },
  {
   "cell_type": "code",
   "execution_count": null,
   "metadata": {
    "collapsed": true
   },
   "outputs": [],
   "source": [
    "# uncomment the next line and then run the cell to load a solution\n",
    "# %load ../Solutions/0/count_sentences_per_paragraph_list_comp"
   ]
  },
  {
   "cell_type": "markdown",
   "metadata": {},
   "source": [
    "### Exercise\n",
    "There is a problem with the code in the cell above. The same problem exists in all our versions of this programme. \n",
    "\n",
    "- First look at the code and see if you can see where the problem lies. \n",
    "- Next, if you haven't found it, do some experimenting with the split function. Do you really understand how it works?\n",
    "- Try loading the file `sample_corpus_2.txt` and running the programme on it. It is best to carry out a separate experiment in a new cell.\n",
    "- Study the input and output until you understand what the problem was. \n"
   ]
  },
  {
   "cell_type": "markdown",
   "metadata": {},
   "source": [
    "### Lazy generators\n",
    "We now introduce lazy generators, an important form of function in python. A lazy generator does not calculate its results all at once, but returns them one a a time for iteration. The `enumerate` function which we saw earlier is a lazy generator.\n",
    "\n",
    "You can define lazy generator functions by using `yield` instead of `return`. When the function reaches a `yield` command it yields the argument and suspends execution without terminating and returns control to the level that called the function. The next time it is called it it resumes from the same place that it was left. There is no requirement to have a single yield command. You can yield in one place the first time and another place the next time.\n",
    "\n",
    "The cell below shows a simple function using both forms so that you can see the difference. Notice that you cannot use the result in the same way. A result that is returned is passed directly as value whereas a result that is yielded must be used in an iterator."
   ]
  },
  {
   "cell_type": "code",
   "execution_count": null,
   "metadata": {
    "collapsed": true
   },
   "outputs": [],
   "source": [
    "def return_count_to_ten():\n",
    "    return range(1,11)\n",
    "\n",
    "\n",
    "def yield_count_to_ten():\n",
    "    for i in range(1, 11):\n",
    "        yield i\n",
    "\n",
    "        \n",
    "l = return_count_to_ten()\n",
    "print(l)\n",
    "    \n",
    "i = yield_count_to_ten()\n",
    "print ('yield')\n",
    "print(i)\n",
    "\n",
    "l = list(yield_count_to_ten())\n",
    "print(l)\n",
    "\n",
    "for i in yield_count_to_ten():\n",
    "    print(i)\n"
   ]
  },
  {
   "cell_type": "markdown",
   "metadata": {},
   "source": [
    "The previous programme delimited tokens by looking for spaces between them. You should have noticed that it doesn't work very well because it doesn't account for punctuation symbols. We need a better way to do this and, ideally, a separate function to do it.\n",
    "\n",
    "Because it is hard to follow, here is a summary of the logic of the new function, `split_tokens(input_text)`:\n",
    "\n",
    "The function reads the whole string one character at a time, adding characters to the token variable.\n",
    "- When it encounters a delimiter it yields the token.\n",
    "- If the token is empty it yields the delimiter character - unless it is a space - because the delimiter is an item of punctuation which is itself a token.\n",
    "- After returning a token the variable is reset to an empty string.\n"
   ]
  },
  {
   "cell_type": "code",
   "execution_count": null,
   "metadata": {
    "collapsed": true
   },
   "outputs": [],
   "source": [
    "def make_tokens(input_text):\n",
    "    \"\"\"\n",
    "    Take an input text, split it into tokens, find the\n",
    "    token's shape, make a feature\n",
    "    vector with the token itself and its shape, return\n",
    "    a list of all token feature vectors found in the input.\n",
    "    :param input_text: A character string containing spaces\n",
    "    :return: A list of token feature vectors (token, shape).\n",
    "        Sample output: [('a', 'alpha'), ('7', 'digit'), ('A27', 'alnum')]\n",
    "    \"\"\"\n",
    "    \n",
    "    # Now it's up to the split_tokes function to decide what a token is.\n",
    "    # List comprehension creates a list by extracting elements from\n",
    "    # an iterable object, in this case Python automatically converts the\n",
    "    # split_tokens function into an iterable object because it uses the \"yield\" statement:\n",
    "    \n",
    "    tokens = [token for token in split_tokens(input_text)]\n",
    "    return map(make_token_feature_vector, tokens)\n",
    "\n",
    "\n",
    "def split_tokens(input_text):\n",
    "    \"\"\"\n",
    "    This function decides how to delimit a token. It takes an input\n",
    "    string, iterates over it character by character; it collects\n",
    "    constituent characters in the output token; punctuation characters\n",
    "    are considered delimiters therefore become tokens of their own; the\n",
    "    space character is removed from tokens. Yield each found token at\n",
    "    a time.\n",
    "    :param input_text: A character string containing a mix of text and delimiter characters.\n",
    "    :yield A character string which is either free from delimiters or\n",
    "        is a delimiter itself.\n",
    "    \"\"\"\n",
    "\n",
    "    DELIMITERS = \",:!?.\\n\"\n",
    "    token = \"\"\n",
    "    for char in input_text:\n",
    "        if char in DELIMITERS:  # test if the input character is a delimiter (substring presence)\n",
    "            \n",
    "            # Character strings, lists, etc, have a logical truth value in Python;\n",
    "            # an empty string is False, if it has characters it is True.\n",
    "            \n",
    "            if not token:  # same as token == \"\"\n",
    "                yield char\n",
    "            else:\n",
    "                \n",
    "                # Return token to the calling program, but next time this function\n",
    "                # is called, continue from\n",
    "                # the next statement rather than from the beginning of the function:\n",
    "                \n",
    "                yield token  # After yielding control to the calling program,\n",
    "                             # this function will execute the next statement:\n",
    "                token = \"\"  # Pick up execution from here.\n",
    "                yield char\n",
    "        elif char == \" \":\n",
    "            if token:  # same as token != \"\"\n",
    "                yield token\n",
    "                token = \"\"\n",
    "        else:\n",
    "            token += char\n",
    "\n",
    "for token in make_tokens(sample_text):\n",
    "    print(token)"
   ]
  },
  {
   "cell_type": "markdown",
   "metadata": {},
   "source": [
    "Notice how the function `split_tokens` yields the result instead of returning it. This means that it continues from the same point next time it is called.\n",
    "\n",
    "### Exercise\n",
    "In the empty cell below try calling the function `split_tokens` on `sample_text`. What happens?\n",
    "\n",
    "Notice that the programme does not make a simple function call, it uses it in a list comprehension which iterates over it. Another common way to collect the yields would be with a for loop."
   ]
  },
  {
   "cell_type": "code",
   "execution_count": null,
   "metadata": {
    "collapsed": true
   },
   "outputs": [],
   "source": []
  },
  {
   "cell_type": "markdown",
   "metadata": {},
   "source": [
    "## Pandas dataframes\n",
    "We will be using tables in various ways later in the module. We now look at how to store tables as Pandas dataframes. \n",
    "\n",
    "If you want more detais, a good starting point is [10 Minutes to Pandas](https://pandas.pydata.org/pandas-docs/stable/10min.html).\n",
    "\n",
    "First, let's create some data to put in the table. This is meant to be the results of some experiment that we have underaken. \n",
    "\n",
    "To do this we create a list of tuples, where each tuple is a row in the table.\n",
    "- We use `display` rather than `print` as it produces a nicer looking table.\n",
    "\n",
    "Run the cell and make sure you understand the code."
   ]
  },
  {
   "cell_type": "code",
   "execution_count": null,
   "metadata": {
    "collapsed": true
   },
   "outputs": [],
   "source": [
    "results = [\n",
    "    (10,0.674),\n",
    "    (20,0.708),\n",
    "    (30,0.721),\n",
    "    (40,0.744),\n",
    "    (50,0.748),\n",
    "    (60,0.759),\n",
    "    (70,0.762),\n",
    "    (80,0.769),\n",
    "    (90,0.773),\n",
    "    (100,0.775)]\n",
    "df = pd.DataFrame(results,columns = [\"Sample Size\",\"Accuracy\"])\n",
    "display(df)"
   ]
  },
  {
   "cell_type": "markdown",
   "metadata": {},
   "source": [
    "### Making a table from columns\n",
    "We now create the same dataframe, but in a different way. This time we specify the contents by giving a list for each column.\n",
    "- The column lists and `zip`'d together to create the same list of tuples we saw above, one tuple for each row of the table.\n",
    "- `zip` returns an iterator of tuples, so  `list` is needed to give the required list of tuples."
   ]
  },
  {
   "cell_type": "code",
   "execution_count": null,
   "metadata": {
    "collapsed": true
   },
   "outputs": [],
   "source": [
    "sample_sizes = list(range(10,110,10))\n",
    "scores = [0.674,0.708,0.721,0.744,0.748,0.759,0.762,0.769,0.773,0.775]\n",
    "df = pd.DataFrame(list(zip(sample_sizes,scores)),columns = [\"Sample Size\",\"Score\"])\n",
    "display(df)"
   ]
  },
  {
   "cell_type": "markdown",
   "metadata": {},
   "source": [
    "### Plotting data in a dataframe\n",
    "In the following cell we see how to plot the dataframe containing our pretend experimental results.\n",
    "- Note that some of the settings are determined by code in the first cell of the notebook.\n",
    "- `x=0` indicates that the first column of the data provides the values on the x-axis.\n",
    "- See [pandas.DataFrame.plot](https://pandas.pydata.org/pandas-docs/stable/generated/pandas.DataFrame.plot.html) for more details."
   ]
  },
  {
   "cell_type": "code",
   "execution_count": null,
   "metadata": {
    "collapsed": true
   },
   "outputs": [],
   "source": [
    "ax = df.plot(kind=\"bar\",x=0,legend=False,title=\"Experimental Results\",yticks=(0.6,0.65,0.7,0.75,0.8))\n",
    "# set the x-axis label\n",
    "ax.set_xlabel(\"Sample Size\")\n",
    "# set the y-axis label\n",
    "ax.set_ylabel(\"Accuracy\")\n",
    "# set the y axis range \n",
    "ax.set_ylim(0.6,0.8)"
   ]
  },
  {
   "cell_type": "markdown",
   "metadata": {},
   "source": [
    "Suppose we have results for two competing methods. \n",
    "\n",
    "We will have a three rather than two columns in our dataframe:\n",
    "- the first column holds the sample size\n",
    "- the second column holds one set of results\n",
    "- the third column holds a second set of results\n",
    "\n",
    "Run the cell below."
   ]
  },
  {
   "cell_type": "code",
   "execution_count": null,
   "metadata": {
    "collapsed": true,
    "scrolled": true
   },
   "outputs": [],
   "source": [
    "sample_sizes = list(range(10,110,10))\n",
    "your_results = [0.674,0.708,0.721,0.744,0.748,0.759,0.762,0.769,0.773,0.775]\n",
    "my_results = [0.774,0.788,0.801,0.844,0.852,0.855,0.860,0.862,0.863,0.864]\n",
    "\n",
    "df = pd.DataFrame(list(zip(sample_sizes,your_results,my_results)),columns = [\"Sample Size\",\"Your Score\",\"My Score\"])\n",
    "display(df)"
   ]
  },
  {
   "cell_type": "markdown",
   "metadata": {},
   "source": [
    "Now we show how to visualise these results.\n",
    "- This time we want a legend.\n",
    "- We also need to expand the limits being shown on the y-axis\n",
    "\n",
    "Run the following cell."
   ]
  },
  {
   "cell_type": "code",
   "execution_count": null,
   "metadata": {
    "collapsed": true
   },
   "outputs": [],
   "source": [
    "ax = df.plot(kind=\"bar\",x=0,title=\"Experimental Results\",yticks=(0.6,0.65,0.7,0.75,0.8))\n",
    "# set the x-axis label\n",
    "ax.set_xlabel(\"Sample Size\")\n",
    "# set the y-axis label\n",
    "ax.set_ylabel(\"Accuracy\")\n",
    "# set the y axis range \n",
    "ax.set_ylim(0.6,0.9)"
   ]
  },
  {
   "cell_type": "code",
   "execution_count": null,
   "metadata": {
    "collapsed": true
   },
   "outputs": [],
   "source": [
    "data = {\"a\": 1., \"b\":2.,\"c\":3.}\n",
    "s = pd.Series(data)\n",
    "print(s)\n",
    "s.plot.bar()"
   ]
  },
  {
   "cell_type": "markdown",
   "metadata": {},
   "source": [
    "### Running a python program\n",
    "We now look at the difference between three different ways of running a python program. \n",
    "\n",
    "The first is the way used in the above examples: simply typing or pasting the code into a notebook (or console) and running it.\n",
    "\n",
    "Very similar to the first way is to import the code from a file or module into a notebook (or console). If you import a module, python will automatically run it. That means it reads every line in the file and executes. If the module contains function definitions, executing them means creating the functions. If it contains code that calls functions, python will make those calls and run the functions.  \n",
    "\n",
    "The third way is to run the module from the command line by typing python followed by the module name including the `.py` suffix.\n",
    "\n",
    "Python behaves the same for the second and third method. However, it is often useful to have a module that runs using the third method but doesn't run using the second i.e. you can import the functions, and perhaps some variables, without running anything. To achieve this, modules often include the line  \n",
    "- `if __name__ == \"__main__\"`  \n",
    "as in the cell below. \n",
    "\n",
    "This will run when called from the command line, but not when the file is imported.\n",
    "\n",
    "The cell below contains the programmes for the tokens exercise. It is also stored in a file named \"Exercise.py\" You don't need to read the code as nothing has changed (apart from the addition of one line for testing which was added only to the saved file). "
   ]
  },
  {
   "cell_type": "code",
   "execution_count": null,
   "metadata": {
    "collapsed": true
   },
   "outputs": [],
   "source": [
    "def make_tokens(input_text):\n",
    "    \"\"\"\n",
    "    Take an input text, split it into tokens, find the\n",
    "    token's shape, make a feature\n",
    "    vector with the token itself and its shape, return\n",
    "    a list of all token feature vectors found in the input.\n",
    "    :param input_text: A character string containing spaces\n",
    "    :return: A list of token feature vectors (token, shape).\n",
    "        Sample output: [('a', 'alpha'), ('7', 'digit'), ('A27', 'alnum')]\n",
    "    \"\"\"\n",
    "    \n",
    "    # Now it's up to the split_tokes function to decide what a token is.\n",
    "    # List comprehension creates a list by extracting elements from\n",
    "    # an iterable object, in this case Python automatically converts the\n",
    "    # split_tokens function into an iterable object because it uses the \"yield\" statement:\n",
    "    \n",
    "    tokens = [token for token in split_tokens(input_text)]\n",
    "    return map(make_token_feature_vector, tokens)\n",
    "\n",
    "\n",
    "def make_token_feature_vector(token):\n",
    "    \n",
    "    \"\"\"\n",
    "    Given a token, extract its shape and return a\n",
    "    vector with the token itself and its shape\n",
    "    :param token: A character string\n",
    "    :return: A tuple (token, shape)\n",
    "    \"\"\"\n",
    "    \n",
    "    if token.isalpha():\n",
    "        return (token, \"alpha\")\n",
    "    elif token.isdigit():\n",
    "        return (token, \"digit\")\n",
    "    elif token.isalnum():\n",
    "        return (token, \"alnum\")\n",
    "    elif token in \",:;\":  \n",
    "        return (token, \"punctuation\")\n",
    "    elif token in \".!?\":  \n",
    "        return (token, \"sentence_end\")\n",
    "    elif token == \"\\n\":  \n",
    "        return (token, \"paragraph_end\")\n",
    "    else:\n",
    "        return (token, \"other\")\n",
    "\n",
    "\n",
    "\n",
    "def split_tokens(input_text):\n",
    "    \n",
    "    \"\"\"\n",
    "    This function decides how to delimit a token. It takes an input\n",
    "    string, iterates over it character by character; it collects\n",
    "    constituent characters in the output token; punctuation characters\n",
    "    are considered delimiters therefore become tokens of their own; the\n",
    "    space character is removed from tokens. Yield each found token at\n",
    "    a time.\n",
    "    :param input_text: A character string containing a mix of text and delimiter characters.\n",
    "    :yield A character string which is either free from delimiters or\n",
    "        is a delimiter itself.\n",
    "    \"\"\"\n",
    "    \n",
    "    # First decide what characters delimit a token:\n",
    "    DELIMITERS = \",:!?.\\n\"\n",
    "    \n",
    "    token = \"\"\n",
    "    for char in input_text:\n",
    "        \n",
    "        if char in DELIMITERS:  # test if the input character is a delimiter (substring presence)\n",
    "            \n",
    "            # Character strings, lists, etc, have a logical truth value in Python;\n",
    "            # an empty string is False, if it has characters it is True.\n",
    "            \n",
    "            if not token:  # same as token == \"\"\n",
    "                yield char\n",
    "            else:\n",
    "                \n",
    "                # Return token to the calling program, but next time this function\n",
    "                # is called, continue from\n",
    "                # the next statement rather than from the beginning of the function:\n",
    "                \n",
    "                yield token  # After yielding control to the calling program,\n",
    "                             # this function will execute the next statement:\n",
    "                token = \"\"  # Pick up execution from here.\n",
    "                yield char\n",
    "        elif char == \" \":\n",
    "            if token:  # same as token != \"\"\n",
    "                yield token\n",
    "                token = \"\"\n",
    "        else:\n",
    "            token += char\n",
    "            \n",
    "sample_text = \"This is a sample sentence01 showing 7 different token types: alphabetic, numeric, alphanumeric, Title, UPPERCASE, CamelCase and punctuation!\\nSentences like that should not exist. They're too artificial.\\nA REAL sentence looks different. It has flavour to it. You can smell it; it's like Pythonic code, you know?\\nHave you heard of 'code smell'? Google it if you haven't.\"            \n",
    "\n",
    "if __name__ == \"__main__\":\n",
    "    for token in make_tokens(sample_text):\n",
    "        print(token)"
   ]
  },
  {
   "cell_type": "markdown",
   "metadata": {},
   "source": [
    "### Exercise\n",
    "Try the following.\n",
    "\n",
    "1. Execute the cell above and look at what happens.\n",
    "\n",
    "2. In the empty cell below execute:  \n",
    "`import Exercise`  \n",
    "Note the capital letter in the filename. \n",
    "It should not run the programme. \n",
    "\n",
    "To understand what has happened, run each the following commands one at a time:  \n",
    "`print(noone)`  \n",
    "`print Exercise.noone`  \n",
    "`from Exercise import noone`  \n",
    "`print(noone)` \n",
    "\n",
    "The variable `noone` did not exist in the original programme (it was assigned in the test line that was added to the file).\n",
    "- Notice the difference between the two types of import. Using the second type is more convenient as you don't have to specify the namespace to access functions and variables.\n",
    "- For this reason people sometimes use the command  \n",
    "`from module import *`  \n",
    "However, this is dangerous as you can easily overwrite existing names and python will not warn you. Using the import command in this way is considered bad practice. You can sometimes get away with it when importing your own module, but avoid it with library modules.\n"
   ]
  },
  {
   "cell_type": "code",
   "execution_count": null,
   "metadata": {
    "collapsed": true
   },
   "outputs": [],
   "source": []
  },
  {
   "cell_type": "markdown",
   "metadata": {},
   "source": [
    "\n",
    "Note on terminology. The word \"parse\" means to read and process sequentially. In NLP it also has a specific meaning to analyse text to determine its syntax. To avoid confusion please be aware that in this exercise the first meaning is used.\n",
    "\n",
    "The programme below constructs a nested list by reading some input text and looking for delimiters.\n",
    "- First it runs our `make_tokens` function.\n",
    "- Then it reads one token at a time to construct sentences. Each sentence is a list.\n",
    "- When the end of a sentence is reached, a new empty list is created and a new sentence read.\n",
    "- When it reaches the end of a paragraph, all the sentences in that paragraph are kept together in a list, and a new pargraph is created.\n",
    "\n",
    "There are various ways this could be done. The method below uses the generator method we have seen before where results are delivered using the yield command, instead of the return command. This means the function does not exit, but resumes from the same place the next time it is called.\n",
    "- Using generators is often a good way to write clear simple code\n",
    "- Another advantages of the generator method is that it enables data to be processed as it is needed, making it possible to process very large lists that might use up too much memory.\n",
    "\n",
    "### Exercise\n",
    "Execute the  cell below and study the code until you understand how it works."
   ]
  },
  {
   "cell_type": "code",
   "execution_count": null,
   "metadata": {
    "collapsed": true
   },
   "outputs": [],
   "source": [
    "def parse_text(input_text):\n",
    "    \"\"\"\n",
    "    A parsed text is defined as a list of parsed paragraphs.\n",
    "    Given an input text, parse its paragraphs and return a list\n",
    "    with the results.\n",
    "    :param input_text: A character string with paragraphs\n",
    "    :return: A list of parsed paragraphs\n",
    "    \"\"\"\n",
    "    \n",
    "    return [paragraph for paragraph in parse_paragraphs(input_text)]\n",
    "\n",
    "\n",
    "def parse_paragraphs(input_text):\n",
    "    \"\"\"\n",
    "    A parsed paragraph is defined as a list of parsed sentences.\n",
    "    Given an input text, parse its sentences; if the sentence is\n",
    "    actually the end of a paragraph, then yield the previous\n",
    "    sentences packed as a list.\n",
    "    :param input_text: a character string containing paragraphs\n",
    "                       and sentences.\n",
    "    :yield: A list of sentences up to the end of the paragraph.\n",
    "    \"\"\"\n",
    "    \n",
    "    paragraph = list()\n",
    "    for sentence in parse_sentences(input_text):\n",
    "        \n",
    "        # We expect parse_sentences to return \"paragraph_end\"\n",
    "        # when it encounters an end of paragraph mark.\n",
    "        \n",
    "        if sentence == \"paragraph_end\":\n",
    "            yield paragraph\n",
    "            paragraph = list()\n",
    "        else:\n",
    "            paragraph.append(sentence)\n",
    "    yield paragraph\n",
    "\n",
    "\n",
    "def parse_sentences(input_text):\n",
    "    \"\"\"\n",
    "    A parsed sentence is defined as a list of token vectors\n",
    "    :param input_text: a character string containing paragraphs,\n",
    "                       sentences and token vectors.\n",
    "    :yield: A list of token vectors up to the end of a sentence.\n",
    "    \"\"\"\n",
    "    \n",
    "    token_vectors = make_tokens(input_text)  \n",
    "    sentence = list()\n",
    "    \n",
    "    # Since a token vector is a tuple (token, shape) we can unpack it\n",
    "    # automatically as we iterate over the list of token vectors:\n",
    "    \n",
    "    for token, shape in token_vectors:\n",
    "        if shape == \"sentence_end\":\n",
    "            yield sentence\n",
    "            sentence = list()\n",
    "        elif shape == \"paragraph_end\":\n",
    "            if sentence:\n",
    "                yield sentence\n",
    "                sentence = list()\n",
    "            yield \"paragraph_end\"\n",
    "        else:\n",
    "            sentence.append((token, shape))\n",
    "    if sentence:\n",
    "        yield sentence\n",
    "\n",
    "\n",
    "\n",
    "print(\"************************** SENTENCES IN THE PARSED TEXT:\")\n",
    "for sentence in parse_sentences(sample_text):\n",
    "    print(sentence)\n",
    "print(\"************************** PARAGRAPHS IN THE PARSED TEXT:\")\n",
    "\n",
    "for paragraph in parse_paragraphs(sample_text):\n",
    "    print(paragraph)\n",
    "\n",
    "print(\"************************** PARSED TEXT:\")\n",
    "print(parse_text(sample_text))"
   ]
  },
  {
   "cell_type": "markdown",
   "metadata": {},
   "source": [
    "### Exercise\n",
    "The programme in the cell below selects a character at random from the nested list generated by the previous programme. Run the cell and make sure you can understand what it is doing.\n",
    "\n",
    "1. Recall that we defined a token vector to be an ordered pair (token, shape). Accessing the token or the shape with the code `token_vector[0]` or `token_vector[1]` is difficult to read. It is better to define the indices as constants. Constants are always given capitalised names and sit in the global scope. Do you agree that this improves readability?\n",
    "\n",
    "2. Notice how to index into the nested list and the character string. The line indexing the character string could have been written as:  \n",
    "\n",
    "`character = parsed_text[paragraph_coord][sentence_coord][token_coord][TOKEN][character_coord]`\n",
    "\n",
    "Do you think this would have made the programme more readable?"
   ]
  },
  {
   "cell_type": "code",
   "execution_count": null,
   "metadata": {
    "collapsed": true
   },
   "outputs": [],
   "source": [
    "import random\n",
    "\n",
    "TOKEN = 0  \n",
    "SHAPE = 1\n",
    "\n",
    "def get_random_character_coordinates_in_text(parsed_text):\n",
    "    \"\"\"\n",
    "    Given a parsed text, as the one produced by parse_text.py,\n",
    "    return a random character within the text, together with its\n",
    "    coordinates.\n",
    "    :param parsed_text: A nested list with token vectors within\n",
    "        sentence lists within paragraph lists.\n",
    "    :return: A vector where the elements are: the random character,\n",
    "        the paragraph, sentence, token and character coordinates.\n",
    "        Sample output: ('f', 3, 1, 2, 1)\n",
    "    \"\"\"\n",
    "\n",
    "    # Generate a random index within a valid range:\n",
    "    \n",
    "    paragraph_coord = random.randrange(len(parsed_text))\n",
    "    sentence_coord = random.randrange(len(parsed_text[paragraph_coord]))\n",
    "    token_coord = random.randrange(len(parsed_text[paragraph_coord][sentence_coord]))\n",
    "    token = parsed_text[paragraph_coord][sentence_coord][token_coord][TOKEN]\n",
    "    character_coord = random.randrange(len(token))\n",
    "        \n",
    "    \n",
    "    # With the obtained random coordinates, access the input parsed text:\n",
    "    \n",
    "    character = token[character_coord]\n",
    "    \n",
    "    return character, paragraph_coord, sentence_coord, token_coord, character_coord\n",
    "\n",
    "\n",
    "parsed_text = parse_text(sample_text)\n",
    "for _ in range(10):\n",
    "    print(get_random_character_coordinates_in_text(parsed_text))"
   ]
  },
  {
   "cell_type": "code",
   "execution_count": null,
   "metadata": {
    "collapsed": true
   },
   "outputs": [],
   "source": []
  }
 ],
 "metadata": {
  "anaconda-cloud": {},
  "kernelspec": {
   "display_name": "Python 3",
   "language": "python",
   "name": "python3"
  },
  "language_info": {
   "codemirror_mode": {
    "name": "ipython",
    "version": 3
   },
   "file_extension": ".py",
   "mimetype": "text/x-python",
   "name": "python",
   "nbconvert_exporter": "python",
   "pygments_lexer": "ipython3",
   "version": "3.6.1"
  }
 },
 "nbformat": 4,
 "nbformat_minor": 1
}

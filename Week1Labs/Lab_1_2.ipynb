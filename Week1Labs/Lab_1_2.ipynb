{
 "cells": [
  {
   "cell_type": "markdown",
   "metadata": {},
   "source": [
    "# Week 1: Introduction to Python (Part 2)"
   ]
  },
  {
   "cell_type": "markdown",
   "metadata": {},
   "source": [
    "This is the second part of the Introduction to Python for Natural Language Engineering course.\n",
    "\n",
    "These notebooks are designed to give you the working knowledge of Python necessary to complete the lab sessions for Natural Language Engineering. \n",
    "\n",
    "From the last notebook you should be familiar with python types, basic operators, identifiers, booleans and conditions, lists and strings.  This notebook will introduce you to defining functions, using comments and docstrings and working with more data structures such as sets, tuples and dictionaries.\n",
    "\n",
    "As in the last session:-\n",
    "\n",
    "- Run all of the code cells as you work through the notebook. \n",
    "- Try to understand what is happening in each code cell and predict the output before running it.\n",
    "- Complete all of the exercises.\n",
    "- Discuss answers and ask questions!\n"
   ]
  },
  {
   "cell_type": "markdown",
   "metadata": {},
   "source": [
    "## Functions\n",
    "Functions are defined using the keyword `def`, followed by a function name, and a list of parameters in parentheses. Don't forget the `:` after the closing parenthesis.\n",
    "\n",
    "The body of the function starts on the next line, and must be indented."
   ]
  },
  {
   "cell_type": "code",
   "execution_count": null,
   "metadata": {},
   "outputs": [],
   "source": [
    "def double(number):\n",
    "     return(number * 2)"
   ]
  },
  {
   "cell_type": "code",
   "execution_count": null,
   "metadata": {},
   "outputs": [],
   "source": [
    "double(13)"
   ]
  },
  {
   "cell_type": "code",
   "execution_count": null,
   "metadata": {},
   "outputs": [],
   "source": [
    "type(double)"
   ]
  },
  {
   "cell_type": "code",
   "execution_count": null,
   "metadata": {},
   "outputs": [],
   "source": [
    "def add_question_mark(string):\n",
    "    return string + \"?\""
   ]
  },
  {
   "cell_type": "code",
   "execution_count": null,
   "metadata": {},
   "outputs": [],
   "source": [
    "add_question_mark(\"what's your name\")"
   ]
  },
  {
   "cell_type": "code",
   "execution_count": null,
   "metadata": {},
   "outputs": [],
   "source": [
    "def print_first_half(string):\n",
    "    half_length_of_string = len(string)//2 #use floor division as indices must be integers\n",
    "    return string[:half_length_of_string]"
   ]
  },
  {
   "cell_type": "code",
   "execution_count": null,
   "metadata": {},
   "outputs": [],
   "source": [
    "print_first_half('hi how are you doing?')"
   ]
  },
  {
   "cell_type": "markdown",
   "metadata": {},
   "source": [
    "### Exercise 1a\n",
    "In the empty cell below define a function called `square` that returns an input parameter squared. \n",
    "\n",
    "Hint: check the 'basic functions' section in Week_1_1, for the Python syntax for exponentials."
   ]
  },
  {
   "cell_type": "code",
   "execution_count": 1,
   "metadata": {},
   "outputs": [],
   "source": [
    "def square(x):\n",
    "    return x**2"
   ]
  },
  {
   "cell_type": "markdown",
   "metadata": {},
   "source": [
    "### Exercise 1b\n",
    "In the empty cell below define a function `makelist` that takes a sentence string as an input, and returns a list of the words in the sentence."
   ]
  },
  {
   "cell_type": "code",
   "execution_count": 2,
   "metadata": {},
   "outputs": [],
   "source": [
    "def makelist(s):\n",
    "    return s.split()"
   ]
  },
  {
   "cell_type": "markdown",
   "metadata": {},
   "source": [
    "### Comments and docstrings\n",
    "\n",
    "Look at the code in the code cell below.\n",
    "\n",
    "- The first block of text shows how doc strings are used by convention in Python. By convention, all function definitions should begin with a block of documentation (docstring) of the form given by the first block in triple quotes in the programme below.\n",
    "- Comments in the code itself are introduced by a `#` either as a separate line or appended to the end of a line. Python will ignore the rest of a line after a `#`.\n",
    "\n",
    "When you type shift-enter to execute the cell, the function exists in the kernel and can be called by any cell in the notebook. The function definition ends as soon as the indentation ceases (this is triggered by the comment `\"Here is the argument:\"`).  After creating the function the kernel will continue to execute the contents of the cell, thereby calling the function. \n",
    "\n",
    "Notice how the programme splits a character string at carriage return (\"\\n\") characters. This works because split is an inbuilt method of the text data type. Therefore all text objects can be split in this way.\n",
    "- `\\n` is the carriage return character. \n",
    "- `\\t` can be used similarly for reading tab separated data.\n",
    "- If you leave the argument empty it will treat any string of whitespace as a delimiter to be split. This has the advantage that a double space will be treated as a single delimiter.\n",
    "\n",
    "### Exercise 2a\n",
    "The cell below defines and calls a function `count_paragraphs()`.  Read the docstring and the comments to understand what it does.\n",
    "- Notice that execution of the first cell means the variable is now in the kernel and accessible to any cell.\n",
    "- Use the same box to try printing the variable `input_text`. What happens? Why?"
   ]
  },
  {
   "cell_type": "code",
   "execution_count": 5,
   "metadata": {},
   "outputs": [
    {
     "name": "stdout",
     "output_type": "stream",
     "text": [
      "This is a sample sentence01 showing 7 different token types: alphabetic, numeric, alphanumeric, Title, UPPERCASE, CamelCase and punctuation!\n",
      "Sentences like that should not exist. They're too artificial.\n",
      "A REAL sentence looks different. It has flavour to it. You can smell it; it's like Pythonic code, you know?\n",
      "Have you heard of 'code smell'? Google it if you haven't.\n",
      "This is a sample sentence01 showing 7 different token types: alphabetic, numeric, alphanumeric, Title, UPPERCASE, CamelCase and punctuation!\n",
      "Sentences like that should not exist. They're too artificial.\n",
      "A REAL sentence looks different. It has flavour to it. You can smell it; it's like Pythonic code, you know?\n",
      "Have you heard of 'code smell'? Google it if you haven't.\n",
      "Number of paragraphs:  4\n"
     ]
    }
   ],
   "source": [
    "\n",
    "def count_paragraphs(input_text):\n",
    "    \"\"\"\n",
    "    A paragraph is defined as the text before a CR character ie.: \"\\n\".\n",
    "    Take a character string, split it into paragraphs, count them\n",
    "    and return the count.\n",
    "    :param input_text: a character string containing paragraph marks.\n",
    "    :return: integer, the number of paragraphs.\n",
    "    \"\"\"\n",
    "    \n",
    "    # The following statement creates a list of strings by breaking\n",
    "    # up input_text wherever a \"\\n\" character occurs\n",
    "    print(input_text)\n",
    "    \n",
    "    paragraphs = input_text.split(\"\\n\")  \n",
    "    \n",
    "    # The len() function counts the number of elements in the list\n",
    "    \n",
    "    return len(paragraphs)\n",
    "\n",
    "\n",
    "# Here is the argument:\n",
    "\n",
    "sample_text = \"This is a sample sentence01 showing 7 different token types: alphabetic, numeric, alphanumeric, Title, UPPERCASE, CamelCase and punctuation!\\nSentences like that should not exist. They're too artificial.\\nA REAL sentence looks different. It has flavour to it. You can smell it; it's like Pythonic code, you know?\\nHave you heard of 'code smell'? Google it if you haven't.\"\n",
    "print (sample_text)\n",
    "\n",
    "# Here is the function call:\n",
    "\n",
    "print (\"Number of paragraphs: \", count_paragraphs(sample_text))\n"
   ]
  },
  {
   "cell_type": "markdown",
   "metadata": {},
   "source": [
    "### Exercise 2a continued\n",
    "In the blank cell below examine the contents of the variable `sample_text` with and without the print function.\n",
    "- Notice that execution of the previous cell means the variable is now in the kernel and accessible to any cell.\n",
    "- Use the same box to try printing the variable `input_text`. What happens? Why?"
   ]
  },
  {
   "cell_type": "code",
   "execution_count": 8,
   "metadata": {},
   "outputs": [
    {
     "name": "stdout",
     "output_type": "stream",
     "text": [
      "This is a sample sentence01 showing 7 different token types: alphabetic, numeric, alphanumeric, Title, UPPERCASE, CamelCase and punctuation!\n",
      "Sentences like that should not exist. They're too artificial.\n",
      "A REAL sentence looks different. It has flavour to it. You can smell it; it's like Pythonic code, you know?\n",
      "Have you heard of 'code smell'? Google it if you haven't.\n"
     ]
    }
   ],
   "source": [
    "print(sample_text)"
   ]
  },
  {
   "cell_type": "markdown",
   "metadata": {},
   "source": [
    "\n",
    "\n"
   ]
  },
  {
   "cell_type": "markdown",
   "metadata": {},
   "source": [
    "## Sets  \n",
    "These are *unordered* lists of *unique* elements.\n",
    "\n",
    "Note the use of curly  brackets rather than the square brackets used for lists."
   ]
  },
  {
   "cell_type": "code",
   "execution_count": null,
   "metadata": {},
   "outputs": [],
   "source": [
    "unique_numbers = {1, 2, 2, 2, 3}\n",
    "unique_numbers"
   ]
  },
  {
   "cell_type": "code",
   "execution_count": null,
   "metadata": {},
   "outputs": [],
   "source": [
    "type(unique_numbers)"
   ]
  },
  {
   "cell_type": "markdown",
   "metadata": {},
   "source": [
    "To initialise an empty set, use `set()`"
   ]
  },
  {
   "cell_type": "code",
   "execution_count": null,
   "metadata": {},
   "outputs": [],
   "source": [
    "new_set = set()\n",
    "type(new_set)"
   ]
  },
  {
   "cell_type": "markdown",
   "metadata": {},
   "source": [
    "To add an element to a set use the method `add`."
   ]
  },
  {
   "cell_type": "code",
   "execution_count": null,
   "metadata": {},
   "outputs": [],
   "source": [
    "unique_numbers.add(5)"
   ]
  },
  {
   "cell_type": "markdown",
   "metadata": {},
   "source": [
    "Use `len` to give the number of elements in a set."
   ]
  },
  {
   "cell_type": "code",
   "execution_count": null,
   "metadata": {},
   "outputs": [],
   "source": [
    "len(unique_numbers)"
   ]
  },
  {
   "cell_type": "markdown",
   "metadata": {},
   "source": [
    "To check the presence of an element in a set use the keyword `in`.\n",
    "\n",
    "Similar to the use of `in` for lists and strings."
   ]
  },
  {
   "cell_type": "code",
   "execution_count": null,
   "metadata": {},
   "outputs": [],
   "source": [
    "2 in unique_numbers"
   ]
  },
  {
   "cell_type": "markdown",
   "metadata": {
    "collapsed": true
   },
   "source": [
    "Iterating over a set\n",
    "\n",
    "The syntax for iterating over a set is similar to that used when iterating over a list. \n",
    "\n",
    "Remember to use `for`, `in`, `:` and indentation."
   ]
  },
  {
   "cell_type": "code",
   "execution_count": null,
   "metadata": {},
   "outputs": [],
   "source": [
    "for number in unique_numbers:\n",
    "    print(number * 3)"
   ]
  },
  {
   "cell_type": "code",
   "execution_count": null,
   "metadata": {
    "scrolled": true
   },
   "outputs": [],
   "source": [
    "for number in unique_numbers:\n",
    "    print (double(number))"
   ]
  },
  {
   "cell_type": "markdown",
   "metadata": {},
   "source": [
    "### Exercise 3a\n",
    "In the empty cell below create a function called `get_vocabulary` that takes a *list* of words as input, and returns a *set* of the words in the sentence.\n",
    "\n",
    "Use your function `get_vocabulary` to create the set dickens_vocab, a set of unique words in the opening_line (see above)."
   ]
  },
  {
   "cell_type": "code",
   "execution_count": 10,
   "metadata": {},
   "outputs": [],
   "source": [
    "opening_line=\"It was the best of times, it was the worst of times\""
   ]
  },
  {
   "cell_type": "code",
   "execution_count": 13,
   "metadata": {},
   "outputs": [
    {
     "name": "stdout",
     "output_type": "stream",
     "text": [
      "{'best', 'worst', 'times', 'It', 'the', 'it', 'was', 'times,', 'of'}\n"
     ]
    }
   ],
   "source": [
    "def get_vocabulary(words):\n",
    "    return set(words.split())\n",
    "\n",
    "dickens_vocab = get_vocabulary(opening_line)\n",
    "print(dickens_vocab)"
   ]
  },
  {
   "cell_type": "markdown",
   "metadata": {},
   "source": [
    "## Dictionaries\n",
    "A dictionary is an *unordered* set of key:value pairs. \n",
    "\n",
    "Keys are used to index the dictionary.\n",
    "\n",
    "The main operations are storing a value with a key, and then extracting a specific value using its key. \n",
    "\n",
    "Each key in a given dictionary must be unique. \n",
    "\n",
    "A dictionary is initialised with curly braces. This can contain comma-separated key:value pairs. \n",
    "\n",
    "Note the use of ':' to map a key to a value."
   ]
  },
  {
   "cell_type": "code",
   "execution_count": null,
   "metadata": {},
   "outputs": [],
   "source": [
    "simpsons_ages = {\"Bart\":10, \"Lisa\":8, \"Homer\" : \"thirty something\"}\n",
    "simpsons_ages"
   ]
  },
  {
   "cell_type": "code",
   "execution_count": null,
   "metadata": {},
   "outputs": [],
   "source": [
    "type(simpsons_ages)"
   ]
  },
  {
   "cell_type": "markdown",
   "metadata": {},
   "source": [
    "Accessing the values of keys in a dictionary"
   ]
  },
  {
   "cell_type": "code",
   "execution_count": null,
   "metadata": {},
   "outputs": [],
   "source": [
    "simpsons_ages[\"Homer\"]"
   ]
  },
  {
   "cell_type": "code",
   "execution_count": null,
   "metadata": {},
   "outputs": [],
   "source": [
    "simpsons_ages['Bart']"
   ]
  },
  {
   "cell_type": "markdown",
   "metadata": {},
   "source": [
    "Getting the number of elements in a dictionary.\n",
    "\n",
    "Just like getting the length of a list, we use the keyword `len`."
   ]
  },
  {
   "cell_type": "code",
   "execution_count": null,
   "metadata": {},
   "outputs": [],
   "source": [
    "len(simpsons_ages)"
   ]
  },
  {
   "cell_type": "markdown",
   "metadata": {},
   "source": [
    "Checking the presence of a key in a dictionary."
   ]
  },
  {
   "cell_type": "code",
   "execution_count": null,
   "metadata": {},
   "outputs": [],
   "source": [
    "\"Marge\" in simpsons_ages"
   ]
  },
  {
   "cell_type": "code",
   "execution_count": null,
   "metadata": {},
   "outputs": [],
   "source": [
    "\"Bart\" in simpsons_ages"
   ]
  },
  {
   "cell_type": "markdown",
   "metadata": {},
   "source": [
    "Accessing a key that does not exist is an error."
   ]
  },
  {
   "cell_type": "code",
   "execution_count": null,
   "metadata": {},
   "outputs": [],
   "source": [
    "simpsons_ages[\"Krusty\"]"
   ]
  },
  {
   "cell_type": "markdown",
   "metadata": {},
   "source": [
    "Accessing a key that does not exist using the `get` method, which supplies a default value to use in this case."
   ]
  },
  {
   "cell_type": "code",
   "execution_count": null,
   "metadata": {},
   "outputs": [],
   "source": [
    "simpsons_ages.get(\"Krusty\",\"I don't know\")"
   ]
  },
  {
   "cell_type": "markdown",
   "metadata": {},
   "source": [
    "Adding a new key:value entry to the dictionary."
   ]
  },
  {
   "cell_type": "code",
   "execution_count": null,
   "metadata": {},
   "outputs": [],
   "source": [
    "simpsons_ages[\"Marge\"] = 34\n",
    "simpsons_ages[\"Marge\"]"
   ]
  },
  {
   "cell_type": "markdown",
   "metadata": {},
   "source": [
    "### Exercise 4a\n",
    "In the blank cell below add two extra key-value pairs to the dictionary, `simpons_ages`, each consisting of a name and corresponding age."
   ]
  },
  {
   "cell_type": "code",
   "execution_count": 14,
   "metadata": {},
   "outputs": [
    {
     "ename": "NameError",
     "evalue": "name 'simpsons_ages' is not defined",
     "output_type": "error",
     "traceback": [
      "\u001b[1;31m---------------------------------------------------------------------------\u001b[0m",
      "\u001b[1;31mNameError\u001b[0m                                 Traceback (most recent call last)",
      "\u001b[1;32m<ipython-input-14-0c0d31502d72>\u001b[0m in \u001b[0;36m<module>\u001b[1;34m\u001b[0m\n\u001b[1;32m----> 1\u001b[1;33m \u001b[0msimpsons_ages\u001b[0m\u001b[1;33m[\u001b[0m\u001b[1;34m\"Skinner\"\u001b[0m\u001b[1;33m]\u001b[0m \u001b[1;33m=\u001b[0m \u001b[1;36m45\u001b[0m\u001b[1;33m\u001b[0m\u001b[1;33m\u001b[0m\u001b[0m\n\u001b[0m\u001b[0;32m      2\u001b[0m \u001b[0msimpsons_ages\u001b[0m\u001b[1;33m[\u001b[0m\u001b[1;34m\"Bart\"\u001b[0m\u001b[1;33m]\u001b[0m \u001b[1;33m=\u001b[0m \u001b[1;36m14\u001b[0m\u001b[1;33m\u001b[0m\u001b[1;33m\u001b[0m\u001b[0m\n",
      "\u001b[1;31mNameError\u001b[0m: name 'simpsons_ages' is not defined"
     ]
    }
   ],
   "source": [
    "simpsons_ages[\"Skinner\"] = 45\n",
    "simpsons_ages[\"Bart\"] = 14"
   ]
  },
  {
   "cell_type": "markdown",
   "metadata": {},
   "source": [
    "Use a `for` loop to iterate over *keys* in the dictionary. "
   ]
  },
  {
   "cell_type": "code",
   "execution_count": null,
   "metadata": {},
   "outputs": [],
   "source": [
    "for person in simpsons_ages: \n",
    "     print (person)"
   ]
  },
  {
   "cell_type": "markdown",
   "metadata": {},
   "source": [
    "You can also use (and will see other people use) the `keys` method. There is no difference between these two ways of accessing the dictionary keys in Python 3."
   ]
  },
  {
   "cell_type": "code",
   "execution_count": null,
   "metadata": {},
   "outputs": [],
   "source": [
    "for person in simpsons_ages.keys():\n",
    "    print (person)"
   ]
  },
  {
   "cell_type": "markdown",
   "metadata": {},
   "source": [
    "Use the `values` method to iterate over the values of a dictionary."
   ]
  },
  {
   "cell_type": "code",
   "execution_count": null,
   "metadata": {},
   "outputs": [],
   "source": [
    "for value in simpsons_ages.values():\n",
    "    print(value)"
   ]
  },
  {
   "cell_type": "markdown",
   "metadata": {},
   "source": [
    "Use the `items` method to iterate over the key-value pairs of a dictionary."
   ]
  },
  {
   "cell_type": "code",
   "execution_count": null,
   "metadata": {},
   "outputs": [],
   "source": [
    "for item in simpsons_ages.items():\n",
    "     print (item)"
   ]
  },
  {
   "cell_type": "code",
   "execution_count": null,
   "metadata": {},
   "outputs": [],
   "source": [
    "#Note that 'person' and 'age' here are arbitary variable names, and  can be replaced with any two names eg 'key' and 'value'\n",
    "for person, age in simpsons_ages.items():\n",
    "     print(person,\" is \", age, \" years old\")"
   ]
  },
  {
   "cell_type": "markdown",
   "metadata": {
    "collapsed": true
   },
   "source": [
    "### Exercise 4b\n",
    "In the blank cell below make a new dictionary called `polygons` where the keys are names of shapes and the values are the corresponding number of sides."
   ]
  },
  {
   "cell_type": "code",
   "execution_count": 15,
   "metadata": {},
   "outputs": [],
   "source": [
    "polygons = {\n",
    "    \"triangle\": 3,\n",
    "    \"quadrilateral\": 4,\n",
    "    \"pentagon\": 5\n",
    "}"
   ]
  },
  {
   "cell_type": "markdown",
   "metadata": {},
   "source": [
    "### Exercise 4c\n",
    "In the blank cell below iterate over the keys and values, printing each key and value in a sentence (eg 'a triangle has 3 sides')."
   ]
  },
  {
   "cell_type": "code",
   "execution_count": 17,
   "metadata": {},
   "outputs": [
    {
     "name": "stdout",
     "output_type": "stream",
     "text": [
      "a triangle has 3 sides\n",
      "a quadrilateral has 4 sides\n",
      "a pentagon has 5 sides\n"
     ]
    }
   ],
   "source": [
    "for name, sides in polygons.items():\n",
    "    print(\"a {} has {} sides\".format(name, sides))"
   ]
  },
  {
   "cell_type": "markdown",
   "metadata": {},
   "source": [
    "### Exercise 4d\n",
    "In the empty cell below write code that will print, one word per line, each word in `opening_line` together with the number of times that word appears in `opening_line`.\n",
    "\n",
    "Hint: use the `get` method to supply a default value of 0 for the number of times a word has been seen so far."
   ]
  },
  {
   "cell_type": "code",
   "execution_count": 20,
   "metadata": {},
   "outputs": [
    {
     "name": "stdout",
     "output_type": "stream",
     "text": [
      "It 1\n",
      "was 2\n",
      "the 2\n",
      "best 1\n",
      "of 2\n",
      "times, 1\n",
      "it 1\n",
      "worst 1\n",
      "times 1\n"
     ]
    }
   ],
   "source": [
    "wordCount = {}\n",
    "for word in opening_line.split():\n",
    "    if wordCount.get(word): wordCount[word] += 1\n",
    "    else: wordCount[word] = 1\n",
    "for w, c in wordCount.items():\n",
    "    print(w, c)"
   ]
  },
  {
   "cell_type": "markdown",
   "metadata": {},
   "source": [
    "## Files\n",
    "Files have a file path and in the cell below we use the variable `input_file_path` to hold a string that contains a file path."
   ]
  },
  {
   "cell_type": "code",
   "execution_count": 21,
   "metadata": {},
   "outputs": [],
   "source": [
    "#Make sure the file path points to a valid file\n",
    "#on the windows machines in the labs you will want something like this\n",
    "#input_file_path = \"N:/Documents/teaching/NLE2018/w1/Week1Labs/sample_text.txt\"\n",
    "\n",
    "#on a mac or a linux machine you will want something like this\n",
    "input_file_path = \"/Users/juliewe/Documents/teaching/NLE/NLE2019/w1/Week1Labs/sample_text.txt\""
   ]
  },
  {
   "cell_type": "markdown",
   "metadata": {},
   "source": [
    "We now use the file path variable to *open* the file. We need to do this before reading/writing to it."
   ]
  },
  {
   "cell_type": "code",
   "execution_count": 22,
   "metadata": {},
   "outputs": [
    {
     "ename": "FileNotFoundError",
     "evalue": "[Errno 2] No such file or directory: '/Users/juliewe/Documents/teaching/NLE/NLE2019/w1/Week1Labs/sample_text.txt'",
     "output_type": "error",
     "traceback": [
      "\u001b[1;31m---------------------------------------------------------------------------\u001b[0m",
      "\u001b[1;31mFileNotFoundError\u001b[0m                         Traceback (most recent call last)",
      "\u001b[1;32m<ipython-input-22-80099fdd83ee>\u001b[0m in \u001b[0;36m<module>\u001b[1;34m\u001b[0m\n\u001b[1;32m----> 1\u001b[1;33m \u001b[0minput_file\u001b[0m \u001b[1;33m=\u001b[0m \u001b[0mopen\u001b[0m\u001b[1;33m(\u001b[0m\u001b[0minput_file_path\u001b[0m\u001b[1;33m)\u001b[0m\u001b[1;33m\u001b[0m\u001b[1;33m\u001b[0m\u001b[0m\n\u001b[0m\u001b[0;32m      2\u001b[0m \u001b[0mtype\u001b[0m\u001b[1;33m(\u001b[0m\u001b[0minput_file\u001b[0m\u001b[1;33m)\u001b[0m\u001b[1;33m\u001b[0m\u001b[1;33m\u001b[0m\u001b[0m\n",
      "\u001b[1;31mFileNotFoundError\u001b[0m: [Errno 2] No such file or directory: '/Users/juliewe/Documents/teaching/NLE/NLE2019/w1/Week1Labs/sample_text.txt'"
     ]
    }
   ],
   "source": [
    "input_file = open(input_file_path)\n",
    "type(input_file)"
   ]
  },
  {
   "cell_type": "markdown",
   "metadata": {},
   "source": [
    "Use the `read` command to read the entire file contents into a `str` variable called `input_text`."
   ]
  },
  {
   "cell_type": "code",
   "execution_count": null,
   "metadata": {},
   "outputs": [],
   "source": [
    "input_text = input_file.read()\n",
    "type(input_text)"
   ]
  },
  {
   "cell_type": "code",
   "execution_count": null,
   "metadata": {},
   "outputs": [],
   "source": [
    "input_text"
   ]
  },
  {
   "cell_type": "markdown",
   "metadata": {},
   "source": [
    "When you are done with the file, close it."
   ]
  },
  {
   "cell_type": "code",
   "execution_count": null,
   "metadata": {},
   "outputs": [],
   "source": [
    "input_file.close()"
   ]
  },
  {
   "cell_type": "markdown",
   "metadata": {},
   "source": [
    "After the file has been closed it cannot be read any more."
   ]
  },
  {
   "cell_type": "code",
   "execution_count": null,
   "metadata": {},
   "outputs": [],
   "source": [
    "input_text = input_file.read()"
   ]
  },
  {
   "cell_type": "markdown",
   "metadata": {},
   "source": [
    "It is neater to use a `with ... as` block to `open` a file (and then you do not need to `close` it since it will close automatically when the block exits)"
   ]
  },
  {
   "cell_type": "code",
   "execution_count": null,
   "metadata": {},
   "outputs": [],
   "source": [
    "with open(input_file_path) as input_file:\n",
    "    some_input_text=input_file.read()"
   ]
  },
  {
   "cell_type": "code",
   "execution_count": null,
   "metadata": {},
   "outputs": [],
   "source": [
    "some_input_text"
   ]
  },
  {
   "cell_type": "code",
   "execution_count": null,
   "metadata": {},
   "outputs": [],
   "source": [
    "input_file.read()"
   ]
  },
  {
   "cell_type": "markdown",
   "metadata": {},
   "source": [
    "### Exercise 5\n",
    "In the blank cell below write a function, `print__word_counts` that will take a file path as an argument, open the file, then print, one word per line, each word in the file together with the number of times that word appears in the file. \n",
    "\n",
    "Test your function by running it on the `sample_text.txt`."
   ]
  },
  {
   "cell_type": "code",
   "execution_count": 25,
   "metadata": {},
   "outputs": [
    {
     "name": "stdout",
     "output_type": "stream",
     "text": [
      "This 1\n",
      "is 1\n",
      "some 3\n",
      "sample 2\n",
      "text. 1\n",
      "Feel 1\n",
      "free 1\n",
      "to 1\n",
      "replace 1\n",
      "it 1\n",
      "with 1\n",
      "something 1\n",
      "more 1\n",
      "interesting! 1\n"
     ]
    }
   ],
   "source": [
    "def print__word_counts(path):\n",
    "    with open(path) as file:\n",
    "        contents = file.read()\n",
    "        wordCount = {}\n",
    "        for word in contents.split():\n",
    "            if wordCount.get(word): wordCount[word] += 1\n",
    "            else: wordCount[word] = 1\n",
    "        for w, c in wordCount.items():\n",
    "            print(w, c)\n",
    "\n",
    "print__word_counts(\"sample_text.txt\")"
   ]
  },
  {
   "cell_type": "markdown",
   "metadata": {},
   "source": [
    "## Tuples\n",
    "\n",
    "A tuple consists of a number of values separated by commas. These can be different types. It is initialised with parentheses, containing its objects separated by commas."
   ]
  },
  {
   "cell_type": "code",
   "execution_count": null,
   "metadata": {},
   "outputs": [],
   "source": [
    "person = (\"Jon\", 14, \"jon@thewall.com\")\n",
    "person"
   ]
  },
  {
   "cell_type": "code",
   "execution_count": null,
   "metadata": {},
   "outputs": [],
   "source": [
    "type(person)"
   ]
  },
  {
   "cell_type": "markdown",
   "metadata": {},
   "source": [
    "Use `len` to count the number of elements in a tuple."
   ]
  },
  {
   "cell_type": "code",
   "execution_count": null,
   "metadata": {},
   "outputs": [],
   "source": [
    "len(person)"
   ]
  },
  {
   "cell_type": "markdown",
   "metadata": {},
   "source": [
    "Indexing into a tuple is similarly to indexing into a list."
   ]
  },
  {
   "cell_type": "code",
   "execution_count": null,
   "metadata": {},
   "outputs": [],
   "source": [
    "person[0]"
   ]
  },
  {
   "cell_type": "code",
   "execution_count": null,
   "metadata": {},
   "outputs": [],
   "source": [
    "person[-2:]"
   ]
  },
  {
   "cell_type": "markdown",
   "metadata": {},
   "source": [
    "It can be useful to use tuples as values in dictionaries."
   ]
  },
  {
   "cell_type": "code",
   "execution_count": null,
   "metadata": {},
   "outputs": [],
   "source": [
    "#Note that each key is a string, and each value is a tuple\n",
    "people = {\"Joffrey\":(12, \"Baratheon\", \"joff@kingslanding.com\"), \"Jon\":(14, \"Snow\", \"jon@thewall.com\")}\n",
    "people[\"Joffrey\"]"
   ]
  },
  {
   "cell_type": "code",
   "execution_count": null,
   "metadata": {},
   "outputs": [],
   "source": [
    "### Jon's age - we access this using the dictionary key, and then indexing within the value:\n",
    "people[\"Jon\"][0]"
   ]
  },
  {
   "cell_type": "code",
   "execution_count": null,
   "metadata": {},
   "outputs": [],
   "source": [
    "### Joffrey's email\n",
    "people[\"Joffrey\"][2]"
   ]
  },
  {
   "cell_type": "code",
   "execution_count": null,
   "metadata": {},
   "outputs": [],
   "source": [
    "#  list everyone's first and last names:\n",
    "for person, record in people.items():\n",
    "     print (person, record[1])"
   ]
  },
  {
   "cell_type": "markdown",
   "metadata": {},
   "source": [
    "### Exercise 6\n",
    "In the blank cell below create a dictionary called `address_book`, with at least 3 key-value entries. Each should consist of a person's name in string format (the key), and a tuple with corresponding pieces of information about them (the value).\n",
    "\n",
    "Once you've done that, iterate over the address book, printing information about each person into a sentence."
   ]
  },
  {
   "cell_type": "code",
   "execution_count": 28,
   "metadata": {},
   "outputs": [
    {
     "name": "stdout",
     "output_type": "stream",
     "text": [
      "Joe 12 is Doe years old. Their email is joe@joe.joe\n",
      "Cat 5 is Bat years old. Their email is cat@cat.cat\n",
      "Lee 62 is Bee years old. Their email is lee@lee.lee\n"
     ]
    }
   ],
   "source": [
    "address_book = {\n",
    "    \"Joe\": (12, \"Doe\", \"joe@joe.joe\"),\n",
    "    \"Cat\": (5, \"Bat\", \"cat@cat.cat\"),\n",
    "    \"Lee\": (62, \"Bee\", \"lee@lee.lee\")\n",
    "}\n",
    "\n",
    "for name, info in address_book.items():\n",
    "    age, surname, email = info\n",
    "    print(\"{} {} is {} years old. Their email is {}\".format(name, age, surname, email))"
   ]
  },
  {
   "cell_type": "markdown",
   "metadata": {},
   "source": [
    "## The range function\n",
    "\n",
    "This produces a generator of numbers in a specified range."
   ]
  },
  {
   "cell_type": "code",
   "execution_count": null,
   "metadata": {},
   "outputs": [],
   "source": [
    "indices = range(0,5)\n",
    "indices"
   ]
  },
  {
   "cell_type": "code",
   "execution_count": null,
   "metadata": {},
   "outputs": [],
   "source": [
    "type(indices)"
   ]
  },
  {
   "cell_type": "code",
   "execution_count": null,
   "metadata": {},
   "outputs": [],
   "source": [
    "len(indices)"
   ]
  },
  {
   "cell_type": "markdown",
   "metadata": {},
   "source": [
    "The output from a `range` can be used as a set of indices."
   ]
  },
  {
   "cell_type": "markdown",
   "metadata": {},
   "source": [
    "If `range` is given a single parameter, it will create a range from zero."
   ]
  },
  {
   "cell_type": "code",
   "execution_count": 29,
   "metadata": {},
   "outputs": [
    {
     "name": "stdout",
     "output_type": "stream",
     "text": [
      "0\n",
      "1\n",
      "2\n",
      "3\n",
      "4\n",
      "5\n",
      "6\n",
      "7\n",
      "8\n",
      "9\n"
     ]
    }
   ],
   "source": [
    "for i in range(10):\n",
    "    print (i)"
   ]
  },
  {
   "cell_type": "markdown",
   "metadata": {},
   "source": [
    "### Exercise 7a\n",
    "In the blank cell below use `range` to print a list of the first 10 integers."
   ]
  },
  {
   "cell_type": "code",
   "execution_count": 30,
   "metadata": {},
   "outputs": [
    {
     "name": "stdout",
     "output_type": "stream",
     "text": [
      "0\n",
      "1\n",
      "2\n",
      "3\n",
      "4\n",
      "5\n",
      "6\n",
      "7\n",
      "8\n",
      "9\n"
     ]
    }
   ],
   "source": [
    "for i in range(10):\n",
    "    print(i)"
   ]
  },
  {
   "cell_type": "markdown",
   "metadata": {},
   "source": [
    "### Exercise 7b\n",
    "In the cell below use `range` to print a list of the first 10 cubes."
   ]
  },
  {
   "cell_type": "code",
   "execution_count": 31,
   "metadata": {},
   "outputs": [
    {
     "name": "stdout",
     "output_type": "stream",
     "text": [
      "0\n",
      "1\n",
      "8\n",
      "27\n",
      "64\n",
      "125\n",
      "216\n",
      "343\n",
      "512\n",
      "729\n"
     ]
    }
   ],
   "source": [
    "for i in range(10):\n",
    "    print(i**3)"
   ]
  },
  {
   "cell_type": "markdown",
   "metadata": {},
   "source": [
    "## The zip function\n",
    "\n",
    "The zip function is used to pair up the corresponding elements between multiple iterables. \n",
    "\n",
    "It takes multiple iterables as arguments, and returns a list of tuples where the i-th tuple consists of the i-th element from each of the input iterables.\n",
    "\n",
    "In the example below, we 'zip together' `words` and `indices` into a series of tuples called `word_positions`. For example, the 3rd element of `word_positions` contains the 3rd element of `words` and the 3rd element of `indices`."
   ]
  },
  {
   "cell_type": "code",
   "execution_count": 32,
   "metadata": {},
   "outputs": [
    {
     "data": {
      "text/plain": [
       "zip"
      ]
     },
     "execution_count": 32,
     "metadata": {},
     "output_type": "execute_result"
    }
   ],
   "source": [
    "words = 'It was the best of times, it was the worst of times'.split()\n",
    "indices = range(len(words))\n",
    "word_positions = zip(words, indices)\n",
    "type(word_positions)"
   ]
  },
  {
   "cell_type": "code",
   "execution_count": 33,
   "metadata": {},
   "outputs": [
    {
     "name": "stdout",
     "output_type": "stream",
     "text": [
      "'It' is in position 0\n",
      "'was' is in position 1\n",
      "'the' is in position 2\n",
      "'best' is in position 3\n",
      "'of' is in position 4\n",
      "'times,' is in position 5\n",
      "'it' is in position 6\n",
      "'was' is in position 7\n",
      "'the' is in position 8\n",
      "'worst' is in position 9\n",
      "'of' is in position 10\n",
      "'times' is in position 11\n"
     ]
    }
   ],
   "source": [
    "for word, position in word_positions:\n",
    "    print(\"'{0}' is in position {1}\".format(word,position))\n"
   ]
  },
  {
   "cell_type": "markdown",
   "metadata": {},
   "source": [
    "### Exercise 8\n",
    "In the blank cell below write a function, `show_word_positions` that takes a filepath as its argument. The function should read the text from the file, split the text on whitespace, and then print out each word and its position as in the above example.\n",
    "\n",
    "Test your function out on `sample_text.txt`."
   ]
  },
  {
   "cell_type": "code",
   "execution_count": 38,
   "metadata": {},
   "outputs": [
    {
     "name": "stdout",
     "output_type": "stream",
     "text": [
      "This is in position 0\n",
      "is is in position 1\n",
      "some is in position 2\n",
      "sample is in position 3\n",
      "text. is in position 4\n",
      "Feel is in position 5\n",
      "free is in position 6\n",
      "to is in position 7\n",
      "replace is in position 8\n",
      "it is in position 9\n",
      "with is in position 10\n",
      "something is in position 11\n",
      "more is in position 12\n",
      "interesting! is in position 13\n",
      "some is in position 14\n",
      "some is in position 15\n",
      "sample is in position 16\n"
     ]
    }
   ],
   "source": [
    "def show_word_positions(path):\n",
    "    with open(path) as file:\n",
    "        contents = file.read()\n",
    "        for pos, word in enumerate(contents.split()):\n",
    "            print(\"{} is in position {}\".format(word, pos))\n",
    "\n",
    "show_word_positions(\"sample_text.txt\")"
   ]
  },
  {
   "cell_type": "markdown",
   "metadata": {},
   "source": [
    "If lists are of different lengths, `zip` will ignore elements in the longer list beyond the length of the shorter list"
   ]
  },
  {
   "cell_type": "code",
   "execution_count": null,
   "metadata": {},
   "outputs": [],
   "source": [
    "listA = [\"the\",\"cat\",\"sat\"]\n",
    "listB = [\"a\",\"dog\",\"lay\",\"down\"]\n",
    "\n",
    "for elem in zip(listB,listA):\n",
    "    print(elem)"
   ]
  },
  {
   "cell_type": "markdown",
   "metadata": {},
   "source": [
    "If you want to pad out any 'missing' elements, you might find `zip_longest` useful.  This resides in a library called `itertools`."
   ]
  },
  {
   "cell_type": "code",
   "execution_count": null,
   "metadata": {},
   "outputs": [],
   "source": [
    "from itertools import zip_longest\n",
    "\n",
    "for elem in zip_longest(listA,listB):\n",
    "    print(elem)"
   ]
  },
  {
   "cell_type": "markdown",
   "metadata": {},
   "source": [
    "### Enumerate\n",
    "Python provides a built-in function that can be used instead of `range` and `zip`."
   ]
  },
  {
   "cell_type": "code",
   "execution_count": null,
   "metadata": {},
   "outputs": [],
   "source": [
    "for a,b in enumerate(['The','Holy','Grail']): \n",
    "    print(a,b)"
   ]
  },
  {
   "cell_type": "code",
   "execution_count": null,
   "metadata": {},
   "outputs": [],
   "source": [
    "for a,b in enumerate(['The','Holy','Grail'],1): \n",
    "    print(a,b)"
   ]
  },
  {
   "cell_type": "markdown",
   "metadata": {},
   "source": [
    "### Exercise 9\n",
    "In the empty cell below, write a function that calculates the number of letters in each word of an input string, returning a list of tuples `(position, length)`.\n"
   ]
  },
  {
   "cell_type": "code",
   "execution_count": 1,
   "metadata": {},
   "outputs": [
    {
     "name": "stdout",
     "output_type": "stream",
     "text": [
      "(0, 5) (1, 5)\n"
     ]
    }
   ],
   "source": [
    "def countLetters(s):\n",
    "    res = []\n",
    "    for pos, word in enumerate(s.split()):\n",
    "        res.append((pos, len(word)))\n",
    "    return res"
   ]
  },
  {
   "cell_type": "code",
   "execution_count": 2,
   "metadata": {},
   "outputs": [
    {
     "name": "stdout",
     "output_type": "stream",
     "text": [
      "(0, 5) (1, 5)\n"
     ]
    }
   ],
   "source": [
    "test = countLetters(\"Hello there\")\n",
    "print(test[0], test[1])"
   ]
  },
  {
   "cell_type": "code",
   "execution_count": null,
   "metadata": {},
   "outputs": [],
   "source": []
  }
 ],
 "metadata": {
  "anaconda-cloud": {},
  "kernelspec": {
   "display_name": "Python 3",
   "language": "python",
   "name": "python3"
  },
  "language_info": {
   "codemirror_mode": {
    "name": "ipython",
    "version": 3
   },
   "file_extension": ".py",
   "mimetype": "text/x-python",
   "name": "python",
   "nbconvert_exporter": "python",
   "pygments_lexer": "ipython3",
   "version": "3.6.7"
  }
 },
 "nbformat": 4,
 "nbformat_minor": 1
}

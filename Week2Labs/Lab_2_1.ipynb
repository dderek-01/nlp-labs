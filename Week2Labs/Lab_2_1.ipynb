{
 "cells": [
  {
   "cell_type": "markdown",
   "metadata": {},
   "source": [
    "# Week 2: Preprocessing Text (Part 1)\n",
    "\n",
    "Its conventional to group together all of the library imports required at the beginning of the notebook.  You will see these libraries in action later on."
   ]
  },
  {
   "cell_type": "code",
   "execution_count": 3,
   "metadata": {},
   "outputs": [],
   "source": [
    "import sys\n",
    "import re\n",
    "import pandas as pd\n",
    "from itertools import zip_longest\n"
   ]
  },
  {
   "cell_type": "markdown",
   "metadata": {},
   "source": [
    "## Overview \n",
    "A raw text document is just a sequence of characters. There are a number of basic steps that are often performed when processing natural language text. In lab sessions this week we will cover some of the basic text pre-processing methods. In particular, you will be looking at:\n",
    "- <b> tokenisation</b> - roughly speaking, this involves grouping characters into words;\n",
    "- <b>case normalisation</b> - this involves converting all of the text into lower case; \n",
    "- <b>stemming</b> - this involves removing a word's inflections to find the stem; and \n",
    "- <b>punctuation and stop-word removal</b> - stop-words are common functions words that in some situations can be ignored.\n",
    "\n",
    "Note that we do not always apply all of the above preprocessing methods; it depends on the application. One of the things that you will be learning about in this module, is when the application of each of these methods is, and is not, appropriate."
   ]
  },
  {
   "cell_type": "markdown",
   "metadata": {},
   "source": [
    "### Available corpora\n",
    "We have provided simple interfaces to each of the following corpora, which interact well with NLTK tools.\n",
    "\n",
    "- The NLTK texts\n",
    "- Amazon product reviews (~78k documents, ~640k sentences)\n",
    "- Wall Street Journal text (~2k documents, ~51k sentences)\n",
    "- Reuters articles (~61k documents, ~740k sentences)\n",
    "  - Reuters / Finance (~47k documents, ~550k sentences)\n",
    "  - Reuters / Sport (~13k documents, ~185k sentences)\n",
    "- Medline abstracts (~985k documents, ~6100k sentences)\n",
    "- Twitter posts (~962k documents, ~1720k sentences)"
   ]
  },
  {
   "cell_type": "markdown",
   "metadata": {},
   "source": [
    "In order to access these interfaces, you will need to tell python where your `resources` directory.  This will depend on the machine you are working on.  If you are working on one of the lab machines, it will be available on the teaching drive.  If you are working on your own machine, you will need to download the resources zip file, uncompress it and update the path below accordingly.\n"
   ]
  },
  {
   "cell_type": "code",
   "execution_count": 4,
   "metadata": {},
   "outputs": [],
   "source": [
    "#sys.path.append(r'T:\\Departments\\Informatics\\LanguageEngineering') \n",
    "sys.path.append(r'\\\\ad.susx.ac.uk\\ITS\\TeachingResources\\Departments\\Informatics\\LanguageEngineering\\resources')\n",
    "sys.path.append(r'/Users/jlxc20/nlp-labs\\resources')\n",
    "\n"
   ]
  },
  {
   "cell_type": "markdown",
   "metadata": {},
   "source": [
    "## Getting raw sentences from a corpus\n",
    "The corpora are too large to easily process with some of the functions you will be using, so we have provided a way for you to work on a randomly selected sample of each corpus.\n",
    "\n",
    "Readers for the Reuters, Twitter and Medline corpora can be initialised using calls to: <code>ReutersCorpusReader()</code>, <code>TwitterCorpusReader()</code> and <code>MedlineCorpusReader()</code> respectively.\n",
    "\n",
    "The readers for each of these corpora have a function called <code style=\"background-color: #F5F5F5;\">sample_raw_sents</code>, which returns a specified number of random sentences, where each sentence is an un-tokenised string.\n",
    "\n",
    "The code in the next cell shows you how to iterate over a random sample of 10 sentences. When you are using a tokeniser, you will replace\n",
    "`# do something with sentence`\n",
    "with code that tokenises each sentence and prints the results."
   ]
  },
  {
   "cell_type": "code",
   "execution_count": 7,
   "metadata": {},
   "outputs": [
    {
     "name": "stdout",
     "output_type": "stream",
     "text": [
      "172\n",
      "117\n",
      "177\n",
      "111\n",
      "165\n",
      "118\n",
      "58\n",
      "27\n",
      "49\n",
      "28\n"
     ]
    }
   ],
   "source": [
    "from sussex_nltk.corpus_readers import ReutersCorpusReader\n",
    "\n",
    "rcr = ReutersCorpusReader()    #Create a new reader\n",
    "\n",
    "sample_size = 10  #size of sample\n",
    "\n",
    "for sentence in rcr.sample_raw_sents(sample_size): #get a sample of random sentences, where each sentence is a string\n",
    "    # do something with sentence\n",
    "    print(len(sentence))"
   ]
  },
  {
   "cell_type": "markdown",
   "metadata": {},
   "source": [
    "### Exercise 1.1\n",
    "\n",
    "- In the cell below, write code which will print a sample of **20** sentences from the **Twitter** corpus.  \n"
   ]
  },
  {
   "cell_type": "code",
   "execution_count": 66,
   "metadata": {},
   "outputs": [
    {
     "name": "stdout",
     "output_type": "stream",
     "text": [
      "Olympics: U.S. men's hoops superstars are also fans: LONDON - The USA men's basketball players are not merely... http://t.co/F3PGuGVi #R #LT\n",
      "London 2012 Olympics: Usain Bolt and Yohan Blake qualify for 200m semi-final: Usain Bolt began his bid to add a ... http://t.co/OPH3bcLh\n",
      "Brownlee brother first and second on run #TeamGB #triathalon\n",
      "Another medal for #TeamGB as Nick Dempsey takes silver in men's RS-X.\n",
      "Is it bad that every time they say Trinidad, the Geographical Fugue begins in my head? #weirdo #Olympics\n",
      "RT @FillWerrell: The last day of the Olympics should be all the gold medalist playing dodgeball until we have an ultimate champion.\n",
      "RT @frankieboyle: I think that after the Olympics Britain should give up being a country, go out on a high\n",
      "well done #teamgb for the 20th gold medal\n",
      "Visca la sincro!!!!  #orgullcatalà #JJOO2012 #london2012 #plata\n",
      "Ever wonder how Olympics athletes perform at such a high level?  Here's 3 of the keys:n http://t.co/g0P6GpKA\n",
      "RT @klubbkiddkl: Keep supporting #TeamMalaysia - there is still hope to hear Negaraku at the Olympics!\n",
      "Congrats to the New World and Olympic Champion @LauraTrott31 #OurGeatestTeam #GoldenTeamGb Gold No. 21 @TeamGB\n",
      "smh*“@rmajayi: #Nigerian newspaper headline: \"Witches and wizards blamed for Blessing Okagbare’s poor performance at the Olympics\"\n",
      "Currently 1 Japón a 1 México -- Olympics semifinals in men's soccer.\n",
      "Our very own #google #olympics - my pb is 15.6secs so pressure's on @bothwellian 2 beat that!\n",
      "Chris Hoy is the king! @TeamGB cyclists are a true #inspiration to all!\n",
      "A la final!!!!! #VivaMexicoCabrones !!! #London2012\n",
      "@Sloggss i have only just arrived back from Africa today and I am going to the Olympics tomorrow, I will be returning next week\n",
      "Hahahahahahahahahahah RT @jugryf: Olympics should end already....NKT! #TeamKenya\n",
      "Hell yeah....Kessy/Ross #USA Beach Womens Volleyball just got revenge on the Brazilians and are headin to the Gold medal game #Olympics\n"
     ]
    }
   ],
   "source": [
    "from sussex_nltk.corpus_readers import TwitterCorpusReader\n",
    "\n",
    "tcr = TwitterCorpusReader()    #Create a new reader\n",
    "\n",
    "sample_size = 20  #size of sample\n",
    "\n",
    "for sentence in rt.sample_raw_sents(sample_size): #get a sample of random sentences, where each sentence is a string\n",
    "    # do something with sentence\n",
    "    print(sentence)"
   ]
  },
  {
   "cell_type": "markdown",
   "metadata": {},
   "source": [
    "For more information, point your browser at [Sussex NLTK package documentation](http://www.sussex.ac.uk/Users/davidw/courses/nle/SussexNLTK-API/) and have a look around. This provides information about the above corpora. Take a particularly careful look at the [corpus_readers Module](http://www.sussex.ac.uk/Users/davidw/courses/nle/SussexNLTK-API/sussex_nltk.html#module-sussex_nltk.corpus_readers)"
   ]
  },
  {
   "cell_type": "markdown",
   "metadata": {},
   "source": [
    "### Exercise 1.2\n",
    "\n",
    "- In the cell below write code that will take a sample of sentences from each of the Reuters, Twitter and Medline corpora and displays the average length (as measured in terms of the number of characters in the sentence).\n",
    "\n",
    "- How large do you think the sample size should be in order to decide whether the differences observed are systematic or random? "
   ]
  },
  {
   "cell_type": "code",
   "execution_count": 67,
   "metadata": {},
   "outputs": [
    {
     "name": "stdout",
     "output_type": "stream",
     "text": [
      "64.7\n",
      "96.5\n",
      "177.4\n"
     ]
    }
   ],
   "source": [
    "from sussex_nltk.corpus_readers import MedlineCorpusReader\n",
    "\n",
    "mcr = MedlineCorpusReader()    #Create a new reader\n",
    "\n",
    "sampleSize = 10\n",
    "\n",
    "def printAvgLength(r):\n",
    "    totalLength = 0\n",
    "    for sentence in r.sample_raw_sents(sampleSize):\n",
    "        totalLength += len(sentence)\n",
    "    print(totalLength / sampleSize)\n",
    "\n",
    "printAvgLength(rcr)\n",
    "printAvgLength(tcr)\n",
    "printAvgLength(mcr)"
   ]
  },
  {
   "cell_type": "code",
   "execution_count": null,
   "metadata": {},
   "outputs": [],
   "source": []
  },
  {
   "cell_type": "markdown",
   "metadata": {},
   "source": [
    "## DIY Tokenisation with Regular Expressions\n",
    "Text doesn't come in neat tokens ready for analysis, it must first undergo sentence segmentation and tokenisation.  \n",
    "We have already sentence segmented the corpora.  \n",
    "In this lab you will be focusing on tokenisation, in particular, you will be comparing the merits of the following tokenisers:  \n",
    "- Your own regular expression based tokeniser\n",
    "- The (NLTK implemented) PENN treebank style regular expression based tokeniser\n",
    "- A Twitter-specific CMU tokeniser"
   ]
  },
  {
   "cell_type": "markdown",
   "metadata": {},
   "source": [
    "### Issues to consider\n",
    "Your goal when working through this next section should be to investigate the strengths and weaknesses of each of the 3 tokenisers on three rather different kinds of corpora: \n",
    "- the Reuters corpus, \n",
    "- the Twitter corpus and \n",
    "- the Medline corpus."
   ]
  },
  {
   "cell_type": "markdown",
   "metadata": {},
   "source": [
    "### Making your own tokeniser\n",
    "In this section, you will write your own Python function, which takes as input a single string representing a sentence, and returns a <b>list of strings</b> obtained by splitting the sentence into tokens.\n",
    "\n",
    "Let's start by simply splitting by whitespace. "
   ]
  },
  {
   "cell_type": "code",
   "execution_count": null,
   "metadata": {},
   "outputs": [],
   "source": [
    "print(\"   What    is the    air-speed   velocity of  an unladen swallow?   \".split()) "
   ]
  },
  {
   "cell_type": "markdown",
   "metadata": {},
   "source": [
    "### Exercise 2.1\n",
    "\n",
    "- In the empty code cell below write a [function](http://docs.python.org/tutorial/controlflow.html#defining-functions), `tokenise` which takes a sentence as input and returns a list of the tokens making up the sentence. Your first version of this function should tokenise only on whitespace, as shown in the cell above. Show that your function works on the sentence shown above.\n",
    "- Note: this is intended to be an easy exercise - just a couple of lines of code - don't overcomplicate it!"
   ]
  },
  {
   "cell_type": "code",
   "execution_count": 9,
   "metadata": {},
   "outputs": [
    {
     "name": "stdout",
     "output_type": "stream",
     "text": [
      "['What', 'is', 'the', 'air-speed', 'velocity', 'of', 'an', 'unladen', 'swallow?']\n"
     ]
    }
   ],
   "source": [
    "def tokenise(s):\n",
    "    return s.split()\n",
    "\n",
    "print(tokenise(\"   What    is the    air-speed   velocity of  an unladen swallow?   \"))"
   ]
  },
  {
   "cell_type": "markdown",
   "metadata": {},
   "source": [
    "### Exercise 2.2\n",
    "\n",
    "- In the empty code cell below write code that applies your tokenise function to each sentence in a sample of 30 sentences taken from  the Reuters, Twitter and Medline corpora, 10 sentences from each corpus."
   ]
  },
  {
   "cell_type": "code",
   "execution_count": 68,
   "metadata": {},
   "outputs": [
    {
     "name": "stdout",
     "output_type": "stream",
     "text": [
      "['0830', 'Wed', 'UK', 'RETAIL', 'SALES', 'SA', 'JUL', '0', '.4', 'PCT', '-0', '.1/0', '.6', '0', '.6']\n",
      "['In', 'the', 'Republican', 'response', 'to', 'President', 'Clinton', \"'s\", 'weekly', 'radio', 'address', ',', 'Gregg', 'urged', 'voters', 'to', 'ignore', 'those', 'who', 'said', 'the', 'party', 'did', 'not', 'get', 'everything', 'it', 'wanted', 'in', 'the', 'budget', 'deal', 'with', 'the', 'White', 'House', '.']\n",
      "['Construction', 'activity', 'rose', '7', 'percent', 'in', 'June', ',', 'electricity', ',', 'gas', 'and', 'water', 'generation', 'was', 'up', '4', '.3', 'percent', 'in', 'June', 'and', 'mining', 'was', 'up', '5', '.6', 'percent', 'compared', 'with', 'June', '1996', '.']\n",
      "['Note', '-', 'The', 'combined', 'producer/import', 'price', 'index', 'replaced', 'the', 'wholesale', 'price', 'index', 'in', 'May', '1993', '.']\n",
      "['President', 'Alberto', 'Fujimori', 'said', 'Wednesday', 'the', 'Peruvian', 'economy', 'is', 'on', 'course', 'for', 'sustained', 'growth', 'fueled', 'by', 'private', 'investment', 'and', 'the', 'government', \"'s\", 'welfare', 'and', 'public', 'works', 'expenditures', '.']\n",
      "['Brazil', 'Malan', 'plays', 'down', 'import', 'financing', 'concerns', '.']\n",
      "['2002', '500', ',000']\n",
      "['--Almaty', 'Newsroom', ',', '+7', '3272', '509410']\n",
      "['It', 'gave', 'no', 'details', 'of', 'oil', 'product', 'imports', '.']\n",
      "[\"They've\", 'got', 'guys', 'working', '18', 'hours', 'a', 'day', ',', 'seven', 'days', 'a', 'week', ',\"', 'said', 'Copland', ',', 'who', 'declined', 'to', 'specify', 'how', 'many', 'jobs', 'the', 'union', 'wants', 'added', '.']\n",
      "['Remeber', 'that', 'olympics', 'http', '://t', '.co/6JN5A5H9']\n",
      "['Russia', 'vs', '.', 'Brazil', ':)', '#Olympics2012']\n",
      "['NBA', '2K12', 'London', 'Olympics', 'Team', 'USA', 'mod', 'http', '://t', '.co/XV2sUsdy']\n",
      "['@jamesaknight', '@Bickley14', 'Agreed', '.', 'Many', 'reasons', 'to', 'be', 'critical', 'of', 'government', '&', 'PM', 'but', 'really', 'do', \"n't\", 'think', 'Olympics', 'is', 'one', 'of', 'them']\n",
      "['More', '#TrackCycling', 'gold', 'for', 'Team', 'GB', ':', 'Laura', 'Trott', 'wins', 'the', 'women', \"'s\", 'Omnium', 'in', 'front', 'of', 'an', 'ecstatic', 'home', 'crowd', 'http', '://t', '.co/WrrcC7rS', '#London2012']\n",
      "['RT', '@ChelseaNewsID', ':', 'Oscar', 'berada', 'di', 'line', 'up', 'Brasil', 'vs', 'Korea', 'Selatan', '.', 'Live', 'Pukul', '01', '.45', 'wib', '.', 'LIVE', 'RCTI', '.', '#London2012']\n",
      "['China', ',', 'surprisingly', 'is', 'NOT', 'dominating', 'this', 'event', '.', '#diving', '#London2012']\n",
      "['I', 'think', 'I', 'must', 'come', 'across', 'as', 'a', 'bit', 'grumpy', '(I', \"'m\", 'not', 'really)', '-', 'but', 'these', 'Olympics', 'are', 'impossible', 'to', 'be', 'cynical', 'about', '.', '#backtoschoolsoon']\n",
      "['Congratulation', 'for', 'everything', 'you', 'did', 'on', 'Olympics', 'games', 'you', 'are', 'really', 'amazing', ':-)']\n",
      "['This', 'US', 'vs', 'Brazil', 'beach', 'volleyball', 'game', 'is', 'getting', 'intense', '#London2012']\n",
      "['The', 'frequency', 'of', 'bleeding', 'irregularities', 'was', 'the', 'same', 'for', 'both', 'types', '-', '11%', '.']\n",
      "['The', 'reliability', 'of', 'the', 'diagnosis', 'was', 'measured', 'by', 'the', 'extent', 'of', 'agreement', 'among', 'the', 'hospital', 'clinicians', '.']\n",
      "['The', 'density', 'gradient', 'measurements', 'are', 'rapid', 'and', 'reproducible', 'and', 'constitute', 'a', 'suitable', 'method', 'for', 'determining', 'the', 'parathyroid', 'parenchymal', 'cell', 'mass', '.']\n",
      "['A', 'mean', 'A-V', '02', 'content', 'difference', 'of', '3', '.5', 'plus', 'or', 'minus', '0', '.8', 'volumes', 'percent', 'was', 'obtained', 'from', 'the', 'PA', 'and', '2', '.6', 'plus', 'or', 'minus', '1', '.1', 'volumes', 'percent', 'from', 'the', 'SVC', '.']\n",
      "['Such', 'a', 'demonstration', 'requires', 'comparison', 'of', 'the', 'outcome', 'of', 'a', 'considerable', 'number', 'of', 'surgical', 'operations', 'performed', 'during', 'the', 'same', 'period', 'by', 'the', 'same', 'surgeons', 'under', 'conditions', 'which', 'differ', 'only', 'in', 'the', 'levels', 'of', 'air', 'contamination', '.']\n",
      "['The', 'effect', 'increased', 'by', 'increasing', 'ganglioside', 'concentration', ',', 'and', 'diminished', 'from', 'GM1', 'to', 'GD1a', 'and', 'GT1b', '.']\n",
      "['Thus', 'arguments', 'suggesting', 'a', 'close', 'correspondence', 'between', 'city', 'size', 'distributions', 'and', 'the', 'level', 'of', 'development', 'of', 'a', 'country', ',', 'irrespective', 'of', 'intranational', 'variations', 'in', 'city', 'location', 'and', 'socioeconomic', 'characteristics', ',', 'seem', 'to', 'have', 'little', 'foundation', '.']\n",
      "['Improvement', 'was', 'obtained', 'after', 'thymectomy', 'in', '10', 'cases', '(73%)', 'and', 'in', '12', '(50%)', 'conservatively', 'treated', 'cases', '.']\n",
      "['Assessment', 'of', 'the', 'program', 'through', 'the', 'use', 'of', 'question', 'naires', 'completed', 'by', '335', 'patients', 'at', 'the', 'time', 'of', 'discharge', 'showed', 'significant', 'improvement', 'in', 'their', 'presenting', 'symptoms', ',', 'interpersonal', 'relationships', ',', 'ability', 'to', 'work', ',', 'and', 'general', 'level', 'of', 'comfort', '.']\n",
      "['Strain', 'specificity', 'remained', 'unchanged', '.']\n"
     ]
    }
   ],
   "source": [
    "sampleSize = 10\n",
    "\n",
    "def tokeniseSamples(r):\n",
    "    for sentence in r.sample_raw_sents(sampleSize):\n",
    "        print(tokenise(sentence))\n",
    "        \n",
    "tokeniseSamples(rcr)\n",
    "tokeniseSamples(tcr)\n",
    "tokeniseSamples(mcr)"
   ]
  },
  {
   "cell_type": "markdown",
   "metadata": {},
   "source": [
    "In most tokenisation policies (e.g. in the Wall Street Journal corpus), contractions like \"I'm\" tend to be split into \"I\" and \"'m\".  \n",
    "\n",
    "When it comes to more than just splitting by whitespace, it can be convenient to use [regular expressions](http://docs.python.org/library/re.html) to process the string in some way. The following code cell illustrates this. Trying running it and then read on to discover how it works."
   ]
  },
  {
   "cell_type": "code",
   "execution_count": null,
   "metadata": {},
   "outputs": [],
   "source": [
    "print(re.sub(\"([.?!'])\", \" \\g<1>\", \"You're using coconuts!\").split())   "
   ]
  },
  {
   "cell_type": "markdown",
   "metadata": {},
   "source": [
    "Let's look at how the above code works by breaking it down.  \n",
    "\n",
    "First, run the following cell."
   ]
  },
  {
   "cell_type": "code",
   "execution_count": null,
   "metadata": {
    "scrolled": true
   },
   "outputs": [],
   "source": [
    "print(re.sub(\"'\", \" '\", \"You're using coconuts!\")   )"
   ]
  },
  {
   "cell_type": "markdown",
   "metadata": {},
   "source": [
    "As you can see, this code takes the string \"You're using coconuts!\" and inserts a space before the apostophe, the `'` character. \n",
    "\n",
    "Let's see how it works...\n",
    "\n",
    "The first argument of `re.sub`, i.e. `\"'\"`, is a regular expression that in this case is extremely simple, since it only matches the apostophe character, `'`.\n",
    "\n",
    "The second argument of `re.sub`, where we see `\" '\"`, indicates that an apostophe should be substituted by a space followed by an apostophe.\n",
    "\n",
    "Now let's make it slightly more complicated. We also want to insert a space before the `\"!\"`, so let's look at how to do that. \n",
    "\n",
    "Run the following code cell."
   ]
  },
  {
   "cell_type": "code",
   "execution_count": null,
   "metadata": {},
   "outputs": [],
   "source": [
    "print(re.sub(\"(['!])\", \" \\g<1>\", \"You're using coconuts!\")   )"
   ]
  },
  {
   "cell_type": "markdown",
   "metadata": {},
   "source": [
    "The first argument of `re.sub`, has been changed to `\"(['!])\"`, which is a regular expression that matches either an apostophe character,`'`, or an exclamation mark,`!`.\n",
    "\n",
    "This is achieved with the regular expression `\"['!]\"`, where the square brackets enclose the alternative characters. \n",
    "\n",
    "Why does the regular expression contain parenthesis? \n",
    "\n",
    "It has to do with what we need to put as the second argument of `re.sub` where the substitution is specified. \n",
    "\n",
    "To understand this, you need to appreciate that we want to add a space before an apostrophe and also a space before an exclamation mark. How can we specify that in the second argument of `re.sub`? \n",
    "\n",
    "The answer is that we need to make use of the the idea of a **group**.\n",
    "\n",
    "The parenthesis in `\"(['!])\"` define the start and end of a group. In this case the whole regular expression is a group. In general, however, there can be several sets of parentheis defining several groups. For example, the regular expression `\"([Tt]h)e (m*n)\"` has two groups. Groups are numbered from left to right, so the group in the regular expression `\"(['!])\"` is group 1. \n",
    "\n",
    "Defining this group allows us to refer to the string that matches the regular expression `\"(['!])\"`, which will be either an apostrophe or an exclamation mark. This is then used in the second argument of `re.sub`, where we see `\" \\g<1>\"`, which indicates that the material that matches the apostophe or exclamation mark should be substituted by a space followed by the symbol that was matched. The `1` in `\\g<1>` tells us that it is group one.\n",
    "\n",
    "We are now ready to look at the original code, which is reproduced below and should now make sense. "
   ]
  },
  {
   "cell_type": "code",
   "execution_count": 12,
   "metadata": {},
   "outputs": [
    {
     "name": "stdout",
     "output_type": "stream",
     "text": [
      "['You', \"'re\", 'using', 'coconuts', '!']\n"
     ]
    }
   ],
   "source": [
    "print(re.sub(\"([.?!'])\", \" \\g<1>\", \"You're using coconuts!\").split())   "
   ]
  },
  {
   "cell_type": "markdown",
   "metadata": {},
   "source": [
    "First, the spaces are added before any full stop, question mark, exclamation mark or apostrophe.\n",
    "The resulting string is then split on white space."
   ]
  },
  {
   "cell_type": "markdown",
   "metadata": {},
   "source": [
    "### Exercise 2.3\n",
    "\n",
    "- Write a new version of your `tokenise` function that uses `re.sub` in the way we've just considered. Make sure you test your new function"
   ]
  },
  {
   "cell_type": "code",
   "execution_count": 11,
   "metadata": {},
   "outputs": [
    {
     "name": "stdout",
     "output_type": "stream",
     "text": [
      "['You', \"'re\", 'using', 'coconuts', '!']\n"
     ]
    }
   ],
   "source": [
    "def tokenise(s):\n",
    "    return re.sub(\"([.?!'])\", \" \\g<1>\", s).split()\n",
    "\n",
    "print(tokenise(\"You're using coconuts!\"))"
   ]
  },
  {
   "cell_type": "markdown",
   "metadata": {},
   "source": [
    "### Exercise 2.4\n",
    "\n",
    "\n",
    "- In an empty code cell below, extend your tokeniser function to cater for the following guidelines. \n",
    "- Test out your new tokeniser on the string  \n",
    "`\"After saying \\\"I won't help, I'm gonna leave!\\\", on his parents' arrival, the boy's behaviour improved.\"`  \n",
    " notice that the `\"` characters in the test sentence have been espaced, appearing as `\\\"`."
   ]
  },
  {
   "cell_type": "markdown",
   "metadata": {},
   "source": [
    "### Guidelines\n",
    "\n",
    "- punctuation is split from adjoining words\n",
    "- opening double quotes are changed to two single forward quotes.\n",
    "- closing double quotes are changed to two single backward quotes.\n",
    "- the Anglo-Saxon genitive of nouns are split into their component morphemes, and each morpheme is tagged separately.\n",
    "  - e.g. `\"children's\"` produces `\"children 's\"`\n",
    "  - e.g. `\"parents'\"` produces `\"parents '\"`\n",
    "- contractions should be split into component morphenes\n",
    "  - e.g. `\"won't\"` produces `\"wo n't\"`\n",
    "  - e.g. `\"gonna\"` produces `\"gon na\"`\n",
    "  - e.g. `\"I'm\"` produces `\"I 'm\"`\n",
    "  \n",
    "  \n",
    "These tokenisation guidelines are a subset of those found at\n",
    "ftp://ftp.cis.upenn.edu/pub/treebank/public_html/tokenization.html\n"
   ]
  },
  {
   "cell_type": "markdown",
   "metadata": {},
   "source": [
    "\n",
    "### Hints:\n",
    "\n",
    "- Use multiple calls to `re.sub` to deal with different cases one at a time. As in...\n",
    "\n",
    "```\n",
    "    sentence = re.sub(<pattern1>, <replacement1>,sentence)\n",
    "    sentence = re.sub(<pattern2>, <replacement2>,sentence)\n",
    "    sentence = re.sub(<pattern3>, <replacement3>,sentence)\n",
    "```\n",
    "\n",
    "- Order your calls to `re.sub` so that you deal with the specific cases first and the more general cases later.\n",
    "\n",
    "- In dealing with the replacement of start and end `\"`, you will find the following useful:\n",
    "\n",
    ">The `'*'`, `'+'`, and `'?'` qualifiers are all *greedy*; they match\n",
    ">as much text as possible.  Sometimes this behaviour isn't desired; if the RE\n",
    ">`<.\\*>` is matched against `<a> b <c>`, it will match the entire\n",
    ">string, and not just `<a>`.  Adding `'?'` after the qualifier makes it\n",
    ">perform the match in *non-greedy* or *minimal* fashion; as *few*\n",
    ">characters as possible will be matched.  Using the RE `<.\\*?>` will match\n",
    ">only `<a>`.  \n",
    "(taken from https://docs.python.org/2/library/re.html).\n"
   ]
  },
  {
   "cell_type": "code",
   "execution_count": 64,
   "metadata": {},
   "outputs": [
    {
     "name": "stdout",
     "output_type": "stream",
     "text": [
      "['After', 'saying', '``', 'I', 'wo', \"n't\", 'help', ',', 'I', \"'m\", 'gon', 'na', 'leave', '!', '´´', ',', 'on', 'his', 'parents', \"'\", 'arrival', ',', 'the', 'boy', \"'s\", 'behaviour', 'improved', '.']\n"
     ]
    }
   ],
   "source": [
    "def tokenise(s):\n",
    "    s = re.sub(\"(.*n)(na)\", \"\\g<1> \\g<2>\", s)\n",
    "    s = re.sub(\"'s\", \" 's\", s)\n",
    "    s = re.sub(\"s'\", \"s '\", s)\n",
    "    s = re.sub(\"n't\", \" n't\", s)\n",
    "    s = re.sub(\"'m\", \" 'm\", s)\n",
    "    s = re.sub(\"([.?!:;,])\", \" \\g<1>\", s)\n",
    "    s = re.sub(\"(\\\")(.*?\\\")\", \"`` \\g<2>\", s)\n",
    "    s = re.sub(\"(``.*?)(\\\")\", r\"\\g<1> ´´\", s)\n",
    "    return s.split()\n",
    "\n",
    "print(tokenise(\"After saying \\\"I won't help, I'm gonna leave!\\\", on his parents' arrival, the boy's behaviour improved.\"))"
   ]
  },
  {
   "cell_type": "code",
   "execution_count": null,
   "metadata": {},
   "outputs": [],
   "source": []
  },
  {
   "cell_type": "markdown",
   "metadata": {},
   "source": [
    "## The NLTK regular expression tokeniser\n",
    "The NLTK implements a regular expression tokeniser `word_tokenize` that is based on the above tokenisation guidelines. "
   ]
  },
  {
   "cell_type": "markdown",
   "metadata": {},
   "source": [
    "**Function**: `word_tokenize`\n",
    "\n",
    "- Arguments\n",
    " - a single string, representing a sentence\n",
    "- Returns\n",
    " - a list of strings, where each string is a token within the sentence</dd>"
   ]
  },
  {
   "cell_type": "markdown",
   "metadata": {},
   "source": [
    "### Exercise 3.1\n",
    "\n",
    "- Make sure you understand the code in the cell below and then run it so that you can compare the way that the test sentence has been tokenised by the two tokenisers."
   ]
  },
  {
   "cell_type": "code",
   "execution_count": 65,
   "metadata": {},
   "outputs": [
    {
     "data": {
      "text/html": [
       "<div>\n",
       "<style scoped>\n",
       "    .dataframe tbody tr th:only-of-type {\n",
       "        vertical-align: middle;\n",
       "    }\n",
       "\n",
       "    .dataframe tbody tr th {\n",
       "        vertical-align: top;\n",
       "    }\n",
       "\n",
       "    .dataframe thead th {\n",
       "        text-align: right;\n",
       "    }\n",
       "</style>\n",
       "<table border=\"1\" class=\"dataframe\">\n",
       "  <thead>\n",
       "    <tr style=\"text-align: right;\">\n",
       "      <th></th>\n",
       "      <th>NLTK</th>\n",
       "      <th>MINE</th>\n",
       "    </tr>\n",
       "  </thead>\n",
       "  <tbody>\n",
       "    <tr>\n",
       "      <th>0</th>\n",
       "      <td>After</td>\n",
       "      <td>After</td>\n",
       "    </tr>\n",
       "    <tr>\n",
       "      <th>1</th>\n",
       "      <td>saying</td>\n",
       "      <td>saying</td>\n",
       "    </tr>\n",
       "    <tr>\n",
       "      <th>2</th>\n",
       "      <td>``</td>\n",
       "      <td>``</td>\n",
       "    </tr>\n",
       "    <tr>\n",
       "      <th>3</th>\n",
       "      <td>I</td>\n",
       "      <td>I</td>\n",
       "    </tr>\n",
       "    <tr>\n",
       "      <th>4</th>\n",
       "      <td>wo</td>\n",
       "      <td>wo</td>\n",
       "    </tr>\n",
       "    <tr>\n",
       "      <th>5</th>\n",
       "      <td>n't</td>\n",
       "      <td>n't</td>\n",
       "    </tr>\n",
       "    <tr>\n",
       "      <th>6</th>\n",
       "      <td>help</td>\n",
       "      <td>help</td>\n",
       "    </tr>\n",
       "    <tr>\n",
       "      <th>7</th>\n",
       "      <td>,</td>\n",
       "      <td>,</td>\n",
       "    </tr>\n",
       "    <tr>\n",
       "      <th>8</th>\n",
       "      <td>I</td>\n",
       "      <td>I</td>\n",
       "    </tr>\n",
       "    <tr>\n",
       "      <th>9</th>\n",
       "      <td>'m</td>\n",
       "      <td>'m</td>\n",
       "    </tr>\n",
       "    <tr>\n",
       "      <th>10</th>\n",
       "      <td>gon</td>\n",
       "      <td>gon</td>\n",
       "    </tr>\n",
       "    <tr>\n",
       "      <th>11</th>\n",
       "      <td>na</td>\n",
       "      <td>na</td>\n",
       "    </tr>\n",
       "    <tr>\n",
       "      <th>12</th>\n",
       "      <td>leave</td>\n",
       "      <td>leave</td>\n",
       "    </tr>\n",
       "    <tr>\n",
       "      <th>13</th>\n",
       "      <td>!</td>\n",
       "      <td>!</td>\n",
       "    </tr>\n",
       "    <tr>\n",
       "      <th>14</th>\n",
       "      <td>``</td>\n",
       "      <td>´´</td>\n",
       "    </tr>\n",
       "    <tr>\n",
       "      <th>15</th>\n",
       "      <td>,</td>\n",
       "      <td>,</td>\n",
       "    </tr>\n",
       "    <tr>\n",
       "      <th>16</th>\n",
       "      <td>on</td>\n",
       "      <td>on</td>\n",
       "    </tr>\n",
       "    <tr>\n",
       "      <th>17</th>\n",
       "      <td>his</td>\n",
       "      <td>his</td>\n",
       "    </tr>\n",
       "    <tr>\n",
       "      <th>18</th>\n",
       "      <td>parents</td>\n",
       "      <td>parents</td>\n",
       "    </tr>\n",
       "    <tr>\n",
       "      <th>19</th>\n",
       "      <td>'</td>\n",
       "      <td>'</td>\n",
       "    </tr>\n",
       "    <tr>\n",
       "      <th>20</th>\n",
       "      <td>arrival</td>\n",
       "      <td>arrival</td>\n",
       "    </tr>\n",
       "    <tr>\n",
       "      <th>21</th>\n",
       "      <td>,</td>\n",
       "      <td>,</td>\n",
       "    </tr>\n",
       "    <tr>\n",
       "      <th>22</th>\n",
       "      <td>the</td>\n",
       "      <td>the</td>\n",
       "    </tr>\n",
       "    <tr>\n",
       "      <th>23</th>\n",
       "      <td>boy</td>\n",
       "      <td>boy</td>\n",
       "    </tr>\n",
       "    <tr>\n",
       "      <th>24</th>\n",
       "      <td>'s</td>\n",
       "      <td>'s</td>\n",
       "    </tr>\n",
       "    <tr>\n",
       "      <th>25</th>\n",
       "      <td>behaviour</td>\n",
       "      <td>behaviour</td>\n",
       "    </tr>\n",
       "    <tr>\n",
       "      <th>26</th>\n",
       "      <td>improved</td>\n",
       "      <td>improved</td>\n",
       "    </tr>\n",
       "    <tr>\n",
       "      <th>27</th>\n",
       "      <td>.</td>\n",
       "      <td>.</td>\n",
       "    </tr>\n",
       "  </tbody>\n",
       "</table>\n",
       "</div>"
      ],
      "text/plain": [
       "         NLTK       MINE\n",
       "0       After      After\n",
       "1      saying     saying\n",
       "2          ``         ``\n",
       "3           I          I\n",
       "4          wo         wo\n",
       "5         n't        n't\n",
       "6        help       help\n",
       "7           ,          ,\n",
       "8           I          I\n",
       "9          'm         'm\n",
       "10        gon        gon\n",
       "11         na         na\n",
       "12      leave      leave\n",
       "13          !          !\n",
       "14         ``         ´´\n",
       "15          ,          ,\n",
       "16         on         on\n",
       "17        his        his\n",
       "18    parents    parents\n",
       "19          '          '\n",
       "20    arrival    arrival\n",
       "21          ,          ,\n",
       "22        the        the\n",
       "23        boy        boy\n",
       "24         's         's\n",
       "25  behaviour  behaviour\n",
       "26   improved   improved\n",
       "27          .          ."
      ]
     },
     "execution_count": 65,
     "metadata": {},
     "output_type": "execute_result"
    }
   ],
   "source": [
    "\n",
    "\n",
    "from nltk.tokenize import word_tokenize\n",
    "    \n",
    "testsentence = \"After saying \\\"I won't help, I'm gonna leave!\\\", on his parents' arrival, the boy's behaviour improved.\"\n",
    "\n",
    "# run the nltk tokeniser and your tokeniser on the test sentence\n",
    "nltk_toks = word_tokenize(testsentence) # run the nltk tokeniser\n",
    "my_toks = tokenise(testsentence) # run your tokeniser\n",
    "\n",
    "pd.DataFrame(list(zip_longest(nltk_toks,my_toks)),columns=[\"NLTK\", \"MINE\"])"
   ]
  },
  {
   "cell_type": "code",
   "execution_count": null,
   "metadata": {},
   "outputs": [],
   "source": [
    "#import the word_tokenize function from nltk\n",
    "from nltk.tokenize import word_tokenize\n",
    "\n",
    "# run the nltk tokeniser on a test sentence\n",
    "test_sentence=\"The cat sat on the mat.\"\n",
    "word_tokenize(test_sentence) \n"
   ]
  },
  {
   "cell_type": "markdown",
   "metadata": {},
   "source": [
    "### Exercise 3.2\n",
    "\n",
    "- In the code cell below write code to run both the `NLTK_Tokenise` and your own `Tokenise` function on a sample of 10 sentences from the Reuters corpus.\n",
    "- Look for differences in the output of the two tokenisers.\n"
   ]
  },
  {
   "cell_type": "code",
   "execution_count": 77,
   "metadata": {
    "scrolled": true
   },
   "outputs": [
    {
     "name": "stdout",
     "output_type": "stream",
     "text": [
      "1997 REFUNDING CENTRAL JAIL\n",
      "['1997', 'REFUNDING', 'CENTRAL', 'JAIL']\n",
      "['1997', 'REFUNDING', 'CENTRAL', 'JAIL']\n",
      "Thompson said the lengthy hearings will look into illegal foreign contributions, money-laundering, influence-peddling, violations of the conflict of interest laws, the improper use of the White House in fund-raising activities and questions of whether our government's domestic and foreign policies were affected by political contributions.\"\n",
      "['Thompson', 'said', 'the', 'lengthy', 'hearings', 'will', 'look', 'into', 'illegal', 'foreign', 'contributions', ',', 'money-laundering', ',', 'influence-peddling', ',', 'violations', 'of', 'the', 'conflict', 'of', 'interest', 'laws', ',', 'the', 'improper', 'use', 'of', 'the', 'White', 'House', 'in', 'fund-raising', 'activities', 'and', 'questions', 'of', 'whether', 'our', 'government', \"'s\", 'domestic', 'and', 'foreign', 'policies', 'were', 'affected', 'by', 'political', 'contributions', '.', \"''\"]\n",
      "['Thompson', 'said', 'the', 'lengthy', 'hearings', 'will', 'look', 'into', 'illegal', 'foreign', 'contributions', ',', 'money-laundering', ',', 'influence-peddling', ',', 'violations', 'of', 'the', 'conflict', 'of', 'interest', 'laws', ',', 'the', 'improper', 'use', 'of', 'the', 'White', 'House', 'in', 'fund-raising', 'activities', 'and', 'questions', 'of', 'whether', 'our', 'government', \"'s\", 'domestic', 'and', 'foreign', 'policies', 'were', 'affected', 'by', 'political', 'contributions', '.\"']\n",
      "Government Land Bank.\n",
      "['Government', 'Land', 'Bank', '.']\n",
      "['Government', 'Land', 'Bank', '.']\n",
      "02/15/2008\t   1,040M    5.10\t  5.15\n",
      "['02/15/2008', '1,040M', '5.10', '5.15']\n",
      "['02/15/2008', '1', ',040M', '5', '.10', '5', '.15']\n",
      "There was a big surprise in inventories and to some extent that depends on what you assume for March.\"\n",
      "['There', 'was', 'a', 'big', 'surprise', 'in', 'inventories', 'and', 'to', 'some', 'extent', 'that', 'depends', 'on', 'what', 'you', 'assume', 'for', 'March', '.', \"''\"]\n",
      "['There', 'was', 'a', 'big', 'surprise', 'in', 'inventories', 'and', 'to', 'some', 'extent', 'that', 'depends', 'on', 'what', 'you', 'assume', 'for', 'March', '.\"']\n",
      "Trade balance US$     -1.4 bln   -1.6 bln   -1.1 bln   -0.9bln\n",
      "['Trade', 'balance', 'US', '$', '-1.4', 'bln', '-1.6', 'bln', '-1.1', 'bln', '-0.9bln']\n",
      "['Trade', 'balance', 'US$', '-1', '.4', 'bln', '-1', '.6', 'bln', '-1', '.1', 'bln', '-0', '.9bln']\n",
      " 0755 Tue   E.G.UNEMPLOYMENT(SA) AUG  N/F  K\t N/A\tN/A\n",
      "['0755', 'Tue', 'E.G.UNEMPLOYMENT', '(', 'SA', ')', 'AUG', 'N/F', 'K', 'N/A', 'N/A']\n",
      "['0755', 'Tue', 'E', '.G', '.UNEMPLOYMENT(SA)', 'AUG', 'N/F', 'K', 'N/A', 'N/A']\n",
      "Merrill Lynch & Co.\n",
      "['Merrill', 'Lynch', '&', 'Co', '.']\n",
      "['Merrill', 'Lynch', '&', 'Co', '.']\n",
      " 1230 Thu   USA REAL GDP (ADVANCEQ2   2.7  PCT   2.0/3.4    N/A\n",
      "['1230', 'Thu', 'USA', 'REAL', 'GDP', '(', 'ADVANCEQ2', '2.7', 'PCT', '2.0/3.4', 'N/A']\n",
      "['1230', 'Thu', 'USA', 'REAL', 'GDP', '(ADVANCEQ2', '2', '.7', 'PCT', '2', '.0/3', '.4', 'N/A']\n",
      "01/01/2017\t     14,750M    5.25  %\t 98.00\n",
      "['01/01/2017', '14,750M', '5.25', '%', '98.00']\n",
      "['01/01/2017', '14', ',750M', '5', '.25', '%', '98', '.00']\n"
     ]
    }
   ],
   "source": [
    "sampleSentences = rcr.sample_raw_sents(10)\n",
    "\n",
    "for sentence in sampleSentences:\n",
    "    print(sentence)\n",
    "    print(word_tokenize(sentence))\n",
    "    print(tokenise(sentence))"
   ]
  },
  {
   "cell_type": "markdown",
   "metadata": {},
   "source": [
    "## The Twitter-specific Tokeniser\n",
    "The third tokeniser for you to explore is a Twitter-specific tokeniser that has been developed by [Gimpel et al.](http://ttic.uchicago.edu/~kgimpel/papers/gimpel+etal.acl11.pdf).\n",
    "\n",
    "These functions are located in the <code>sussex_nltk.tokenize</code> module"
   ]
  },
  {
   "cell_type": "markdown",
   "metadata": {},
   "source": [
    "---\n",
    "**Function**: `twitter_tokenize`\n",
    "- Arguments\n",
    " - a single string, representing a sentence\n",
    "- Returns\n",
    " - a list of strings, where each string is a token within the sentence\n",
    "---"
   ]
  },
  {
   "cell_type": "markdown",
   "metadata": {},
   "source": [
    "`twitter_tokenize` can be quite slow, so we have provided the following function to tokenise an entire sample of sentences at once.  "
   ]
  },
  {
   "cell_type": "markdown",
   "metadata": {},
   "source": [
    "---\n",
    "**Function**: `twitter_tokenize_batch`\n",
    "- Arguments\n",
    " - a list of strings, where each string represents a sentence\n",
    "- Returns\n",
    " - a list of sentences, where each sentence is a list of tokens\n",
    "---"
   ]
  },
  {
   "cell_type": "markdown",
   "metadata": {},
   "source": [
    "### Java Error!!!\n",
    "\n",
    "Depending on the machine you are working on, the twitter_tokenizer may fail because it cannot find the JRE.  If this happens to you, either on a lab machine or your own machine, you will need to locate the java executable, and then update and run the cell below "
   ]
  },
  {
   "cell_type": "code",
   "execution_count": 73,
   "metadata": {},
   "outputs": [],
   "source": [
    "import nltk\n",
    "nltk.internals.config_java(\"C:/Program Files (x86)/Common Files/Oracle/Java/javapath/java.exe\",options='-Xmx1g -XX:ParallelGCThreads=2')\n"
   ]
  },
  {
   "cell_type": "markdown",
   "metadata": {},
   "source": [
    "Provided the Java executable can be found, the following cell should work"
   ]
  },
  {
   "cell_type": "code",
   "execution_count": 74,
   "metadata": {},
   "outputs": [
    {
     "name": "stdout",
     "output_type": "stream",
     "text": [
      "['After', 'saying', '\"', 'I', \"won't\", 'help', ',', \"I'm\", 'gonna', 'leave', '!', '\"', ',', 'on', 'his', 'parents', \"'\", 'arrival', ',', 'the', \"boy's\", 'behaviour', 'improved', '.']\n"
     ]
    }
   ],
   "source": [
    "from sussex_nltk.tokenize import twitter_tokenize\n",
    "twitter_toks = twitter_tokenize(testsentence)\n",
    "print(twitter_toks)"
   ]
  },
  {
   "cell_type": "markdown",
   "metadata": {},
   "source": [
    "### Exercise 4.1\n",
    "- In the empty cell below, write code to run both  `twitter_tokenize` and the NLTK tokeniser, `word_tokenize`, function on each sentence in a sample of 10 sentences from the Twitter corpus.\n",
    "- Display each sentence tokenised by the two tokenisers. \n",
    "- Once you have done this, look for differences in the output of the two tokenisers.\n",
    "\n"
   ]
  },
  {
   "cell_type": "code",
   "execution_count": 76,
   "metadata": {},
   "outputs": [
    {
     "name": "stdout",
     "output_type": "stream",
     "text": [
      "Rivlin says unclear if U.S. economy slowing enough.\n",
      "['Rivlin', 'says', 'unclear', 'if', 'U.S.', 'economy', 'slowing', 'enough', '.']\n",
      "['Rivlin', 'says', 'unclear', 'if', 'U.S.', 'economy', 'slowing', 'enough', '.']\n",
      "04/01/2017\t     19,600M    5.375 %\t  5.60\n",
      "['04/01/2017', '19,600M', '5.375', '%', '5.60']\n",
      "['04/01/2017']\n",
      "Additional restraint in lending policies may therefore be required,\" David Carse, deputy chief executive of the HKMA, said in a statement.\n",
      "['Additional', 'restraint', 'in', 'lending', 'policies', 'may', 'therefore', 'be', 'required', ',', \"''\", 'David', 'Carse', ',', 'deputy', 'chief', 'executive', 'of', 'the', 'HKMA', ',', 'said', 'in', 'a', 'statement', '.']\n",
      "['Additional', 'restraint', 'in', 'lending', 'policies', 'may', 'therefore', 'be', 'required', ',', '\"', 'David', 'Carse', ',', 'deputy', 'chief', 'executive', 'of', 'the', 'HKMA', ',', 'said', 'in', 'a', 'statement', '.']\n",
      "FOREX RESERVES (bln dnr)\n",
      "['FOREX', 'RESERVES', '(', 'bln', 'dnr', ')']\n",
      "['FOREX', 'RESERVES', '(', 'bln', 'dnr', ')']\n",
      "ENHANCEMENTS: None\t\t\t\t\t\t\tBANK QUAL: Y\n",
      "['ENHANCEMENTS', ':', 'None', 'BANK', 'QUAL', ':', 'Y']\n",
      "['ENHANCEMENTS', ':', 'None']\n",
      "\"We are issuing this statement in the light of the developments in the foreign exchange market today.\n",
      "['``', 'We', 'are', 'issuing', 'this', 'statement', 'in', 'the', 'light', 'of', 'the', 'developments', 'in', 'the', 'foreign', 'exchange', 'market', 'today', '.']\n",
      "['\"', 'We', 'are', 'issuing', 'this', 'statement', 'in', 'the', 'light', 'of', 'the', 'developments', 'in', 'the', 'foreign', 'exchange', 'market', 'today', '.']\n",
      "Costello's conservative Liberal/National coalition was elected in March last year and set up the Wallis Inquiry three months later to look at reforming Labor's policies.\n",
      "['Costello', \"'s\", 'conservative', 'Liberal/National', 'coalition', 'was', 'elected', 'in', 'March', 'last', 'year', 'and', 'set', 'up', 'the', 'Wallis', 'Inquiry', 'three', 'months', 'later', 'to', 'look', 'at', 'reforming', 'Labor', \"'s\", 'policies', '.']\n",
      "[\"Costello's\", 'conservative', 'Liberal/National', 'coalition', 'was', 'elected', 'in', 'March', 'last', 'year', 'and', 'set', 'up', 'the', 'Wallis', 'Inquiry', 'three', 'months', 'later', 'to', 'look', 'at', 'reforming', \"Labor's\", 'policies', '.']\n",
      "Slovak March CPI +0.5 pct mo/mo, +6.3 pct yr/yr.\n",
      "['Slovak', 'March', 'CPI', '+0.5', 'pct', 'mo/mo', ',', '+6.3', 'pct', 'yr/yr', '.']\n",
      "['Slovak', 'March', 'CPI', '+', '0.5', 'pct', 'mo/mo', ',', '+', '6.3', 'pct', 'yr/yr', '.']\n",
      "Fattened up on fishmeal, salmon does well in cages in the fjords and bays of southern Chile, where the industry has become a major employer.\n",
      "['Fattened', 'up', 'on', 'fishmeal', ',', 'salmon', 'does', 'well', 'in', 'cages', 'in', 'the', 'fjords', 'and', 'bays', 'of', 'southern', 'Chile', ',', 'where', 'the', 'industry', 'has', 'become', 'a', 'major', 'employer', '.']\n",
      "['Fattened', 'up', 'on', 'fishmeal', ',', 'salmon', 'does', 'well', 'in', 'cages', 'in', 'the', 'fjords', 'and', 'bays', 'of', 'southern', 'Chile', ',', 'where', 'the', 'industry', 'has', 'become', 'a', 'major', 'employer', '.']\n",
      "The BOJ's quarterly \"tankan\" survey showed that confidence among the nation's major manufacturers was stronger than expected, fuelling speculation that the central bank may be closer than imagined to a credit tightening.\n",
      "['The', 'BOJ', \"'s\", 'quarterly', '``', 'tankan', \"''\", 'survey', 'showed', 'that', 'confidence', 'among', 'the', 'nation', \"'s\", 'major', 'manufacturers', 'was', 'stronger', 'than', 'expected', ',', 'fuelling', 'speculation', 'that', 'the', 'central', 'bank', 'may', 'be', 'closer', 'than', 'imagined', 'to', 'a', 'credit', 'tightening', '.']\n",
      "['The', \"BOJ's\", 'quarterly', '\"', 'tankan', '\"', 'survey', 'showed', 'that', 'confidence', 'among', 'the', \"nation's\", 'major', 'manufacturers', 'was', 'stronger', 'than', 'expected', ',', 'fuelling', 'speculation', 'that', 'the', 'central', 'bank', 'may', 'be', 'closer', 'than', 'imagined', 'to', 'a', 'credit', 'tightening', '.']\n"
     ]
    }
   ],
   "source": [
    "sampleSentences = rcr.sample_raw_sents(10)\n",
    "\n",
    "for sentence in sampleSentences:\n",
    "    print(sentence)\n",
    "    print(word_tokenize(sentence))\n",
    "    print(twitter_tokenize(sentence))"
   ]
  },
  {
   "cell_type": "code",
   "execution_count": null,
   "metadata": {},
   "outputs": [],
   "source": []
  },
  {
   "cell_type": "code",
   "execution_count": null,
   "metadata": {},
   "outputs": [],
   "source": []
  },
  {
   "cell_type": "markdown",
   "metadata": {},
   "source": [
    "### Exercise 4.2\n",
    "- Copy the code cell above and move the copy to below this cell. Then use both the NLTK and Twitter tokenisers on a sample of 10 sentences from the **Medline** corpus.\n",
    "- Look for situations where the  tokenisers do not tokenise appropriately.\n",
    "- Try to figure out the differences in tokenisation policies of the tokenisers.\n",
    "- Think about possible motivations for the differences in tokenisation policy, by considering how the tokens may be used in subsequent (down-stream) language processing steps.\n"
   ]
  },
  {
   "cell_type": "code",
   "execution_count": 78,
   "metadata": {},
   "outputs": [
    {
     "name": "stdout",
     "output_type": "stream",
     "text": [
      "Two male and two female rhesus monkeys (Macaca mulatta) were the subjects of an experiment designed to assess the effect of d-amphetamine (DA; 0.125, 0.5 and 2.0 mg/kg, IM) and diazepam (DZP; 0.5 and 2.5 mg/kg, IM) on food-getting behavior in paired and group competition.\n",
      "['Two', 'male', 'and', 'two', 'female', 'rhesus', 'monkeys', '(', 'Macaca', 'mulatta', ')', 'were', 'the', 'subjects', 'of', 'an', 'experiment', 'designed', 'to', 'assess', 'the', 'effect', 'of', 'd-amphetamine', '(', 'DA', ';', '0.125', ',', '0.5', 'and', '2.0', 'mg/kg', ',', 'IM', ')', 'and', 'diazepam', '(', 'DZP', ';', '0.5', 'and', '2.5', 'mg/kg', ',', 'IM', ')', 'on', 'food-getting', 'behavior', 'in', 'paired', 'and', 'group', 'competition', '.']\n",
      "['Two', 'male', 'and', 'two', 'female', 'rhesus', 'monkeys', '(', 'Macaca', 'mulatta', ')', 'were', 'the', 'subjects', 'of', 'an', 'experiment', 'designed', 'to', 'assess', 'the', 'effect', 'of', 'd-amphetamine', '(', 'DA', ';', '0.125', ',', '0.5', 'and', '2.0', 'mg/kg', ',', 'IM', ')', 'and', 'diazepam', '(', 'DZP', ';', '0.5', 'and', '2.5', 'mg/kg', ',', 'IM', ')', 'on', 'food-getting', 'behavior', 'in', 'paired', 'and', 'group', 'competition', '.']\n",
      "However, a positive trend in the caries experience of children may already be seen as a possible result.\n",
      "['However', ',', 'a', 'positive', 'trend', 'in', 'the', 'caries', 'experience', 'of', 'children', 'may', 'already', 'be', 'seen', 'as', 'a', 'possible', 'result', '.']\n",
      "['However', ',', 'a', 'positive', 'trend', 'in', 'the', 'caries', 'experience', 'of', 'children', 'may', 'already', 'be', 'seen', 'as', 'a', 'possible', 'result', '.']\n",
      "Zn uptake was proportional to water concentrations within the fed treatment groups and those not fed Zn-contaminated food.\n",
      "['Zn', 'uptake', 'was', 'proportional', 'to', 'water', 'concentrations', 'within', 'the', 'fed', 'treatment', 'groups', 'and', 'those', 'not', 'fed', 'Zn-contaminated', 'food', '.']\n",
      "['Zn', 'uptake', 'was', 'proportional', 'to', 'water', 'concentrations', 'within', 'the', 'fed', 'treatment', 'groups', 'and', 'those', 'not', 'fed', 'Zn-contaminated', 'food', '.']\n",
      "min-1/100 g) five minutes after injection.\n",
      "['min-1/100', 'g', ')', 'five', 'minutes', 'after', 'injection', '.']\n",
      "['min-1/100', 'g', ')', 'five', 'minutes', 'after', 'injection', '.']\n",
      ") in anesthetized rats, c) effects of these drugs on the increase in heart rate and contractile force of isolated rat and guinea pig atria induced by isoprenaline, d) effects of these drugs on the relaxation of isolated guinea pig trachea induced by isoprenaline.\n",
      "[')', 'in', 'anesthetized', 'rats', ',', 'c', ')', 'effects', 'of', 'these', 'drugs', 'on', 'the', 'increase', 'in', 'heart', 'rate', 'and', 'contractile', 'force', 'of', 'isolated', 'rat', 'and', 'guinea', 'pig', 'atria', 'induced', 'by', 'isoprenaline', ',', 'd', ')', 'effects', 'of', 'these', 'drugs', 'on', 'the', 'relaxation', 'of', 'isolated', 'guinea', 'pig', 'trachea', 'induced', 'by', 'isoprenaline', '.']\n",
      "[')', 'in', 'anesthetized', 'rats', ',', 'c', ')', 'effects', 'of', 'these', 'drugs', 'on', 'the', 'increase', 'in', 'heart', 'rate', 'and', 'contractile', 'force', 'of', 'isolated', 'rat', 'and', 'guinea', 'pig', 'atria', 'induced', 'by', 'isoprenaline', ',', 'd', ')', 'effects', 'of', 'these', 'drugs', 'on', 'the', 'relaxation', 'of', 'isolated', 'guinea', 'pig', 'trachea', 'induced', 'by', 'isoprenaline', '.']\n",
      "pHm was 6.96 +/- 0.03, recorded at myocardial temperatures of 35 to 37 degrees C. Ischemia was then produced by snare occlusion of the proximal left main coronary artery for 2 minutes.\n",
      "['pHm', 'was', '6.96', '+/-', '0.03', ',', 'recorded', 'at', 'myocardial', 'temperatures', 'of', '35', 'to', '37', 'degrees', 'C.', 'Ischemia', 'was', 'then', 'produced', 'by', 'snare', 'occlusion', 'of', 'the', 'proximal', 'left', 'main', 'coronary', 'artery', 'for', '2', 'minutes', '.']\n",
      "['pHm', 'was', '6.96', '+/-', '0.03', ',', 'recorded', 'at', 'myocardial', 'temperatures', 'of', '35', 'to', '37', 'degrees', 'C', '.', 'Ischemia', 'was', 'then', 'produced', 'by', 'snare', 'occlusion', 'of', 'the', 'proximal', 'left', 'main', 'coronary', 'artery', 'for', '2', 'minutes', '.']\n",
      "In V79 cells, diol epoxide 1 had one-third the mutagenic activity of diol epoxide 2 but was at least 10 times more labile than diol epoxide 2 in the tissue culture medium.\n",
      "['In', 'V79', 'cells', ',', 'diol', 'epoxide', '1', 'had', 'one-third', 'the', 'mutagenic', 'activity', 'of', 'diol', 'epoxide', '2', 'but', 'was', 'at', 'least', '10', 'times', 'more', 'labile', 'than', 'diol', 'epoxide', '2', 'in', 'the', 'tissue', 'culture', 'medium', '.']\n",
      "['In', 'V79', 'cells', ',', 'diol', 'epoxide', '1', 'had', 'one-third', 'the', 'mutagenic', 'activity', 'of', 'diol', 'epoxide', '2', 'but', 'was', 'at', 'least', '10', 'times', 'more', 'labile', 'than', 'diol', 'epoxide', '2', 'in', 'the', 'tissue', 'culture', 'medium', '.']\n",
      "This destruction is associated with phagocytosis of argentophilic granules and fibre fragments by macrophages.\n",
      "['This', 'destruction', 'is', 'associated', 'with', 'phagocytosis', 'of', 'argentophilic', 'granules', 'and', 'fibre', 'fragments', 'by', 'macrophages', '.']\n",
      "['This', 'destruction', 'is', 'associated', 'with', 'phagocytosis', 'of', 'argentophilic', 'granules', 'and', 'fibre', 'fragments', 'by', 'macrophages', '.']\n",
      "The graying in these patients started on the average at 29 years.\n",
      "['The', 'graying', 'in', 'these', 'patients', 'started', 'on', 'the', 'average', 'at', '29', 'years', '.']\n",
      "['The', 'graying', 'in', 'these', 'patients', 'started', 'on', 'the', 'average', 'at', '29', 'years', '.']\n",
      "Some Lissauer tract fibres had prolonged relative refractory periods and no supernormal periods.\n",
      "['Some', 'Lissauer', 'tract', 'fibres', 'had', 'prolonged', 'relative', 'refractory', 'periods', 'and', 'no', 'supernormal', 'periods', '.']\n",
      "['Some', 'Lissauer', 'tract', 'fibres', 'had', 'prolonged', 'relative', 'refractory', 'periods', 'and', 'no', 'supernormal', 'periods', '.']\n"
     ]
    }
   ],
   "source": [
    "sampleSentences = mcr.sample_raw_sents(10)\n",
    "\n",
    "for sentence in sampleSentences:\n",
    "    print(sentence)\n",
    "    print(word_tokenize(sentence))\n",
    "    print(twitter_tokenize(sentence))"
   ]
  },
  {
   "cell_type": "code",
   "execution_count": null,
   "metadata": {},
   "outputs": [],
   "source": []
  }
 ],
 "metadata": {
  "kernelspec": {
   "display_name": "Python 3",
   "language": "python",
   "name": "python3"
  },
  "language_info": {
   "codemirror_mode": {
    "name": "ipython",
    "version": 3
   },
   "file_extension": ".py",
   "mimetype": "text/x-python",
   "name": "python",
   "nbconvert_exporter": "python",
   "pygments_lexer": "ipython3",
   "version": "3.6.7"
  }
 },
 "nbformat": 4,
 "nbformat_minor": 2
}

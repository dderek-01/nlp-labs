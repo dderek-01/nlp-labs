{
 "cells": [
  {
   "cell_type": "markdown",
   "metadata": {},
   "source": [
    "# Week 3: Basic Document Classification (Part 1)"
   ]
  },
  {
   "cell_type": "markdown",
   "metadata": {},
   "source": [
    "## Preliminaries "
   ]
  },
  {
   "cell_type": "code",
   "execution_count": 1,
   "metadata": {},
   "outputs": [
    {
     "name": "stdout",
     "output_type": "stream",
     "text": [
      "Sussex NLTK root directory is /Users/juliewe/resources\n"
     ]
    }
   ],
   "source": [
    "#necessary library imports and setup introduced previously\n",
    "\n",
    "import sys\n",
    "#sys.path.append(r'T:\\Departments\\Informatics\\LanguageEngineering') \n",
    "sys.path.append(r'\\\\ad.susx.ac.uk\\ITS\\TeachingResources\\Departments\\Informatics\\LanguageEngineering\\resources')\n",
    "sys.path.append(r'/Users/juliewe/resources')\n",
    "\n",
    "import re\n",
    "import pandas as pd\n",
    "import matplotlib.pyplot as plt\n",
    "%matplotlib inline\n",
    "from itertools import zip_longest\n",
    "from nltk.tokenize import word_tokenize\n",
    "\n",
    "from sussex_nltk.corpus_readers import ReutersCorpusReader"
   ]
  },
  {
   "cell_type": "markdown",
   "metadata": {},
   "source": [
    "## Overview \n",
    "In labs this week (and next), the focus will be on the application of sentiment analysis. You will be using a corpus of **book reviews** within an **Amazon review corpus**.\n",
    "\n",
    "You will be exploring various techniques that can be used to classify the sentiment of Amazon book reviews as either positive or negative. \n",
    "\n",
    "You will be developing your own **Word List** and **Naïve Bayes** classifiers and then comparing them to the **NLTK Naïve Bayes** classifier."
   ]
  },
  {
   "cell_type": "markdown",
   "metadata": {},
   "source": [
    "## Creating training and testing sets\n",
    "You will be training and testing various document classifiers. It is essential that the data used in the testing phase is not used during the training phase, since this can lead to overestimating performance. \n",
    "\n",
    "We now introduce the `split_data` function (defined in the cell below) which can be used to get separate **training** and **testing** sets.\n",
    "\n",
    "> Look through the code in the following cell, reading the comments and making sure that you understand each line."
   ]
  },
  {
   "cell_type": "code",
   "execution_count": 2,
   "metadata": {},
   "outputs": [],
   "source": [
    "from random import sample # have a look at https://docs.python.org/3/library/random.html to see what random.sample does\n",
    "from sussex_nltk.corpus_readers import AmazonReviewCorpusReader\n",
    "\n",
    " \n",
    "def split_data(data, ratio=0.7): # when the second argument is not given, it defaults to 0.7\n",
    "    \"\"\"\n",
    "    Given corpus generator and ratio:\n",
    "     - partitions the corpus into training data and test data, where the proportion in train is ratio,\n",
    "\n",
    "    :param data: A corpus generator.\n",
    "    :param ratio: The proportion of training documents (default 0.7)\n",
    "    :return: a pair (tuple) of lists where the first element of the \n",
    "            pair is a list of the training data and the second is a list of the test data.\n",
    "    \"\"\"\n",
    "    \n",
    "    data = list(data) # data is a generator, so this puts all the generated items in a list\n",
    " \n",
    "    n = len(data)  #Found out number of samples present\n",
    "    train_indices = sample(range(n), int(n * ratio))          #Randomly select training indices\n",
    "    test_indices = list(set(range(n)) - set(train_indices))   #Other items are testing indices\n",
    " \n",
    "    train = [data[i] for i in train_indices]           #Use training indices to select data\n",
    "    test = [data[i] for i in test_indices]             #Use testing indices to select data\n",
    " \n",
    "    return (train, test)                       #Return split data\n",
    " "
   ]
  },
  {
   "cell_type": "markdown",
   "metadata": {},
   "source": [
    "Now we can use this function together with a <code>reader</code> object  to create training and testing data.  Note that the <code>AmazonReviewCorpusReader().category(\"dvd\")</code> returns a reader over just the *dvd* reviews.  The methods <code>positive()</code>, <code>negative()</code> can be called to create readers over reviews classified accordingly to their sentiment.  "
   ]
  },
  {
   "cell_type": "code",
   "execution_count": 3,
   "metadata": {},
   "outputs": [],
   "source": [
    "#Create an Amazon corpus reader pointing at only dvd reviews\n",
    "dvd_reader = AmazonReviewCorpusReader().category(\"dvd\")\n",
    "\n",
    "#The following two lines use the documents function on the Amazon corpus reader. \n",
    "#This returns a generator over reviews in the corpus. \n",
    "#Each review is an instance of a Python class called AmazonReview. \n",
    "#An AmazonReview object contains all the data about a review.\n",
    "pos_train, pos_test = split_data(dvd_reader.positive().documents())\n",
    "neg_train, neg_test = split_data(dvd_reader.negative().documents())\n",
    "\n",
    "#You can also combine the training data\n",
    "train = pos_train + neg_train\n"
   ]
  },
  {
   "cell_type": "markdown",
   "metadata": {},
   "source": [
    "### Exercise 1.1\n",
    "* Generate 80:20 *training*:*testing* splits of all 4 categories of reviews (*dvd*, *book*, *kitchen* and *electronics*), containing **positive** and **negative** reviews.  \n",
    "* Record the number of reviews according to category, sentiment and dataset (training or testing) in a Pandas dataframe\n",
    "* Answer the following questions:\n",
    "    1. Regarding the *training* data for *books*, how many are a) **positive**, b) **negative**?\n",
    "    2. Regarding the **negative** *testing* data for, how many are there for each category: a) *dvd*, b) *book*, c) *kitchen* and d) *electronics*? "
   ]
  },
  {
   "cell_type": "code",
   "execution_count": 5,
   "metadata": {},
   "outputs": [
    {
     "name": "stdout",
     "output_type": "stream",
     "text": [
      "700 300 700 300\n"
     ]
    }
   ],
   "source": [
    "print(len(pos_train),len(pos_test),len(neg_train),len(neg_test))"
   ]
  },
  {
   "cell_type": "code",
   "execution_count": null,
   "metadata": {},
   "outputs": [],
   "source": []
  },
  {
   "cell_type": "markdown",
   "metadata": {},
   "source": [
    "## Creating word lists\n",
    "The next section will explain how to use a sentiment classifier that bases its decisions on word lists. The classifier requires a list of words indicating positive sentiment, and a second list of words indicating negative sentiment. Given positive and negative word lists, a document's overall sentiment is determined based on counts of occurrences of words that occur in the two lists. In this section we are concerned with the creation of the word lists. We will be considering both hand-crafted lists and automatically generated lists."
   ]
  },
  {
   "cell_type": "markdown",
   "metadata": {},
   "source": [
    "### Exercise 2.1\n",
    "\n",
    "- Create a reasonably long hand-crafted list of words that you think indicate positive sentiment.\n",
    "- Create a reasonably long hand-crafted list of words that indicate negative sentiment.\n",
    "\n",
    "Use the following cells to store these lists in the variables `my_positive_word_list` and `my_negative_word_list`."
   ]
  },
  {
   "cell_type": "code",
   "execution_count": 4,
   "metadata": {},
   "outputs": [],
   "source": [
    "my_positive_word_list = [\"good\",\"great\",\"lovely\"] # extend this one or put your own list here\n",
    "my_negative_word_list = [\"bad\", \"terrible\", \"awful\"] # extend this one or put your own list here"
   ]
  },
  {
   "cell_type": "markdown",
   "metadata": {},
   "source": [
    "Next, you should try to derive word lists from the data. One way to do this, is to use the most frequent words in positive reviews as your positive list, and the most frequent words in negative reviews as your negative list. This can be done with the [NLTK <code style=\"background-color: #F5F5F5;\">FreqDist</code>](http://www.nltk.org/api/nltk.html#module-nltk.probability) object. \n",
    "\n",
    "> You should make sure you understand the code in the cell below."
   ]
  },
  {
   "cell_type": "code",
   "execution_count": 5,
   "metadata": {},
   "outputs": [],
   "source": [
    "from nltk.probability import FreqDist # see http://www.nltk.org/api/nltk.html#module-nltk.probability\n",
    "from sussex_nltk.corpus_readers import AmazonReviewCorpusReader\n",
    "from functools import reduce # see https://docs.python.org/3/library/functools.html\n",
    "\n",
    "#Helper function. Given a list of reviews, return a list of all the words in those reviews\n",
    "#To understand this look at the description of functools.reduce in https://docs.python.org/3/library/functools.html\n",
    "def get_all_words(amazon_reviews):\n",
    "    return reduce(lambda words,review: words + review.words(), amazon_reviews, [])\n",
    "\n",
    "#A frequency distribution over all words in positive book reviews\n",
    "pos_freqdist = FreqDist(get_all_words(pos_train))\n",
    "neg_freqdist = FreqDist(get_all_words(neg_train))"
   ]
  },
  {
   "cell_type": "code",
   "execution_count": 6,
   "metadata": {},
   "outputs": [
    {
     "data": {
      "text/plain": [
       "FreqDist({'the': 5830, '.': 5647, ',': 5336, 'and': 3439, 'a': 2998, 'of': 2828, 'to': 2603, 'is': 2322, 'I': 1793, 'in': 1691, ...})"
      ]
     },
     "execution_count": 6,
     "metadata": {},
     "output_type": "execute_result"
    }
   ],
   "source": [
    "pos_freqdist"
   ]
  },
  {
   "cell_type": "markdown",
   "metadata": {},
   "source": [
    "### Exercise 2.2\n",
    "Explain (in words) how the <code>get_all_words()</code> function works.  Your description should include details about\n",
    "1. the input\n",
    "2. the output\n",
    "3. the algorithm used to generate the output from the input"
   ]
  },
  {
   "cell_type": "markdown",
   "metadata": {},
   "source": []
  },
  {
   "cell_type": "markdown",
   "metadata": {},
   "source": [
    "### Exercise 2.3\n",
    "In the blank code cell below write code that uses the frequency lists, `pos_freqdist` and `neg_freqdist`, created in the above cell and `my_positive_word_list` and `my_negative_word_list` that you manually created earlier to determine whether or not the review data conforms to your expectations. In particular, whether:\n",
    "- the words you expected to indicate positive sentiment actually occur more frequently in positive reviews than negative reviews\n",
    "- the words you expected to indicate negative sentiment actually occur more frequently in negative reviews than positive reviews.\n",
    "\n",
    "Display your findings in a table using pandas."
   ]
  },
  {
   "cell_type": "code",
   "execution_count": 7,
   "metadata": {},
   "outputs": [],
   "source": [
    "def check_expectations(a_word_list,expectation):\n",
    "#expectation is a positive number if words are expected to be positive\n",
    "#expectation is a negative number if words are expected to be negative\n",
    "\n",
    "    for word in a_word_list:\n",
    "        pos_freq=pos_freqdist.get(word,0)\n",
    "        neg_freq=neg_freqdist.get(word,0)\n",
    "        diff=pos_freq-neg_freq\n",
    "        if diff*expectation>0:\n",
    "            print(\"As expected: for {} difference is {}\".format(word,diff))\n",
    "        else:\n",
    "            print(\"Contrary to expectations: for {} difference is {}\".format(word,diff))\n",
    "        "
   ]
  },
  {
   "cell_type": "code",
   "execution_count": 8,
   "metadata": {},
   "outputs": [
    {
     "name": "stdout",
     "output_type": "stream",
     "text": [
      "Contrary to expectations: for good difference is -6\n",
      "As expected: for great difference is 156\n",
      "As expected: for lovely difference is 5\n"
     ]
    }
   ],
   "source": [
    "check_expectations(my_positive_word_list,1)"
   ]
  },
  {
   "cell_type": "code",
   "execution_count": 9,
   "metadata": {},
   "outputs": [
    {
     "name": "stdout",
     "output_type": "stream",
     "text": [
      "As expected: for bad difference is -137\n",
      "As expected: for terrible difference is -27\n",
      "As expected: for awful difference is -20\n"
     ]
    }
   ],
   "source": [
    "check_expectations(my_negative_word_list,-1)"
   ]
  },
  {
   "cell_type": "markdown",
   "metadata": {},
   "source": [
    "### Exercise 2.4\n",
    "Now, you are going to create positive and negative word lists automatically from the training data. In order to do this:\n",
    "\n",
    "1. write two new functions to help with automating the process of generating wordlists.\n",
    "\n",
    "    - `most_frequent_words` - this function should take THREE arguments: 2 frequency distributions and a natural number, k. It should order words by how much more they occur in one frequency distribution than the other.   It should then return the top k highest scoring words. You might want to use the `most_common` method from the `FreqDist` class - this returns a list of word, frequency pairs ordered by frequency.  You might also or alternatively want to use pythons built-in `sorted` function\n",
    "    - `words_above_threshold` - this function also takes three arguments: 2 frequency distributions and a natural number, k. Again, it should order words by how much more they occur in one distribution than the other.  It should return all of the words that have a score greater than k.\n",
    "\n",
    "2. Remove punctuation and stopwords from consideration. You can re-use code from near the end of Lab_2_2.\n",
    "3. Using the training data, create two sets of positive and negative word lists using these functions (1 set with each function). \n",
    "4.  Display these 4 lists (possibly in a `Pandas` dataframe?)\n",
    "\n"
   ]
  },
  {
   "cell_type": "code",
   "execution_count": 31,
   "metadata": {},
   "outputs": [
    {
     "data": {
      "text/plain": [
       "FreqDist({'and': 646, 'the': 628, '``': 427, 'of': 417, 'a': 394, 'is': 379, '.': 327, 'in': 306, ',': 294, 'as': 260, ...})"
      ]
     },
     "execution_count": 31,
     "metadata": {},
     "output_type": "execute_result"
    }
   ],
   "source": [
    "pos=pos_freqdist-neg_freqdist\n",
    "pos"
   ]
  },
  {
   "cell_type": "code",
   "execution_count": 42,
   "metadata": {},
   "outputs": [
    {
     "data": {
      "text/plain": [
       "0"
      ]
     },
     "execution_count": 42,
     "metadata": {},
     "output_type": "execute_result"
    }
   ],
   "source": [
    "pos.get('hgertg',0)"
   ]
  },
  {
   "cell_type": "code",
   "execution_count": 54,
   "metadata": {},
   "outputs": [],
   "source": [
    "from nltk.corpus import stopwords\n",
    "stop = stopwords.words('english')\n",
    "\n",
    "def most_frequent_words(posfreq,negfreq,topk):\n",
    "    difference=[(w,f-negfreq.get(w,0)) for (w,f) in posfreq.most_common()]\n",
    "    sorteddiff=sorted(difference,key=lambda pair:pair[1],reverse=True)\n",
    "    normalised=[w.lower() for (w,f) in sorteddiff]\n",
    "    filtered=[w for w in normalised if w.isalpha() and w not in stop]\n",
    "    return filtered[:topk]"
   ]
  },
  {
   "cell_type": "code",
   "execution_count": 55,
   "metadata": {},
   "outputs": [
    {
     "name": "stdout",
     "output_type": "stream",
     "text": [
      "['great', 'well', 'also', 'love', 'best', 'season', 'first', 'man', 'family', 'wonderful', 'still', 'many', 'show', 'excellent', 'one', 'see', 'story', 'classic', 'episode', 'film', 'music', 'young', 'always', 'enjoy', 'years', 'collection', 'life', 'old', 'gives', 'features', 'comedy', 'one', 'shows', 'john', 'lot', 'job', 'played', 'amazing', 'hilarious', 'us', 'loved', 'find', 'must', 'plays', 'performance', 'anyone', 'workout', 'performances', 'watch', 'times']\n"
     ]
    }
   ],
   "source": [
    "top_pos=most_frequent_words(pos_freqdist,neg_freqdist,50)\n",
    "print(top_pos)"
   ]
  },
  {
   "cell_type": "code",
   "execution_count": 57,
   "metadata": {},
   "outputs": [
    {
     "name": "stdout",
     "output_type": "stream",
     "text": [
      "['movie', 'bad', 'like', 'could', 'would', 'nothing', 'acting', 'worst', 'boring', 'better', 'minutes', 'want', 'waste', 'book', 'movies', 'character', 'much', 'make', 'horrible', 'people', 'money', 'least', 'read', 'away', 'stupid', 'worse', 'instead', 'plot', 'ridiculous', 'even', 'quality', 'scenes', 'dull', 'something', 'actors', 'review', 'terrible', 'going', 'supposed', 'dialogue', 'reviews', 'problem', 'disappointed', 'felt', 'take', 'point', 'characters', 'actually', 'guys', 'care']\n"
     ]
    }
   ],
   "source": [
    "top_neg=most_frequent_words(neg_freqdist,pos_freqdist,50)\n",
    "print(top_neg)"
   ]
  },
  {
   "cell_type": "markdown",
   "metadata": {},
   "source": [
    "## Creating a word list based classifier\n",
    "Now you have a number of word lists for use with a classifier. \n",
    "> Make sure you understand the following code, which will be used as the basis for creating a word list based classifier."
   ]
  },
  {
   "cell_type": "code",
   "execution_count": 58,
   "metadata": {},
   "outputs": [
    {
     "data": {
      "text/plain": [
       "'P'"
      ]
     },
     "execution_count": 58,
     "metadata": {},
     "output_type": "execute_result"
    }
   ],
   "source": [
    "from nltk.classify.api import ClassifierI\n",
    "import random\n",
    "\n",
    "class SimpleClassifier(ClassifierI): \n",
    "\n",
    "    def __init__(self, pos, neg): \n",
    "        self._pos = pos \n",
    "        self._neg = neg \n",
    "\n",
    "    def classify(self, words): \n",
    "        score = 0\n",
    "        \n",
    "        # add code here that assigns an appropriate value to score\n",
    "        return \"N\" if score < 0 else \"P\"\n",
    "\n",
    "    def batch_classify(self, docs): \n",
    "        return [self.classify(doc.words() if hasattr(doc, 'words') else doc) for doc in docs] \n",
    "\n",
    "    def labels(self): \n",
    "        return (\"P\", \"N\")\n",
    "\n",
    "#Example usage:\n",
    "\n",
    "classifier = SimpleClassifier(top_pos, top_neg)\n",
    "classifier.classify(\"I read the book\".split())"
   ]
  },
  {
   "cell_type": "markdown",
   "metadata": {},
   "source": [
    "### Exercise 3.1\n",
    "\n",
    "- Copy the above code cell and move it to below this one. Then complete the `classify` method in the above code as specified below.\n",
    "- Test your classifier on several very simple hand-crafted examples to verify that you have implemented `classify` correctly.\n",
    "\n",
    "The classifier is initialised with a list of positive words, and a list of negative words. The words of a document are passed to the `classify` method (which is partially completed in the above code fragment). The `classify` method should be defined so that each occurrence of a negative word decrements `score`, and each occurrence of a positive word increments `score`. \n",
    "- For `score` less than 0, an \"`N`\" for negative should be returned.\n",
    "- For `score` greater than 0,  \"`P`\" for positive should returned.\n",
    "- For `score` of 0, the classification decision should be made randomly (see https://docs.python.org/3/library/random.html).\n"
   ]
  },
  {
   "cell_type": "code",
   "execution_count": 61,
   "metadata": {},
   "outputs": [
    {
     "data": {
      "text/plain": [
       "'P'"
      ]
     },
     "execution_count": 61,
     "metadata": {},
     "output_type": "execute_result"
    }
   ],
   "source": [
    "\n",
    "from nltk.classify.api import ClassifierI\n",
    "import random\n",
    "\n",
    "class SimpleClassifier(ClassifierI): \n",
    "\n",
    "    def __init__(self, pos, neg): \n",
    "        self._pos = pos \n",
    "        self._neg = neg \n",
    "\n",
    "    def classify(self, words): \n",
    "        score = 0\n",
    "        \n",
    "        # add code here that assigns an appropriate value to score\n",
    "        for word in words:\n",
    "            if word in self._pos:\n",
    "                score+=1\n",
    "            if word in self._neg:\n",
    "                score-=1\n",
    "        \n",
    "        return \"N\" if score < 0 else \"P\" \n",
    "\n",
    "    def batch_classify(self, docs): \n",
    "        return [self.classify(doc.words() if hasattr(doc, 'words') else doc) for doc in docs] \n",
    "\n",
    "    def labels(self): \n",
    "        return (\"P\", \"N\")\n",
    "\n",
    "#Example usage:\n",
    "\n",
    "classifier = SimpleClassifier(top_pos, top_neg)\n",
    "classifier.classify(\"I enjoyed this great movie\".split())"
   ]
  },
  {
   "cell_type": "markdown",
   "metadata": {
    "collapsed": true
   },
   "source": [
    "### Exercise 3.2\n",
    "* Extend your SimpleClassifier class so that it has a `train` function which will derive the wordlists from training data.  You could build a separate class for each way of automatically deriving wordlists (which both inherit from SimpleClassifier) OR a single class which takes an extra parameter at training time."
   ]
  },
  {
   "cell_type": "code",
   "execution_count": 14,
   "metadata": {},
   "outputs": [],
   "source": [
    "class SimpleClassifier_mf(SimpleClassifier):\n",
    "    \n",
    "    def __init__(self,k):\n",
    "        self._k=k\n",
    "    \n",
    "    def train(self,pos_train,neg_train):\n",
    "        pos_freqdist = FreqDist(get_all_words(pos_train))\n",
    "        neg_freqdist = FreqDist(get_all_words(neg_train))\n",
    "        self._pos=most_frequent_words(pos_freqdist,self._k)\n",
    "        self._neg=most_frequent_words(neg_freqdist,self._k)\n",
    "    \n",
    "    "
   ]
  },
  {
   "cell_type": "code",
   "execution_count": 15,
   "metadata": {},
   "outputs": [],
   "source": [
    "dvdclassifier=SimpleClassifier_mf(10)"
   ]
  },
  {
   "cell_type": "code",
   "execution_count": 16,
   "metadata": {},
   "outputs": [
    {
     "ename": "NameError",
     "evalue": "name 'most_frequent_words' is not defined",
     "output_type": "error",
     "traceback": [
      "\u001b[0;31m---------------------------------------------------------------------------\u001b[0m",
      "\u001b[0;31mNameError\u001b[0m                                 Traceback (most recent call last)",
      "\u001b[0;32m<ipython-input-16-ad29fbc4e311>\u001b[0m in \u001b[0;36m<module>\u001b[0;34m\u001b[0m\n\u001b[0;32m----> 1\u001b[0;31m \u001b[0mdvdclassifier\u001b[0m\u001b[0;34m.\u001b[0m\u001b[0mtrain\u001b[0m\u001b[0;34m(\u001b[0m\u001b[0mpos_train\u001b[0m\u001b[0;34m,\u001b[0m\u001b[0mneg_train\u001b[0m\u001b[0;34m)\u001b[0m\u001b[0;34m\u001b[0m\u001b[0;34m\u001b[0m\u001b[0m\n\u001b[0m",
      "\u001b[0;32m<ipython-input-14-7fdb0aee3da1>\u001b[0m in \u001b[0;36mtrain\u001b[0;34m(self, pos_train, neg_train)\u001b[0m\n\u001b[1;32m      7\u001b[0m         \u001b[0mpos_freqdist\u001b[0m \u001b[0;34m=\u001b[0m \u001b[0mFreqDist\u001b[0m\u001b[0;34m(\u001b[0m\u001b[0mget_all_words\u001b[0m\u001b[0;34m(\u001b[0m\u001b[0mpos_train\u001b[0m\u001b[0;34m)\u001b[0m\u001b[0;34m)\u001b[0m\u001b[0;34m\u001b[0m\u001b[0;34m\u001b[0m\u001b[0m\n\u001b[1;32m      8\u001b[0m         \u001b[0mneg_freqdist\u001b[0m \u001b[0;34m=\u001b[0m \u001b[0mFreqDist\u001b[0m\u001b[0;34m(\u001b[0m\u001b[0mget_all_words\u001b[0m\u001b[0;34m(\u001b[0m\u001b[0mneg_train\u001b[0m\u001b[0;34m)\u001b[0m\u001b[0;34m)\u001b[0m\u001b[0;34m\u001b[0m\u001b[0;34m\u001b[0m\u001b[0m\n\u001b[0;32m----> 9\u001b[0;31m         \u001b[0mself\u001b[0m\u001b[0;34m.\u001b[0m\u001b[0m_pos\u001b[0m\u001b[0;34m=\u001b[0m\u001b[0mmost_frequent_words\u001b[0m\u001b[0;34m(\u001b[0m\u001b[0mpos_freqdist\u001b[0m\u001b[0;34m,\u001b[0m\u001b[0mself\u001b[0m\u001b[0;34m.\u001b[0m\u001b[0m_k\u001b[0m\u001b[0;34m)\u001b[0m\u001b[0;34m\u001b[0m\u001b[0;34m\u001b[0m\u001b[0m\n\u001b[0m\u001b[1;32m     10\u001b[0m         \u001b[0mself\u001b[0m\u001b[0;34m.\u001b[0m\u001b[0m_neg\u001b[0m\u001b[0;34m=\u001b[0m\u001b[0mmost_frequent_words\u001b[0m\u001b[0;34m(\u001b[0m\u001b[0mneg_freqdist\u001b[0m\u001b[0;34m,\u001b[0m\u001b[0mself\u001b[0m\u001b[0;34m.\u001b[0m\u001b[0m_k\u001b[0m\u001b[0;34m)\u001b[0m\u001b[0;34m\u001b[0m\u001b[0;34m\u001b[0m\u001b[0m\n\u001b[1;32m     11\u001b[0m \u001b[0;34m\u001b[0m\u001b[0m\n",
      "\u001b[0;31mNameError\u001b[0m: name 'most_frequent_words' is not defined"
     ]
    }
   ],
   "source": [
    "dvdclassifier.train(pos_train,neg_train)"
   ]
  },
  {
   "cell_type": "code",
   "execution_count": null,
   "metadata": {},
   "outputs": [],
   "source": [
    "dvdclassifier.batch_classify(pos_test)"
   ]
  },
  {
   "cell_type": "code",
   "execution_count": null,
   "metadata": {},
   "outputs": [],
   "source": []
  }
 ],
 "metadata": {
  "kernelspec": {
   "display_name": "Python 3",
   "language": "python",
   "name": "python3"
  },
  "language_info": {
   "codemirror_mode": {
    "name": "ipython",
    "version": 3
   },
   "file_extension": ".py",
   "mimetype": "text/x-python",
   "name": "python",
   "nbconvert_exporter": "python",
   "pygments_lexer": "ipython3",
   "version": "3.7.3"
  }
 },
 "nbformat": 4,
 "nbformat_minor": 1
}
